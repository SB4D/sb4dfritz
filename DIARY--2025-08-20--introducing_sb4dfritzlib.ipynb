{
 "cells": [
  {
   "cell_type": "markdown",
   "id": "b615c0c1",
   "metadata": {},
   "source": [
    "# Introducing `sb4dfritzlib`\n",
    "\n",
    "I invested some time to understand how to communicate with AVM FRITZ!Box routers using the [official APIs](https://fritz.com/service/schnittstellen/). As a result, I have written my own library `sb4dfritzlib` that will eventually remove the dependency of `sb4dfritz` from the `fritzconnection` library. Not that there's anything wrong with the latter, I just wanted to know how to do it myself so that I know exactly what's going on.\n",
    "\n",
    "Another motivating factor was the faint hope to get more accurate \"real time\" power measurements from energy sensors, or at least a better understanding what causes the limitations that I encountered. Recall that `fritzconnection` returns timestamps with second precision, leaving it unclear whether they were obtained by truncating or rounding. While I had little doubt that AVM is the root of this imprecision, I couldn't rule out the data processing `fritzconnection` as a cause. I can now definitively say that `fritzconnection` simply converts the XML data returned by the FRITZ!Box to appropriate Python data types. \n",
    "\n",
    "Anyway, here's a summary of what I did:\n",
    "* I implemented the [SOAP](https://en.wikipedia.org/wiki/SOAP)-based TR-064 interface (see `sb4dfritzlib.connection`).\n",
    "* I implemented the simpler AHA-HTTP interface and the required login procedure (see `sb4dfritzlib.connection`).\n",
    "* I implemented various utilities for data conversion (see `sb4dfritzlib.utilities`).\n",
    "* The core functionality is implemented in `sb4dfritzlib.homeauto` which provides classes `HomeAutoSystem` and `HomeAutoDevice` for object-based interaction with home automation devices."
   ]
  },
  {
   "cell_type": "markdown",
   "id": "f3a7e027",
   "metadata": {},
   "source": [
    "## Comparing `sb4dfritzlib` and `fritzconnection`\n",
    "\n"
   ]
  },
  {
   "cell_type": "code",
   "execution_count": 1,
   "id": "059d785a",
   "metadata": {},
   "outputs": [],
   "source": [
    "import importlib\n",
    "import sys\n",
    "import json \n",
    "\n",
    "import fritzconnection\n",
    "import sb4dfritzlib\n",
    "_ = importlib.reload(sys.modules['sb4dfritzlib'])\n",
    "\n",
    "from sb4dfritzlib.connection import FritzUser\n",
    "from sb4dfritzlib.homeauto import HomeAutoSystem\n",
    "\n",
    "CONFIG_FILE = \"..\\\\..\\\\_private_files\\\\sb4dfritz_secrets.ini\"\n",
    "with open(CONFIG_FILE,\"r\") as file:\n",
    "    CONFIG = json.load(file)\n",
    "# extract login data\n",
    "USER = CONFIG['login']['user']\n",
    "PWD = CONFIG['login']['pwd']\n",
    "IP = CONFIG['login']['ip']\n"
   ]
  },
  {
   "cell_type": "markdown",
   "id": "447ac851",
   "metadata": {},
   "source": [
    "Here's how to connect to the home automation system using `sb4dfritzlib`:"
   ]
  },
  {
   "cell_type": "code",
   "execution_count": 2,
   "id": "273f650e",
   "metadata": {},
   "outputs": [
    {
     "name": "stdout",
     "output_type": "stream",
     "text": [
      "Registered home automation devices:\n",
      " - l'angolo del caffè (AVM FRITZ!Smart Energy 200)\n",
      " - radiatore nel soggiorno (AVM FRITZ!Smart Thermo 301)\n",
      " - radiatore musicale (AVM FRITZ!Smart Thermo 301)\n",
      " - radiatore nella cucina (AVM FRITZ!Smart Thermo 301)\n",
      " - TV etc (AVM FRITZ!Smart Energy 200)\n"
     ]
    }
   ],
   "source": [
    "# Create FritzUser from credentials\n",
    "sb4d_user = FritzUser(USER, PWD, IP)\n",
    "# Connect to home automation system\n",
    "sb4d_home_auto_system = HomeAutoSystem(sb4d_user)\n",
    "# List registered devices\n",
    "print(\"Registered home automation devices:\")\n",
    "for device in sb4d_home_auto_system.devices:\n",
    "    print(\" -\", device)"
   ]
  },
  {
   "cell_type": "markdown",
   "id": "6aa69f19",
   "metadata": {},
   "source": [
    "Under the hood, the instantiation of `HomeAutoSystem` first log in to obtains a valied session id, then asks for a list of connected devices, and creats a `HomeAutoDevice` object for each device. \n",
    "\n",
    "In my case, the first device is a smart plug which functions as an on/off switch for my espresso machine. Let's check it's current power consumption:"
   ]
  },
  {
   "cell_type": "code",
   "execution_count": 3,
   "id": "c231f594",
   "metadata": {},
   "outputs": [],
   "source": [
    "# Give coffe machine a dedicated variable\n",
    "sb4d_caffe = sb4d_home_auto_system.devices[0]\n",
    "sb4d_tv = sb4d_home_auto_system.devices[4]\n"
   ]
  },
  {
   "cell_type": "code",
   "execution_count": 4,
   "id": "0253198a",
   "metadata": {},
   "outputs": [
    {
     "name": "stdout",
     "output_type": "stream",
     "text": [
      "Current power consumption and timing information:\n",
      " - power           3.29\n",
      " - datatime        2025-08-21 09:49:09\n",
      " - starttime       2025-08-21 09:50:27.770196\n",
      " - endtime         2025-08-21 09:50:28.598014\n",
      " - duration        0.827818\n",
      " - latency         79.598014\n",
      " - offset          -78.770196\n"
     ]
    }
   ],
   "source": [
    "# Get latest power measurement together with timing information\n",
    "power_record = sb4d_caffe.get_latest_power_record()\n",
    "print(\"Current power consumption and timing information:\")\n",
    "for key, val in power_record.items():\n",
    "    print(f\" - {key:15s} {val}\")"
   ]
  },
  {
   "cell_type": "markdown",
   "id": "22b64ca6",
   "metadata": {},
   "source": [
    "As you can guess, the smart plug reported 0.0 W as `power` at the time `datatime`. \n",
    "The parameters `starttime` and `endtime` record the times that the network request to obtain the data was sent and received, respectively.\n",
    "Lastly, `duration` is the total request time in seconds while `latency` and `offset` compare the `endtime` and `starttime` to `datatime`, respectively.\n",
    "The large values are typical if no request has been made recently. \n",
    "\n",
    "At this point, it should not go unnotices that a latency of over 50 seconds, meaning that the measurement was over 50 seconds ago, can hardly be considered \"real time\". \n",
    "\n",
    "Let's make a few more requests to see what happens over time."
   ]
  },
  {
   "cell_type": "code",
   "execution_count": 5,
   "id": "9f523352",
   "metadata": {},
   "outputs": [],
   "source": [
    "OUTPUT_TEMPLATE = \"\"\"{:4s} Request: {:s} | Power: {:6.1f} W | Timestamp: {:s} | Duration: {:0.2f} | Latency: {:6.2f}\"\"\""
   ]
  },
  {
   "cell_type": "code",
   "execution_count": null,
   "id": "7775befe",
   "metadata": {},
   "outputs": [],
   "source": [
    "for k in range(25):\n",
    "    data = sb4d_caffe.get_latest_power_record()\n",
    "    output = OUTPUT_TEMPLATE.format(\n",
    "        f\"({k+1})\",\n",
    "        data['starttime'].strftime(\"%H:%M:%S.%f\"),\n",
    "        data['power'],\n",
    "        data['datatime'].strftime(\"%H:%M:%S\"),\n",
    "        data['duration'],\n",
    "        data['latency'],\n",
    "    )\n",
    "    print(output)\n"
   ]
  },
  {
   "cell_type": "markdown",
   "id": "25fe6b43",
   "metadata": {},
   "source": [
    "From the above results, we can take away a few thing:\n",
    "\n",
    "* Request normally take around 0.75 to 0.8 seconds, occasionally a little longer.\n",
    "* The timestamp jumps 10 second interval. This means that power is measured only every 10 seconds. It also means that the **data requests *do not* trigger a measurements!** Measurements are taken periodically at times unrelated to the requests.\n",
    "* On repeated requests, the latency does not exceed 10 seconds by much. This indicates some undocumented \"sleep mode\" which reduces the update frequency in longer time stretches without data requests.\n",
    "\n",
    "If you're interested in real time information, this is bad news. A random request will give you a power value recorded some time in the last ~12.5 seconds, if you're lucky. Again, I would not consider this as \"real time\". After a little thought, you should realize that,  given the network latency (reflected in the request duration) and the second presicion in the timestamp, it's impossible to determine the time of measurement precisely from the provided data. There is always going to be some latency, and in bad cases you cannot expect to do better than ~2 seconds of latency. \n",
    "\n",
    "My personal motivation was to switch off my coffee machine only when it's idle (indicated by a power consumption below 5 W). The problem is that the machine has irregular heating cycles, even if it's not actively being used. \n",
    "\n",
    "**Problem:** How to time the data requests to guarantee minimal possible latency?\n",
    "\n"
   ]
  },
  {
   "cell_type": "code",
   "execution_count": 6,
   "id": "6c6b14fb",
   "metadata": {},
   "outputs": [],
   "source": [
    "power_monitor = []"
   ]
  },
  {
   "cell_type": "code",
   "execution_count": 7,
   "id": "3c0aaa3f",
   "metadata": {},
   "outputs": [
    {
     "name": "stdout",
     "output_type": "stream",
     "text": [
      "(1)  Request: 09:51:00.844969 | Power:    3.3 W | Timestamp: 09:50:57 | Duration: 0.83 | Latency:   4.67\n",
      "(2)  Request: 09:51:01.671909 | Power:    3.3 W | Timestamp: 09:50:57 | Duration: 0.80 | Latency:   5.47\n",
      "(3)  Request: 09:51:02.474250 | Power:    3.3 W | Timestamp: 09:50:57 | Duration: 1.27 | Latency:   6.74\n",
      "(4)  Request: 09:51:03.744075 | Power:    3.3 W | Timestamp: 09:50:57 | Duration: 0.82 | Latency:   7.56\n",
      "(5)  Request: 09:51:04.564214 | Power:    3.3 W | Timestamp: 09:50:57 | Duration: 0.82 | Latency:   8.39\n",
      "(6)  Request: 09:51:05.386601 | Power:    3.3 W | Timestamp: 09:50:57 | Duration: 0.82 | Latency:   9.21\n",
      "(7)  Request: 09:51:06.208129 | Power:    3.3 W | Timestamp: 09:50:57 | Duration: 0.92 | Latency:  10.12\n",
      "(8)  Request: 09:51:07.124101 | Power:    3.3 W | Timestamp: 09:50:57 | Duration: 0.83 | Latency:  10.95\n",
      "(9)  Request: 09:51:07.951681 | Power:    3.3 W | Timestamp: 09:50:57 | Duration: 0.88 | Latency:  11.84\n",
      "(10) Request: 09:51:08.836661 | Power:    3.3 W | Timestamp: 09:51:07 | Duration: 0.81 | Latency:   2.65\n",
      "(11) Request: 09:51:09.647712 | Power:    3.3 W | Timestamp: 09:51:07 | Duration: 0.85 | Latency:   3.50\n",
      "(12) Request: 09:51:10.501992 | Power:    3.3 W | Timestamp: 09:51:07 | Duration: 0.82 | Latency:   4.32\n",
      "(13) Request: 09:51:11.324532 | Power:    3.3 W | Timestamp: 09:51:07 | Duration: 0.81 | Latency:   5.14\n",
      "(14) Request: 09:51:12.139617 | Power:    3.3 W | Timestamp: 09:51:07 | Duration: 1.03 | Latency:   6.17\n",
      "(15) Request: 09:51:13.173458 | Power:    3.3 W | Timestamp: 09:51:07 | Duration: 0.84 | Latency:   7.01\n",
      "(16) Request: 09:51:14.014389 | Power:    3.3 W | Timestamp: 09:51:07 | Duration: 0.81 | Latency:   7.82\n",
      "(17) Request: 09:51:14.822186 | Power:    3.3 W | Timestamp: 09:51:07 | Duration: 0.86 | Latency:   8.69\n",
      "(18) Request: 09:51:15.687021 | Power:    3.3 W | Timestamp: 09:51:07 | Duration: 0.81 | Latency:   9.50\n",
      "(19) Request: 09:51:16.499496 | Power:    3.3 W | Timestamp: 09:51:07 | Duration: 0.81 | Latency:  10.31\n",
      "(20) Request: 09:51:17.308800 | Power:    3.3 W | Timestamp: 09:51:07 | Duration: 0.81 | Latency:  11.12\n",
      "(21) Request: 09:51:18.117375 | Power:    3.3 W | Timestamp: 09:51:07 | Duration: 0.82 | Latency:  11.94\n",
      "(22) Request: 09:51:18.942047 | Power: 1446.0 W | Timestamp: 09:51:17 | Duration: 0.87 | Latency:   2.82\n",
      "(23) Request: 09:51:19.815829 | Power: 1446.0 W | Timestamp: 09:51:17 | Duration: 0.82 | Latency:   3.64\n",
      "(24) Request: 09:51:20.639653 | Power: 1446.0 W | Timestamp: 09:51:17 | Duration: 0.82 | Latency:   4.46\n",
      "(25) Request: 09:51:21.458728 | Power: 1446.0 W | Timestamp: 09:51:17 | Duration: 0.84 | Latency:   5.30\n",
      "(26) Request: 09:51:22.295778 | Power: 1446.0 W | Timestamp: 09:51:17 | Duration: 0.80 | Latency:   6.10\n",
      "(27) Request: 09:51:23.100397 | Power: 1446.0 W | Timestamp: 09:51:17 | Duration: 0.82 | Latency:   6.92\n",
      "(28) Request: 09:51:23.918077 | Power: 1446.0 W | Timestamp: 09:51:17 | Duration: 0.82 | Latency:   7.74\n",
      "(29) Request: 09:51:24.738343 | Power: 1446.0 W | Timestamp: 09:51:17 | Duration: 0.82 | Latency:   8.56\n",
      "(30) Request: 09:51:25.555779 | Power: 1446.0 W | Timestamp: 09:51:17 | Duration: 0.80 | Latency:   9.35\n",
      "(31) Request: 09:51:26.353638 | Power: 1446.0 W | Timestamp: 09:51:17 | Duration: 0.81 | Latency:  10.16\n",
      "(32) Request: 09:51:27.160877 | Power: 1446.0 W | Timestamp: 09:51:17 | Duration: 0.85 | Latency:  11.01\n",
      "(33) Request: 09:51:28.014789 | Power: 1446.0 W | Timestamp: 09:51:17 | Duration: 0.84 | Latency:  11.85\n",
      "(34) Request: 09:51:28.850305 | Power:  865.2 W | Timestamp: 09:51:27 | Duration: 0.81 | Latency:   2.66\n",
      "(35) Request: 09:51:29.658761 | Power:  865.2 W | Timestamp: 09:51:27 | Duration: 0.81 | Latency:   3.47\n",
      "(36) Request: 09:51:30.470185 | Power:  865.2 W | Timestamp: 09:51:27 | Duration: 0.82 | Latency:   4.29\n",
      "(37) Request: 09:51:31.288803 | Power:  865.2 W | Timestamp: 09:51:27 | Duration: 0.93 | Latency:   5.21\n",
      "(38) Request: 09:51:32.214540 | Power:  865.2 W | Timestamp: 09:51:27 | Duration: 0.82 | Latency:   6.03\n",
      "(39) Request: 09:51:33.032334 | Power:  865.2 W | Timestamp: 09:51:27 | Duration: 0.82 | Latency:   6.85\n",
      "(40) Request: 09:51:33.851298 | Power:  865.2 W | Timestamp: 09:51:27 | Duration: 0.82 | Latency:   7.67\n",
      "(41) Request: 09:51:34.668373 | Power:  865.2 W | Timestamp: 09:51:27 | Duration: 0.86 | Latency:   8.53\n",
      "(42) Request: 09:51:35.525449 | Power:  865.2 W | Timestamp: 09:51:27 | Duration: 0.91 | Latency:   9.43\n",
      "(43) Request: 09:51:36.431672 | Power:  865.2 W | Timestamp: 09:51:27 | Duration: 0.89 | Latency:  10.32\n",
      "(44) Request: 09:51:37.324579 | Power:  865.2 W | Timestamp: 09:51:27 | Duration: 0.83 | Latency:  11.16\n",
      "(45) Request: 09:51:38.159689 | Power:    3.3 W | Timestamp: 09:51:37 | Duration: 0.84 | Latency:   2.00\n",
      "(46) Request: 09:51:39.004974 | Power:    3.3 W | Timestamp: 09:51:37 | Duration: 0.80 | Latency:   2.81\n",
      "(47) Request: 09:51:39.807683 | Power:    3.3 W | Timestamp: 09:51:37 | Duration: 0.82 | Latency:   3.63\n",
      "(48) Request: 09:51:40.628897 | Power:    3.3 W | Timestamp: 09:51:37 | Duration: 0.81 | Latency:   4.44\n",
      "(49) Request: 09:51:41.435756 | Power:    3.3 W | Timestamp: 09:51:37 | Duration: 0.81 | Latency:   5.25\n",
      "(50) Request: 09:51:42.251538 | Power:    3.3 W | Timestamp: 09:51:37 | Duration: 0.92 | Latency:   6.17\n",
      "(51) Request: 09:51:43.168142 | Power:    3.3 W | Timestamp: 09:51:37 | Duration: 0.84 | Latency:   7.01\n",
      "(52) Request: 09:51:44.006425 | Power:    3.3 W | Timestamp: 09:51:37 | Duration: 0.82 | Latency:   7.83\n",
      "(53) Request: 09:51:44.825550 | Power:    3.3 W | Timestamp: 09:51:37 | Duration: 0.90 | Latency:   8.73\n",
      "(54) Request: 09:51:45.729111 | Power:    3.3 W | Timestamp: 09:51:37 | Duration: 0.85 | Latency:   9.58\n",
      "(55) Request: 09:51:46.577147 | Power:    3.3 W | Timestamp: 09:51:37 | Duration: 0.87 | Latency:  10.45\n",
      "(56) Request: 09:51:47.450290 | Power:    3.3 W | Timestamp: 09:51:37 | Duration: 0.90 | Latency:  11.35\n",
      "(57) Request: 09:51:48.352366 | Power:    3.4 W | Timestamp: 09:51:47 | Duration: 1.17 | Latency:   2.52\n",
      "(58) Request: 09:51:49.521236 | Power:    3.4 W | Timestamp: 09:51:47 | Duration: 0.83 | Latency:   3.35\n",
      "(59) Request: 09:51:50.350118 | Power:    3.4 W | Timestamp: 09:51:47 | Duration: 0.91 | Latency:   4.26\n",
      "(60) Request: 09:51:51.256594 | Power:    3.4 W | Timestamp: 09:51:47 | Duration: 0.84 | Latency:   5.10\n",
      "(61) Request: 09:51:52.101631 | Power:    3.4 W | Timestamp: 09:51:47 | Duration: 0.90 | Latency:   6.00\n",
      "(62) Request: 09:51:52.998436 | Power:    3.4 W | Timestamp: 09:51:47 | Duration: 0.82 | Latency:   6.82\n",
      "(63) Request: 09:51:53.818542 | Power:    3.4 W | Timestamp: 09:51:47 | Duration: 0.92 | Latency:   7.74\n",
      "(64) Request: 09:51:54.740174 | Power:    3.4 W | Timestamp: 09:51:47 | Duration: 0.84 | Latency:   8.58\n",
      "(65) Request: 09:51:55.580138 | Power:    3.4 W | Timestamp: 09:51:47 | Duration: 0.81 | Latency:   9.39\n",
      "(66) Request: 09:51:56.391807 | Power:    3.4 W | Timestamp: 09:51:47 | Duration: 0.86 | Latency:  10.25\n",
      "(67) Request: 09:51:57.251876 | Power:    3.4 W | Timestamp: 09:51:47 | Duration: 0.97 | Latency:  11.22\n",
      "(68) Request: 09:51:58.224361 | Power:    3.4 W | Timestamp: 09:51:57 | Duration: 0.92 | Latency:   2.14\n",
      "(69) Request: 09:51:59.142866 | Power:    3.4 W | Timestamp: 09:51:57 | Duration: 0.82 | Latency:   2.96\n",
      "(70) Request: 09:51:59.963395 | Power:    3.4 W | Timestamp: 09:51:57 | Duration: 0.82 | Latency:   3.78\n",
      "(71) Request: 09:52:00.781563 | Power:    3.4 W | Timestamp: 09:51:57 | Duration: 0.82 | Latency:   4.60\n",
      "(72) Request: 09:52:01.602193 | Power:    3.4 W | Timestamp: 09:51:57 | Duration: 0.82 | Latency:   5.42\n",
      "(73) Request: 09:52:02.419639 | Power:    3.4 W | Timestamp: 09:51:57 | Duration: 1.33 | Latency:   6.75\n",
      "(74) Request: 09:52:03.751991 | Power:    3.4 W | Timestamp: 09:51:57 | Duration: 0.83 | Latency:   7.58\n",
      "(75) Request: 09:52:04.582503 | Power:    3.4 W | Timestamp: 09:51:57 | Duration: 0.91 | Latency:   8.49\n",
      "(76) Request: 09:52:05.491356 | Power:    3.4 W | Timestamp: 09:51:57 | Duration: 0.83 | Latency:   9.32\n",
      "(77) Request: 09:52:06.325105 | Power:    3.4 W | Timestamp: 09:51:57 | Duration: 0.81 | Latency:  10.14\n",
      "(78) Request: 09:52:07.138624 | Power:    3.4 W | Timestamp: 09:51:57 | Duration: 1.07 | Latency:  11.21\n",
      "(79) Request: 09:52:08.208921 | Power:    3.3 W | Timestamp: 09:52:07 | Duration: 0.87 | Latency:   2.08\n",
      "(80) Request: 09:52:09.076549 | Power:    3.3 W | Timestamp: 09:52:07 | Duration: 0.82 | Latency:   2.90\n",
      "(81) Request: 09:52:09.899888 | Power:    3.3 W | Timestamp: 09:52:07 | Duration: 0.81 | Latency:   3.71\n",
      "(82) Request: 09:52:10.716316 | Power:    3.3 W | Timestamp: 09:52:07 | Duration: 0.82 | Latency:   4.53\n",
      "(83) Request: 09:52:11.533665 | Power:    3.3 W | Timestamp: 09:52:07 | Duration: 0.82 | Latency:   5.35\n",
      "(84) Request: 09:52:12.353847 | Power:    3.3 W | Timestamp: 09:52:07 | Duration: 1.15 | Latency:   6.50\n",
      "(85) Request: 09:52:13.504468 | Power:    3.3 W | Timestamp: 09:52:07 | Duration: 0.84 | Latency:   7.35\n",
      "(86) Request: 09:52:14.349068 | Power:    3.3 W | Timestamp: 09:52:07 | Duration: 0.87 | Latency:   8.22\n",
      "(87) Request: 09:52:15.218886 | Power:    3.3 W | Timestamp: 09:52:07 | Duration: 0.93 | Latency:   9.14\n",
      "(88) Request: 09:52:16.145023 | Power:    3.3 W | Timestamp: 09:52:07 | Duration: 0.83 | Latency:   9.98\n",
      "(89) Request: 09:52:16.980202 | Power:    3.3 W | Timestamp: 09:52:07 | Duration: 0.91 | Latency:  10.89\n",
      "(90) Request: 09:52:17.890656 | Power:    3.3 W | Timestamp: 09:52:07 | Duration: 0.81 | Latency:  11.70\n",
      "(91) Request: 09:52:18.701857 | Power:    3.4 W | Timestamp: 09:52:17 | Duration: 0.90 | Latency:   2.60\n",
      "(92) Request: 09:52:19.599948 | Power:    3.4 W | Timestamp: 09:52:17 | Duration: 0.88 | Latency:   3.48\n",
      "(93) Request: 09:52:20.475483 | Power:    3.4 W | Timestamp: 09:52:17 | Duration: 0.89 | Latency:   4.36\n",
      "(94) Request: 09:52:21.364990 | Power:    3.4 W | Timestamp: 09:52:17 | Duration: 0.88 | Latency:   5.25\n",
      "(95) Request: 09:52:22.246347 | Power:    3.4 W | Timestamp: 09:52:17 | Duration: 0.86 | Latency:   6.10\n",
      "(96) Request: 09:52:23.104732 | Power:    3.4 W | Timestamp: 09:52:17 | Duration: 0.82 | Latency:   6.93\n",
      "(97) Request: 09:52:23.927661 | Power:    3.4 W | Timestamp: 09:52:17 | Duration: 0.85 | Latency:   7.78\n",
      "(98) Request: 09:52:24.780297 | Power:    3.4 W | Timestamp: 09:52:17 | Duration: 0.80 | Latency:   8.58\n",
      "(99) Request: 09:52:25.583272 | Power:    3.4 W | Timestamp: 09:52:17 | Duration: 0.88 | Latency:   9.46\n",
      "(100) Request: 09:52:26.460964 | Power:    3.4 W | Timestamp: 09:52:17 | Duration: 0.81 | Latency:  10.27\n",
      "(101) Request: 09:52:27.269433 | Power:    3.4 W | Timestamp: 09:52:17 | Duration: 0.88 | Latency:  11.14\n",
      "(102) Request: 09:52:28.145962 | Power:    3.4 W | Timestamp: 09:52:17 | Duration: 0.83 | Latency:  11.98\n",
      "(103) Request: 09:52:28.979777 | Power:  152.3 W | Timestamp: 09:52:27 | Duration: 0.83 | Latency:   2.81\n",
      "(104) Request: 09:52:29.813248 | Power:  152.3 W | Timestamp: 09:52:27 | Duration: 0.87 | Latency:   3.69\n",
      "(105) Request: 09:52:30.685738 | Power:  152.3 W | Timestamp: 09:52:27 | Duration: 0.81 | Latency:   4.49\n",
      "(106) Request: 09:52:31.492445 | Power:  152.3 W | Timestamp: 09:52:27 | Duration: 0.83 | Latency:   5.32\n",
      "(107) Request: 09:52:32.322752 | Power:  152.3 W | Timestamp: 09:52:27 | Duration: 0.85 | Latency:   6.17\n",
      "(108) Request: 09:52:33.172783 | Power:  152.3 W | Timestamp: 09:52:27 | Duration: 0.83 | Latency:   7.00\n",
      "(109) Request: 09:52:34.001498 | Power:  152.3 W | Timestamp: 09:52:27 | Duration: 0.81 | Latency:   7.81\n",
      "(110) Request: 09:52:34.807909 | Power:  152.3 W | Timestamp: 09:52:27 | Duration: 0.81 | Latency:   8.61\n",
      "(111) Request: 09:52:35.613947 | Power:  152.3 W | Timestamp: 09:52:27 | Duration: 0.81 | Latency:   9.42\n",
      "(112) Request: 09:52:36.420605 | Power:  152.3 W | Timestamp: 09:52:27 | Duration: 0.81 | Latency:  10.23\n",
      "(113) Request: 09:52:37.233143 | Power:  152.3 W | Timestamp: 09:52:27 | Duration: 0.81 | Latency:  11.05\n",
      "(114) Request: 09:52:38.046038 | Power:  152.3 W | Timestamp: 09:52:27 | Duration: 0.81 | Latency:  11.86\n",
      "(115) Request: 09:52:38.858042 | Power:  314.2 W | Timestamp: 09:52:37 | Duration: 0.82 | Latency:   2.67\n",
      "(116) Request: 09:52:39.674067 | Power:  314.2 W | Timestamp: 09:52:37 | Duration: 0.82 | Latency:   3.49\n",
      "(117) Request: 09:52:40.494445 | Power:  314.2 W | Timestamp: 09:52:37 | Duration: 0.84 | Latency:   4.34\n",
      "(118) Request: 09:52:41.335573 | Power:  314.2 W | Timestamp: 09:52:37 | Duration: 0.83 | Latency:   5.16\n",
      "(119) Request: 09:52:42.163301 | Power:  314.2 W | Timestamp: 09:52:37 | Duration: 0.84 | Latency:   6.00\n",
      "(120) Request: 09:52:43.001345 | Power:  314.2 W | Timestamp: 09:52:37 | Duration: 0.80 | Latency:   6.80\n",
      "(121) Request: 09:52:43.803440 | Power:  314.2 W | Timestamp: 09:52:37 | Duration: 1.02 | Latency:   7.83\n",
      "(122) Request: 09:52:44.826937 | Power:  314.2 W | Timestamp: 09:52:37 | Duration: 0.91 | Latency:   8.73\n",
      "(123) Request: 09:52:45.735014 | Power:  314.2 W | Timestamp: 09:52:37 | Duration: 0.92 | Latency:   9.66\n",
      "(124) Request: 09:52:46.657306 | Power:  314.2 W | Timestamp: 09:52:37 | Duration: 0.84 | Latency:  10.50\n",
      "(125) Request: 09:52:47.502591 | Power:  314.2 W | Timestamp: 09:52:37 | Duration: 0.89 | Latency:  11.39\n",
      "(126) Request: 09:52:48.392996 | Power:  364.1 W | Timestamp: 09:52:47 | Duration: 0.82 | Latency:   2.22\n",
      "(127) Request: 09:52:49.218051 | Power:  364.1 W | Timestamp: 09:52:47 | Duration: 0.88 | Latency:   3.09\n",
      "(128) Request: 09:52:50.094804 | Power:  364.1 W | Timestamp: 09:52:47 | Duration: 0.93 | Latency:   4.02\n",
      "(129) Request: 09:52:51.023703 | Power:  364.1 W | Timestamp: 09:52:47 | Duration: 1.16 | Latency:   5.19\n",
      "(130) Request: 09:52:52.186562 | Power:  364.1 W | Timestamp: 09:52:47 | Duration: 0.83 | Latency:   6.02\n",
      "(131) Request: 09:52:53.020591 | Power:  364.1 W | Timestamp: 09:52:47 | Duration: 0.81 | Latency:   6.83\n",
      "(132) Request: 09:52:53.830856 | Power:  364.1 W | Timestamp: 09:52:47 | Duration: 0.82 | Latency:   7.66\n",
      "(133) Request: 09:52:54.655784 | Power:  364.1 W | Timestamp: 09:52:47 | Duration: 0.81 | Latency:   8.46\n",
      "(134) Request: 09:52:55.463955 | Power:  364.1 W | Timestamp: 09:52:47 | Duration: 0.82 | Latency:   9.28\n",
      "(135) Request: 09:52:56.283872 | Power:  364.1 W | Timestamp: 09:52:47 | Duration: 0.81 | Latency:  10.09\n",
      "(136) Request: 09:52:57.092726 | Power:  364.1 W | Timestamp: 09:52:47 | Duration: 0.81 | Latency:  10.90\n",
      "(137) Request: 09:52:57.901496 | Power:  364.1 W | Timestamp: 09:52:47 | Duration: 0.84 | Latency:  11.75\n",
      "(138) Request: 09:52:58.746293 | Power:    3.4 W | Timestamp: 09:52:57 | Duration: 0.82 | Latency:   2.56\n",
      "(139) Request: 09:52:59.563001 | Power:    3.4 W | Timestamp: 09:52:57 | Duration: 0.82 | Latency:   3.39\n",
      "(140) Request: 09:53:00.387725 | Power:    3.4 W | Timestamp: 09:52:57 | Duration: 0.91 | Latency:   4.30\n",
      "(141) Request: 09:53:01.301853 | Power:    3.4 W | Timestamp: 09:52:57 | Duration: 0.82 | Latency:   5.12\n",
      "(142) Request: 09:53:02.119679 | Power:    3.4 W | Timestamp: 09:52:57 | Duration: 0.82 | Latency:   5.94\n",
      "(143) Request: 09:53:02.940462 | Power:    3.4 W | Timestamp: 09:52:57 | Duration: 1.23 | Latency:   7.17\n",
      "(144) Request: 09:53:04.169396 | Power:    3.4 W | Timestamp: 09:52:57 | Duration: 0.82 | Latency:   7.99\n",
      "(145) Request: 09:53:04.989804 | Power:    3.4 W | Timestamp: 09:52:57 | Duration: 0.82 | Latency:   8.81\n",
      "(146) Request: 09:53:05.805776 | Power:    3.4 W | Timestamp: 09:52:57 | Duration: 0.84 | Latency:   9.64\n",
      "(147) Request: 09:53:06.644888 | Power:    3.4 W | Timestamp: 09:52:57 | Duration: 0.80 | Latency:  10.45\n",
      "(148) Request: 09:53:07.449727 | Power:    3.4 W | Timestamp: 09:52:57 | Duration: 0.82 | Latency:  11.27\n",
      "(149) Request: 09:53:08.267465 | Power:    3.4 W | Timestamp: 09:53:07 | Duration: 0.82 | Latency:   2.08\n",
      "(150) Request: 09:53:09.084241 | Power:    3.4 W | Timestamp: 09:53:07 | Duration: 0.82 | Latency:   2.90\n",
      "(151) Request: 09:53:09.902822 | Power:    3.4 W | Timestamp: 09:53:07 | Duration: 0.82 | Latency:   3.72\n",
      "(152) Request: 09:53:10.722125 | Power:    3.4 W | Timestamp: 09:53:07 | Duration: 0.82 | Latency:   4.54\n",
      "(153) Request: 09:53:11.544303 | Power:    3.4 W | Timestamp: 09:53:07 | Duration: 0.82 | Latency:   5.36\n"
     ]
    },
    {
     "ename": "KeyboardInterrupt",
     "evalue": "",
     "output_type": "error",
     "traceback": [
      "\u001b[1;31m---------------------------------------------------------------------------\u001b[0m",
      "\u001b[1;31mKeyboardInterrupt\u001b[0m                         Traceback (most recent call last)",
      "\u001b[1;32m~\\AppData\\Local\\Temp\\ipykernel_17800\\191278219.py\u001b[0m in \u001b[0;36m<cell line: 0>\u001b[1;34m()\u001b[0m\n\u001b[0;32m      2\u001b[0m \u001b[1;32mwhile\u001b[0m \u001b[1;32mTrue\u001b[0m\u001b[1;33m:\u001b[0m\u001b[1;33m\u001b[0m\u001b[1;33m\u001b[0m\u001b[0m\n\u001b[0;32m      3\u001b[0m     \u001b[0mk\u001b[0m\u001b[1;33m+=\u001b[0m\u001b[1;36m1\u001b[0m\u001b[1;33m\u001b[0m\u001b[1;33m\u001b[0m\u001b[0m\n\u001b[1;32m----> 4\u001b[1;33m     \u001b[0mdata\u001b[0m \u001b[1;33m=\u001b[0m \u001b[0msb4d_caffe\u001b[0m\u001b[1;33m.\u001b[0m\u001b[0mget_latest_power_record\u001b[0m\u001b[1;33m(\u001b[0m\u001b[1;33m)\u001b[0m\u001b[1;33m\u001b[0m\u001b[1;33m\u001b[0m\u001b[0m\n\u001b[0m\u001b[0;32m      5\u001b[0m     \u001b[0mpower_monitor\u001b[0m\u001b[1;33m.\u001b[0m\u001b[0mappend\u001b[0m\u001b[1;33m(\u001b[0m\u001b[0mdata\u001b[0m\u001b[1;33m)\u001b[0m\u001b[1;33m\u001b[0m\u001b[1;33m\u001b[0m\u001b[0m\n\u001b[0;32m      6\u001b[0m     output = OUTPUT_TEMPLATE.format(\n",
      "\u001b[1;32md:\\OneDrive\\IT STUFF\\#CODING\\GITHUB\\sb4dfritz\\sb4dfritzlib\\homeauto\\models.py\u001b[0m in \u001b[0;36mget_latest_power_record\u001b[1;34m(self)\u001b[0m\n\u001b[0;32m     84\u001b[0m     \u001b[1;32mdef\u001b[0m \u001b[0mget_latest_power_record\u001b[0m\u001b[1;33m(\u001b[0m\u001b[0mself\u001b[0m\u001b[1;33m)\u001b[0m\u001b[1;33m:\u001b[0m\u001b[1;33m\u001b[0m\u001b[1;33m\u001b[0m\u001b[0m\n\u001b[0;32m     85\u001b[0m         \u001b[0mstart\u001b[0m \u001b[1;33m=\u001b[0m \u001b[0mdatetime\u001b[0m\u001b[1;33m.\u001b[0m\u001b[0mnow\u001b[0m\u001b[1;33m(\u001b[0m\u001b[1;33m)\u001b[0m\u001b[1;33m\u001b[0m\u001b[1;33m\u001b[0m\u001b[0m\n\u001b[1;32m---> 86\u001b[1;33m         \u001b[0mpower_stats\u001b[0m \u001b[1;33m=\u001b[0m \u001b[0mself\u001b[0m\u001b[1;33m.\u001b[0m\u001b[0mget_power_measurements\u001b[0m\u001b[1;33m(\u001b[0m\u001b[1;33m)\u001b[0m\u001b[1;33m\u001b[0m\u001b[1;33m\u001b[0m\u001b[0m\n\u001b[0m\u001b[0;32m     87\u001b[0m         \u001b[0mend\u001b[0m \u001b[1;33m=\u001b[0m \u001b[0mdatetime\u001b[0m\u001b[1;33m.\u001b[0m\u001b[0mnow\u001b[0m\u001b[1;33m(\u001b[0m\u001b[1;33m)\u001b[0m\u001b[1;33m\u001b[0m\u001b[1;33m\u001b[0m\u001b[0m\n\u001b[0;32m     88\u001b[0m         \u001b[0mdatatime\u001b[0m\u001b[1;33m:\u001b[0m\u001b[0mdatetime\u001b[0m \u001b[1;33m=\u001b[0m \u001b[0mpower_stats\u001b[0m\u001b[1;33m[\u001b[0m\u001b[1;34m'datatime'\u001b[0m\u001b[1;33m]\u001b[0m\u001b[1;33m\u001b[0m\u001b[1;33m\u001b[0m\u001b[0m\n",
      "\u001b[1;32md:\\OneDrive\\IT STUFF\\#CODING\\GITHUB\\sb4dfritz\\sb4dfritzlib\\homeauto\\models.py\u001b[0m in \u001b[0;36mget_power_measurements\u001b[1;34m(self)\u001b[0m\n\u001b[0;32m     79\u001b[0m \u001b[1;33m\u001b[0m\u001b[0m\n\u001b[0;32m     80\u001b[0m     \u001b[1;32mdef\u001b[0m \u001b[0mget_power_measurements\u001b[0m\u001b[1;33m(\u001b[0m\u001b[0mself\u001b[0m\u001b[1;33m)\u001b[0m\u001b[1;33m:\u001b[0m\u001b[1;33m\u001b[0m\u001b[1;33m\u001b[0m\u001b[0m\n\u001b[1;32m---> 81\u001b[1;33m         \u001b[0mstats\u001b[0m \u001b[1;33m=\u001b[0m \u001b[0mself\u001b[0m\u001b[1;33m.\u001b[0m\u001b[0mget_basic_device_stats\u001b[0m\u001b[1;33m(\u001b[0m\u001b[1;33m)\u001b[0m\u001b[1;33m\u001b[0m\u001b[1;33m\u001b[0m\u001b[0m\n\u001b[0m\u001b[0;32m     82\u001b[0m         \u001b[1;32mreturn\u001b[0m \u001b[0mstats\u001b[0m\u001b[1;33m[\u001b[0m\u001b[1;34m'power'\u001b[0m\u001b[1;33m]\u001b[0m\u001b[1;33m\u001b[0m\u001b[1;33m\u001b[0m\u001b[0m\n\u001b[0;32m     83\u001b[0m \u001b[1;33m\u001b[0m\u001b[0m\n",
      "\u001b[1;32md:\\OneDrive\\IT STUFF\\#CODING\\GITHUB\\sb4dfritz\\sb4dfritzlib\\homeauto\\models.py\u001b[0m in \u001b[0;36mget_basic_device_stats\u001b[1;34m(self)\u001b[0m\n\u001b[0;32m     62\u001b[0m         by device.\"\"\"\n\u001b[0;32m     63\u001b[0m         \u001b[1;31m# get statistics via AHA-HTTP interface for processing\u001b[0m\u001b[1;33m\u001b[0m\u001b[1;33m\u001b[0m\u001b[0m\n\u001b[1;32m---> 64\u001b[1;33m         \u001b[0mstats_raw\u001b[0m \u001b[1;33m=\u001b[0m \u001b[0mahahttp\u001b[0m\u001b[1;33m.\u001b[0m\u001b[0mgetbasicdevicestats\u001b[0m\u001b[1;33m(\u001b[0m\u001b[0mself\u001b[0m\u001b[1;33m.\u001b[0m\u001b[0main\u001b[0m\u001b[1;33m,\u001b[0m \u001b[0mself\u001b[0m\u001b[1;33m.\u001b[0m\u001b[0msid\u001b[0m\u001b[1;33m)\u001b[0m\u001b[1;33m\u001b[0m\u001b[1;33m\u001b[0m\u001b[0m\n\u001b[0m\u001b[0;32m     65\u001b[0m         \u001b[1;31m# process statistics\u001b[0m\u001b[1;33m\u001b[0m\u001b[1;33m\u001b[0m\u001b[0m\n\u001b[0;32m     66\u001b[0m         \u001b[0mstats_processed\u001b[0m \u001b[1;33m=\u001b[0m \u001b[1;33m{\u001b[0m\u001b[1;33m}\u001b[0m\u001b[1;33m\u001b[0m\u001b[1;33m\u001b[0m\u001b[0m\n",
      "\u001b[1;32md:\\OneDrive\\IT STUFF\\#CODING\\GITHUB\\sb4dfritz\\sb4dfritzlib\\connection\\ahahttp.py\u001b[0m in \u001b[0;36mgetbasicdevicestats\u001b[1;34m(ain, sid)\u001b[0m\n\u001b[0;32m    128\u001b[0m     \u001b[1;31m# send basic AHA-HTTP request\u001b[0m\u001b[1;33m\u001b[0m\u001b[1;33m\u001b[0m\u001b[0m\n\u001b[0;32m    129\u001b[0m     \u001b[1;31m# NOTE: response contains XML string\u001b[0m\u001b[1;33m\u001b[0m\u001b[1;33m\u001b[0m\u001b[0m\n\u001b[1;32m--> 130\u001b[1;33m     \u001b[0mreponse\u001b[0m \u001b[1;33m=\u001b[0m \u001b[0mbasic_request\u001b[0m\u001b[1;33m(\u001b[0m\u001b[0mparams\u001b[0m\u001b[1;33m)\u001b[0m\u001b[1;33m\u001b[0m\u001b[1;33m\u001b[0m\u001b[0m\n\u001b[0m\u001b[0;32m    131\u001b[0m     \u001b[0mstats\u001b[0m \u001b[1;33m=\u001b[0m \u001b[0mreponse\u001b[0m\u001b[1;33m.\u001b[0m\u001b[0mtext\u001b[0m\u001b[1;33m\u001b[0m\u001b[1;33m\u001b[0m\u001b[0m\n\u001b[0;32m    132\u001b[0m     \u001b[0mstats\u001b[0m \u001b[1;33m=\u001b[0m \u001b[0mxml_to_dict\u001b[0m\u001b[1;33m(\u001b[0m\u001b[0mstats\u001b[0m\u001b[1;33m)\u001b[0m\u001b[1;33m\u001b[0m\u001b[1;33m\u001b[0m\u001b[0m\n",
      "\u001b[1;32md:\\OneDrive\\IT STUFF\\#CODING\\GITHUB\\sb4dfritz\\sb4dfritzlib\\connection\\ahahttp.py\u001b[0m in \u001b[0;36mbasic_request\u001b[1;34m(params)\u001b[0m\n\u001b[0;32m     17\u001b[0m \u001b[1;33m\u001b[0m\u001b[0m\n\u001b[0;32m     18\u001b[0m     \u001b[0mrequest_url\u001b[0m \u001b[1;33m=\u001b[0m \u001b[1;33mf\"\u001b[0m\u001b[1;33m{\u001b[0m\u001b[0mURL_BASE\u001b[0m\u001b[1;33m}\u001b[0m\u001b[1;33m{\u001b[0m\u001b[0mAHA\u001b[0m\u001b[1;33m}\u001b[0m\u001b[1;33m?\u001b[0m\u001b[1;33m{\u001b[0m\u001b[0mparams\u001b[0m\u001b[1;33m}\u001b[0m\u001b[1;33m\"\u001b[0m\u001b[1;33m\u001b[0m\u001b[1;33m\u001b[0m\u001b[0m\n\u001b[1;32m---> 19\u001b[1;33m     \u001b[0mresponse\u001b[0m \u001b[1;33m=\u001b[0m \u001b[0mrequests\u001b[0m\u001b[1;33m.\u001b[0m\u001b[0mget\u001b[0m\u001b[1;33m(\u001b[0m\u001b[0mrequest_url\u001b[0m\u001b[1;33m,\u001b[0m \u001b[0mverify\u001b[0m\u001b[1;33m=\u001b[0m\u001b[1;32mFalse\u001b[0m\u001b[1;33m)\u001b[0m  \u001b[1;31m# Use verify=False if self-signed cert\u001b[0m\u001b[1;33m\u001b[0m\u001b[1;33m\u001b[0m\u001b[0m\n\u001b[0m\u001b[0;32m     20\u001b[0m     \u001b[1;32mreturn\u001b[0m \u001b[0mresponse\u001b[0m\u001b[1;33m\u001b[0m\u001b[1;33m\u001b[0m\u001b[0m\n\u001b[0;32m     21\u001b[0m \u001b[1;33m\u001b[0m\u001b[0m\n",
      "\u001b[1;32mc:\\Users\\Stefan B\\AppData\\Local\\Programs\\Python\\Python313\\Lib\\site-packages\\requests\\api.py\u001b[0m in \u001b[0;36mget\u001b[1;34m(url, params, **kwargs)\u001b[0m\n\u001b[0;32m     71\u001b[0m     \"\"\"\n\u001b[0;32m     72\u001b[0m \u001b[1;33m\u001b[0m\u001b[0m\n\u001b[1;32m---> 73\u001b[1;33m     \u001b[1;32mreturn\u001b[0m \u001b[0mrequest\u001b[0m\u001b[1;33m(\u001b[0m\u001b[1;34m\"get\"\u001b[0m\u001b[1;33m,\u001b[0m \u001b[0murl\u001b[0m\u001b[1;33m,\u001b[0m \u001b[0mparams\u001b[0m\u001b[1;33m=\u001b[0m\u001b[0mparams\u001b[0m\u001b[1;33m,\u001b[0m \u001b[1;33m**\u001b[0m\u001b[0mkwargs\u001b[0m\u001b[1;33m)\u001b[0m\u001b[1;33m\u001b[0m\u001b[1;33m\u001b[0m\u001b[0m\n\u001b[0m\u001b[0;32m     74\u001b[0m \u001b[1;33m\u001b[0m\u001b[0m\n\u001b[0;32m     75\u001b[0m \u001b[1;33m\u001b[0m\u001b[0m\n",
      "\u001b[1;32mc:\\Users\\Stefan B\\AppData\\Local\\Programs\\Python\\Python313\\Lib\\site-packages\\requests\\api.py\u001b[0m in \u001b[0;36mrequest\u001b[1;34m(method, url, **kwargs)\u001b[0m\n\u001b[0;32m     57\u001b[0m     \u001b[1;31m# cases, and look like a memory leak in others.\u001b[0m\u001b[1;33m\u001b[0m\u001b[1;33m\u001b[0m\u001b[0m\n\u001b[0;32m     58\u001b[0m     \u001b[1;32mwith\u001b[0m \u001b[0msessions\u001b[0m\u001b[1;33m.\u001b[0m\u001b[0mSession\u001b[0m\u001b[1;33m(\u001b[0m\u001b[1;33m)\u001b[0m \u001b[1;32mas\u001b[0m \u001b[0msession\u001b[0m\u001b[1;33m:\u001b[0m\u001b[1;33m\u001b[0m\u001b[1;33m\u001b[0m\u001b[0m\n\u001b[1;32m---> 59\u001b[1;33m         \u001b[1;32mreturn\u001b[0m \u001b[0msession\u001b[0m\u001b[1;33m.\u001b[0m\u001b[0mrequest\u001b[0m\u001b[1;33m(\u001b[0m\u001b[0mmethod\u001b[0m\u001b[1;33m=\u001b[0m\u001b[0mmethod\u001b[0m\u001b[1;33m,\u001b[0m \u001b[0murl\u001b[0m\u001b[1;33m=\u001b[0m\u001b[0murl\u001b[0m\u001b[1;33m,\u001b[0m \u001b[1;33m**\u001b[0m\u001b[0mkwargs\u001b[0m\u001b[1;33m)\u001b[0m\u001b[1;33m\u001b[0m\u001b[1;33m\u001b[0m\u001b[0m\n\u001b[0m\u001b[0;32m     60\u001b[0m \u001b[1;33m\u001b[0m\u001b[0m\n\u001b[0;32m     61\u001b[0m \u001b[1;33m\u001b[0m\u001b[0m\n",
      "\u001b[1;32mc:\\Users\\Stefan B\\AppData\\Local\\Programs\\Python\\Python313\\Lib\\site-packages\\requests\\sessions.py\u001b[0m in \u001b[0;36mrequest\u001b[1;34m(self, method, url, params, data, headers, cookies, files, auth, timeout, allow_redirects, proxies, hooks, stream, verify, cert, json)\u001b[0m\n\u001b[0;32m    587\u001b[0m         \u001b[1;33m}\u001b[0m\u001b[1;33m\u001b[0m\u001b[1;33m\u001b[0m\u001b[0m\n\u001b[0;32m    588\u001b[0m         \u001b[0msend_kwargs\u001b[0m\u001b[1;33m.\u001b[0m\u001b[0mupdate\u001b[0m\u001b[1;33m(\u001b[0m\u001b[0msettings\u001b[0m\u001b[1;33m)\u001b[0m\u001b[1;33m\u001b[0m\u001b[1;33m\u001b[0m\u001b[0m\n\u001b[1;32m--> 589\u001b[1;33m         \u001b[0mresp\u001b[0m \u001b[1;33m=\u001b[0m \u001b[0mself\u001b[0m\u001b[1;33m.\u001b[0m\u001b[0msend\u001b[0m\u001b[1;33m(\u001b[0m\u001b[0mprep\u001b[0m\u001b[1;33m,\u001b[0m \u001b[1;33m**\u001b[0m\u001b[0msend_kwargs\u001b[0m\u001b[1;33m)\u001b[0m\u001b[1;33m\u001b[0m\u001b[1;33m\u001b[0m\u001b[0m\n\u001b[0m\u001b[0;32m    590\u001b[0m \u001b[1;33m\u001b[0m\u001b[0m\n\u001b[0;32m    591\u001b[0m         \u001b[1;32mreturn\u001b[0m \u001b[0mresp\u001b[0m\u001b[1;33m\u001b[0m\u001b[1;33m\u001b[0m\u001b[0m\n",
      "\u001b[1;32mc:\\Users\\Stefan B\\AppData\\Local\\Programs\\Python\\Python313\\Lib\\site-packages\\requests\\sessions.py\u001b[0m in \u001b[0;36msend\u001b[1;34m(self, request, **kwargs)\u001b[0m\n\u001b[0;32m    701\u001b[0m \u001b[1;33m\u001b[0m\u001b[0m\n\u001b[0;32m    702\u001b[0m         \u001b[1;31m# Send the request\u001b[0m\u001b[1;33m\u001b[0m\u001b[1;33m\u001b[0m\u001b[0m\n\u001b[1;32m--> 703\u001b[1;33m         \u001b[0mr\u001b[0m \u001b[1;33m=\u001b[0m \u001b[0madapter\u001b[0m\u001b[1;33m.\u001b[0m\u001b[0msend\u001b[0m\u001b[1;33m(\u001b[0m\u001b[0mrequest\u001b[0m\u001b[1;33m,\u001b[0m \u001b[1;33m**\u001b[0m\u001b[0mkwargs\u001b[0m\u001b[1;33m)\u001b[0m\u001b[1;33m\u001b[0m\u001b[1;33m\u001b[0m\u001b[0m\n\u001b[0m\u001b[0;32m    704\u001b[0m \u001b[1;33m\u001b[0m\u001b[0m\n\u001b[0;32m    705\u001b[0m         \u001b[1;31m# Total elapsed time of the request (approximately)\u001b[0m\u001b[1;33m\u001b[0m\u001b[1;33m\u001b[0m\u001b[0m\n",
      "\u001b[1;32mc:\\Users\\Stefan B\\AppData\\Local\\Programs\\Python\\Python313\\Lib\\site-packages\\requests\\adapters.py\u001b[0m in \u001b[0;36msend\u001b[1;34m(self, request, stream, timeout, verify, cert, proxies)\u001b[0m\n\u001b[0;32m    665\u001b[0m \u001b[1;33m\u001b[0m\u001b[0m\n\u001b[0;32m    666\u001b[0m         \u001b[1;32mtry\u001b[0m\u001b[1;33m:\u001b[0m\u001b[1;33m\u001b[0m\u001b[1;33m\u001b[0m\u001b[0m\n\u001b[1;32m--> 667\u001b[1;33m             resp = conn.urlopen(\n\u001b[0m\u001b[0;32m    668\u001b[0m                 \u001b[0mmethod\u001b[0m\u001b[1;33m=\u001b[0m\u001b[0mrequest\u001b[0m\u001b[1;33m.\u001b[0m\u001b[0mmethod\u001b[0m\u001b[1;33m,\u001b[0m\u001b[1;33m\u001b[0m\u001b[1;33m\u001b[0m\u001b[0m\n\u001b[0;32m    669\u001b[0m                 \u001b[0murl\u001b[0m\u001b[1;33m=\u001b[0m\u001b[0murl\u001b[0m\u001b[1;33m,\u001b[0m\u001b[1;33m\u001b[0m\u001b[1;33m\u001b[0m\u001b[0m\n",
      "\u001b[1;32mc:\\Users\\Stefan B\\AppData\\Local\\Programs\\Python\\Python313\\Lib\\site-packages\\urllib3\\connectionpool.py\u001b[0m in \u001b[0;36murlopen\u001b[1;34m(self, method, url, body, headers, retries, redirect, assert_same_host, timeout, pool_timeout, release_conn, chunked, body_pos, preload_content, decode_content, **response_kw)\u001b[0m\n\u001b[0;32m    785\u001b[0m \u001b[1;33m\u001b[0m\u001b[0m\n\u001b[0;32m    786\u001b[0m             \u001b[1;31m# Make the request on the HTTPConnection object\u001b[0m\u001b[1;33m\u001b[0m\u001b[1;33m\u001b[0m\u001b[0m\n\u001b[1;32m--> 787\u001b[1;33m             response = self._make_request(\n\u001b[0m\u001b[0;32m    788\u001b[0m                 \u001b[0mconn\u001b[0m\u001b[1;33m,\u001b[0m\u001b[1;33m\u001b[0m\u001b[1;33m\u001b[0m\u001b[0m\n\u001b[0;32m    789\u001b[0m                 \u001b[0mmethod\u001b[0m\u001b[1;33m,\u001b[0m\u001b[1;33m\u001b[0m\u001b[1;33m\u001b[0m\u001b[0m\n",
      "\u001b[1;32mc:\\Users\\Stefan B\\AppData\\Local\\Programs\\Python\\Python313\\Lib\\site-packages\\urllib3\\connectionpool.py\u001b[0m in \u001b[0;36m_make_request\u001b[1;34m(self, conn, method, url, body, headers, retries, timeout, chunked, response_conn, preload_content, decode_content, enforce_content_length)\u001b[0m\n\u001b[0;32m    532\u001b[0m         \u001b[1;31m# Receive the response from the server\u001b[0m\u001b[1;33m\u001b[0m\u001b[1;33m\u001b[0m\u001b[0m\n\u001b[0;32m    533\u001b[0m         \u001b[1;32mtry\u001b[0m\u001b[1;33m:\u001b[0m\u001b[1;33m\u001b[0m\u001b[1;33m\u001b[0m\u001b[0m\n\u001b[1;32m--> 534\u001b[1;33m             \u001b[0mresponse\u001b[0m \u001b[1;33m=\u001b[0m \u001b[0mconn\u001b[0m\u001b[1;33m.\u001b[0m\u001b[0mgetresponse\u001b[0m\u001b[1;33m(\u001b[0m\u001b[1;33m)\u001b[0m\u001b[1;33m\u001b[0m\u001b[1;33m\u001b[0m\u001b[0m\n\u001b[0m\u001b[0;32m    535\u001b[0m         \u001b[1;32mexcept\u001b[0m \u001b[1;33m(\u001b[0m\u001b[0mBaseSSLError\u001b[0m\u001b[1;33m,\u001b[0m \u001b[0mOSError\u001b[0m\u001b[1;33m)\u001b[0m \u001b[1;32mas\u001b[0m \u001b[0me\u001b[0m\u001b[1;33m:\u001b[0m\u001b[1;33m\u001b[0m\u001b[1;33m\u001b[0m\u001b[0m\n\u001b[0;32m    536\u001b[0m             \u001b[0mself\u001b[0m\u001b[1;33m.\u001b[0m\u001b[0m_raise_timeout\u001b[0m\u001b[1;33m(\u001b[0m\u001b[0merr\u001b[0m\u001b[1;33m=\u001b[0m\u001b[0me\u001b[0m\u001b[1;33m,\u001b[0m \u001b[0murl\u001b[0m\u001b[1;33m=\u001b[0m\u001b[0murl\u001b[0m\u001b[1;33m,\u001b[0m \u001b[0mtimeout_value\u001b[0m\u001b[1;33m=\u001b[0m\u001b[0mread_timeout\u001b[0m\u001b[1;33m)\u001b[0m\u001b[1;33m\u001b[0m\u001b[1;33m\u001b[0m\u001b[0m\n",
      "\u001b[1;32mc:\\Users\\Stefan B\\AppData\\Local\\Programs\\Python\\Python313\\Lib\\site-packages\\urllib3\\connection.py\u001b[0m in \u001b[0;36mgetresponse\u001b[1;34m(self)\u001b[0m\n\u001b[0;32m    514\u001b[0m \u001b[1;33m\u001b[0m\u001b[0m\n\u001b[0;32m    515\u001b[0m         \u001b[1;31m# Get the response from http.client.HTTPConnection\u001b[0m\u001b[1;33m\u001b[0m\u001b[1;33m\u001b[0m\u001b[0m\n\u001b[1;32m--> 516\u001b[1;33m         \u001b[0mhttplib_response\u001b[0m \u001b[1;33m=\u001b[0m \u001b[0msuper\u001b[0m\u001b[1;33m(\u001b[0m\u001b[1;33m)\u001b[0m\u001b[1;33m.\u001b[0m\u001b[0mgetresponse\u001b[0m\u001b[1;33m(\u001b[0m\u001b[1;33m)\u001b[0m\u001b[1;33m\u001b[0m\u001b[1;33m\u001b[0m\u001b[0m\n\u001b[0m\u001b[0;32m    517\u001b[0m \u001b[1;33m\u001b[0m\u001b[0m\n\u001b[0;32m    518\u001b[0m         \u001b[1;32mtry\u001b[0m\u001b[1;33m:\u001b[0m\u001b[1;33m\u001b[0m\u001b[1;33m\u001b[0m\u001b[0m\n",
      "\u001b[1;32mc:\\Users\\Stefan B\\AppData\\Local\\Programs\\Python\\Python313\\Lib\\http\\client.py\u001b[0m in \u001b[0;36mgetresponse\u001b[1;34m(self)\u001b[0m\n\u001b[0;32m   1428\u001b[0m         \u001b[1;32mtry\u001b[0m\u001b[1;33m:\u001b[0m\u001b[1;33m\u001b[0m\u001b[1;33m\u001b[0m\u001b[0m\n\u001b[0;32m   1429\u001b[0m             \u001b[1;32mtry\u001b[0m\u001b[1;33m:\u001b[0m\u001b[1;33m\u001b[0m\u001b[1;33m\u001b[0m\u001b[0m\n\u001b[1;32m-> 1430\u001b[1;33m                 \u001b[0mresponse\u001b[0m\u001b[1;33m.\u001b[0m\u001b[0mbegin\u001b[0m\u001b[1;33m(\u001b[0m\u001b[1;33m)\u001b[0m\u001b[1;33m\u001b[0m\u001b[1;33m\u001b[0m\u001b[0m\n\u001b[0m\u001b[0;32m   1431\u001b[0m             \u001b[1;32mexcept\u001b[0m \u001b[0mConnectionError\u001b[0m\u001b[1;33m:\u001b[0m\u001b[1;33m\u001b[0m\u001b[1;33m\u001b[0m\u001b[0m\n\u001b[0;32m   1432\u001b[0m                 \u001b[0mself\u001b[0m\u001b[1;33m.\u001b[0m\u001b[0mclose\u001b[0m\u001b[1;33m(\u001b[0m\u001b[1;33m)\u001b[0m\u001b[1;33m\u001b[0m\u001b[1;33m\u001b[0m\u001b[0m\n",
      "\u001b[1;32mc:\\Users\\Stefan B\\AppData\\Local\\Programs\\Python\\Python313\\Lib\\http\\client.py\u001b[0m in \u001b[0;36mbegin\u001b[1;34m(self)\u001b[0m\n\u001b[0;32m    329\u001b[0m         \u001b[1;31m# read until we get a non-100 response\u001b[0m\u001b[1;33m\u001b[0m\u001b[1;33m\u001b[0m\u001b[0m\n\u001b[0;32m    330\u001b[0m         \u001b[1;32mwhile\u001b[0m \u001b[1;32mTrue\u001b[0m\u001b[1;33m:\u001b[0m\u001b[1;33m\u001b[0m\u001b[1;33m\u001b[0m\u001b[0m\n\u001b[1;32m--> 331\u001b[1;33m             \u001b[0mversion\u001b[0m\u001b[1;33m,\u001b[0m \u001b[0mstatus\u001b[0m\u001b[1;33m,\u001b[0m \u001b[0mreason\u001b[0m \u001b[1;33m=\u001b[0m \u001b[0mself\u001b[0m\u001b[1;33m.\u001b[0m\u001b[0m_read_status\u001b[0m\u001b[1;33m(\u001b[0m\u001b[1;33m)\u001b[0m\u001b[1;33m\u001b[0m\u001b[1;33m\u001b[0m\u001b[0m\n\u001b[0m\u001b[0;32m    332\u001b[0m             \u001b[1;32mif\u001b[0m \u001b[0mstatus\u001b[0m \u001b[1;33m!=\u001b[0m \u001b[0mCONTINUE\u001b[0m\u001b[1;33m:\u001b[0m\u001b[1;33m\u001b[0m\u001b[1;33m\u001b[0m\u001b[0m\n\u001b[0;32m    333\u001b[0m                 \u001b[1;32mbreak\u001b[0m\u001b[1;33m\u001b[0m\u001b[1;33m\u001b[0m\u001b[0m\n",
      "\u001b[1;32mc:\\Users\\Stefan B\\AppData\\Local\\Programs\\Python\\Python313\\Lib\\http\\client.py\u001b[0m in \u001b[0;36m_read_status\u001b[1;34m(self)\u001b[0m\n\u001b[0;32m    290\u001b[0m \u001b[1;33m\u001b[0m\u001b[0m\n\u001b[0;32m    291\u001b[0m     \u001b[1;32mdef\u001b[0m \u001b[0m_read_status\u001b[0m\u001b[1;33m(\u001b[0m\u001b[0mself\u001b[0m\u001b[1;33m)\u001b[0m\u001b[1;33m:\u001b[0m\u001b[1;33m\u001b[0m\u001b[1;33m\u001b[0m\u001b[0m\n\u001b[1;32m--> 292\u001b[1;33m         \u001b[0mline\u001b[0m \u001b[1;33m=\u001b[0m \u001b[0mstr\u001b[0m\u001b[1;33m(\u001b[0m\u001b[0mself\u001b[0m\u001b[1;33m.\u001b[0m\u001b[0mfp\u001b[0m\u001b[1;33m.\u001b[0m\u001b[0mreadline\u001b[0m\u001b[1;33m(\u001b[0m\u001b[0m_MAXLINE\u001b[0m \u001b[1;33m+\u001b[0m \u001b[1;36m1\u001b[0m\u001b[1;33m)\u001b[0m\u001b[1;33m,\u001b[0m \u001b[1;34m\"iso-8859-1\"\u001b[0m\u001b[1;33m)\u001b[0m\u001b[1;33m\u001b[0m\u001b[1;33m\u001b[0m\u001b[0m\n\u001b[0m\u001b[0;32m    293\u001b[0m         \u001b[1;32mif\u001b[0m \u001b[0mlen\u001b[0m\u001b[1;33m(\u001b[0m\u001b[0mline\u001b[0m\u001b[1;33m)\u001b[0m \u001b[1;33m>\u001b[0m \u001b[0m_MAXLINE\u001b[0m\u001b[1;33m:\u001b[0m\u001b[1;33m\u001b[0m\u001b[1;33m\u001b[0m\u001b[0m\n\u001b[0;32m    294\u001b[0m             \u001b[1;32mraise\u001b[0m \u001b[0mLineTooLong\u001b[0m\u001b[1;33m(\u001b[0m\u001b[1;34m\"status line\"\u001b[0m\u001b[1;33m)\u001b[0m\u001b[1;33m\u001b[0m\u001b[1;33m\u001b[0m\u001b[0m\n",
      "\u001b[1;32mc:\\Users\\Stefan B\\AppData\\Local\\Programs\\Python\\Python313\\Lib\\socket.py\u001b[0m in \u001b[0;36mreadinto\u001b[1;34m(self, b)\u001b[0m\n\u001b[0;32m    717\u001b[0m             \u001b[1;32mraise\u001b[0m \u001b[0mOSError\u001b[0m\u001b[1;33m(\u001b[0m\u001b[1;34m\"cannot read from timed out object\"\u001b[0m\u001b[1;33m)\u001b[0m\u001b[1;33m\u001b[0m\u001b[1;33m\u001b[0m\u001b[0m\n\u001b[0;32m    718\u001b[0m         \u001b[1;32mtry\u001b[0m\u001b[1;33m:\u001b[0m\u001b[1;33m\u001b[0m\u001b[1;33m\u001b[0m\u001b[0m\n\u001b[1;32m--> 719\u001b[1;33m             \u001b[1;32mreturn\u001b[0m \u001b[0mself\u001b[0m\u001b[1;33m.\u001b[0m\u001b[0m_sock\u001b[0m\u001b[1;33m.\u001b[0m\u001b[0mrecv_into\u001b[0m\u001b[1;33m(\u001b[0m\u001b[0mb\u001b[0m\u001b[1;33m)\u001b[0m\u001b[1;33m\u001b[0m\u001b[1;33m\u001b[0m\u001b[0m\n\u001b[0m\u001b[0;32m    720\u001b[0m         \u001b[1;32mexcept\u001b[0m \u001b[0mtimeout\u001b[0m\u001b[1;33m:\u001b[0m\u001b[1;33m\u001b[0m\u001b[1;33m\u001b[0m\u001b[0m\n\u001b[0;32m    721\u001b[0m             \u001b[0mself\u001b[0m\u001b[1;33m.\u001b[0m\u001b[0m_timeout_occurred\u001b[0m \u001b[1;33m=\u001b[0m \u001b[1;32mTrue\u001b[0m\u001b[1;33m\u001b[0m\u001b[1;33m\u001b[0m\u001b[0m\n",
      "\u001b[1;31mKeyboardInterrupt\u001b[0m: "
     ]
    }
   ],
   "source": [
    "k=0\n",
    "while True:\n",
    "    k+=1\n",
    "    data = sb4d_caffe.get_latest_power_record()\n",
    "    power_monitor.append(data)\n",
    "    output = OUTPUT_TEMPLATE.format(\n",
    "        f\"({k})\",\n",
    "        data['starttime'].strftime(\"%H:%M:%S.%f\"),\n",
    "        data['power'],\n",
    "        data['datatime'].strftime(\"%H:%M:%S\"),\n",
    "        data['duration'],\n",
    "        data['latency'],\n",
    "    )\n",
    "    print(output)\n"
   ]
  },
  {
   "cell_type": "code",
   "execution_count": 8,
   "id": "1cf5ba43",
   "metadata": {},
   "outputs": [
    {
     "name": "stdout",
     "output_type": "stream",
     "text": [
      "(151) Request: 09:51:08.836661 | Power:    3.3 W | Timestamp: 09:51:07 | Duration: 0.81 | Latency:   2.65\n",
      "(151) Request: 09:51:18.942047 | Power: 1446.0 W | Timestamp: 09:51:17 | Duration: 0.87 | Latency:   2.82\n",
      "(151) Request: 09:51:28.850305 | Power:  865.2 W | Timestamp: 09:51:27 | Duration: 0.81 | Latency:   2.66\n",
      "(151) Request: 09:51:38.159689 | Power:    3.3 W | Timestamp: 09:51:37 | Duration: 0.84 | Latency:   2.00\n",
      "(151) Request: 09:51:48.352366 | Power:    3.4 W | Timestamp: 09:51:47 | Duration: 1.17 | Latency:   2.52\n",
      "(151) Request: 09:51:58.224361 | Power:    3.4 W | Timestamp: 09:51:57 | Duration: 0.92 | Latency:   2.14\n",
      "(151) Request: 09:52:08.208921 | Power:    3.3 W | Timestamp: 09:52:07 | Duration: 0.87 | Latency:   2.08\n",
      "(151) Request: 09:52:18.701857 | Power:    3.4 W | Timestamp: 09:52:17 | Duration: 0.90 | Latency:   2.60\n",
      "(151) Request: 09:52:28.979777 | Power:  152.3 W | Timestamp: 09:52:27 | Duration: 0.83 | Latency:   2.81\n",
      "(151) Request: 09:52:38.858042 | Power:  314.2 W | Timestamp: 09:52:37 | Duration: 0.82 | Latency:   2.67\n",
      "(151) Request: 09:52:48.392996 | Power:  364.1 W | Timestamp: 09:52:47 | Duration: 0.82 | Latency:   2.22\n",
      "(151) Request: 09:52:58.746293 | Power:    3.4 W | Timestamp: 09:52:57 | Duration: 0.82 | Latency:   2.56\n",
      "(151) Request: 09:53:08.267465 | Power:    3.4 W | Timestamp: 09:53:07 | Duration: 0.82 | Latency:   2.08\n"
     ]
    }
   ],
   "source": [
    "L = len(power_monitor)\n",
    "\n",
    "jumps = []\n",
    "for k in range(L-1):\n",
    "    if power_monitor[k+1]['datatime'] != power_monitor[k]['datatime']:\n",
    "        jumps.append(power_monitor[k+1])\n",
    "\n",
    "for data in jumps:\n",
    "    output = OUTPUT_TEMPLATE.format(\n",
    "        f\"({k})\",\n",
    "        data['starttime'].strftime(\"%H:%M:%S.%f\"),\n",
    "        data['power'],\n",
    "        data['datatime'].strftime(\"%H:%M:%S\"),\n",
    "        data['duration'],\n",
    "        data['latency'],\n",
    "    )\n",
    "    print(output)\n"
   ]
  },
  {
   "cell_type": "markdown",
   "id": "8398bb0a",
   "metadata": {},
   "source": [
    "Let me try if it's possible to send request twice every second using `threading`. "
   ]
  },
  {
   "cell_type": "code",
   "execution_count": null,
   "id": "07fe72ef",
   "metadata": {},
   "outputs": [
    {
     "name": "stdout",
     "output_type": "stream",
     "text": [
      "(0)  Request: 10:01:59.902715 | Power:    3.4 W | Timestamp: 10:00:39 | Duration: 0.85 | Latency:  81.75\n",
      "(1)  Request: 10:02:00.404695 | Power:    3.4 W | Timestamp: 10:00:39 | Duration: 1.13 | Latency:  82.53\n",
      "(2)  Request: 10:02:00.907294 | Power:    3.4 W | Timestamp: 10:00:39 | Duration: 1.54 | Latency:  83.45\n",
      "(3)  Request: 10:02:01.409151 | Power:    3.4 W | Timestamp: 10:00:39 | Duration: 1.91 | Latency:  84.32\n",
      "(4)  Request: 10:02:01.910619 | Power:    3.4 W | Timestamp: 10:00:39 | Duration: 2.61 | Latency:  85.52\n",
      "(5)  Request: 10:02:02.412251 | Power:    3.4 W | Timestamp: 10:00:39 | Duration: 3.00 | Latency:  86.41\n",
      "(6)  Request: 10:02:02.914864 | Power:    3.4 W | Timestamp: 10:00:39 | Duration: 3.30 | Latency:  87.22\n",
      "(7)  Request: 10:02:03.417265 | Power:    3.4 W | Timestamp: 10:00:39 | Duration: 3.59 | Latency:  88.01\n",
      "(8)  Request: 10:02:03.918717 | Power:    3.4 W | Timestamp: 10:00:39 | Duration: 4.15 | Latency:  89.07\n",
      "(9)  Request: 10:02:04.419652 | Power:    3.4 W | Timestamp: 10:00:39 | Duration: 4.48 | Latency:  89.90\n",
      "(10) Request: 10:02:04.920549 | Power:    3.4 W | Timestamp: 10:00:39 | Duration: 4.79 | Latency:  90.71\n",
      "(11) Request: 10:02:05.434528 | Power:    3.4 W | Timestamp: 10:00:39 | Duration: 5.08 | Latency:  91.51\n",
      "(12) Request: 10:02:05.936334 | Power:    3.4 W | Timestamp: 10:02:09 | Duration: 5.42 | Latency:   2.36\n",
      "(13) Request: 10:02:06.438229 | Power:    3.4 W | Timestamp: 10:02:09 | Duration: 5.75 | Latency:   3.18\n",
      "(14) Request: 10:02:06.939840 | Power:    3.4 W | Timestamp: 10:02:09 | Duration: 6.04 | Latency:   3.98\n",
      "(15) Request: 10:02:07.441346 | Power:    3.4 W | Timestamp: 10:02:09 | Duration: 6.73 | Latency:   5.17\n",
      "(16) Request: 10:02:07.943273 | Power:    3.4 W | Timestamp: 10:02:09 | Duration: 7.04 | Latency:   5.98\n",
      "(17) Request: 10:02:08.445012 | Power:    3.4 W | Timestamp: 10:02:09 | Duration: 7.33 | Latency:   6.77\n",
      "(18) Request: 10:02:08.947993 | Power:    3.4 W | Timestamp: 10:02:09 | Duration: 7.64 | Latency:   7.59\n",
      "(19) Request: 10:02:09.450295 | Power:    3.4 W | Timestamp: 10:02:09 | Duration: 7.95 | Latency:   8.40\n",
      "(20) Request: 10:02:09.951780 | Power:    3.4 W | Timestamp: 10:02:09 | Duration: 8.32 | Latency:   9.27\n",
      "(21) Request: 10:02:10.453467 | Power:    3.4 W | Timestamp: 10:02:09 | Duration: 8.66 | Latency:  10.12\n"
     ]
    },
    {
     "name": "stdout",
     "output_type": "stream",
     "text": [
      "(22) Request: 10:02:10.955117 | Power:    3.4 W | Timestamp: 10:02:09 | Duration: 9.06 | Latency:  11.01\n",
      "(23) Request: 10:02:11.456496 | Power:    3.4 W | Timestamp: 10:02:09 | Duration: 9.38 | Latency:  11.84\n",
      "(24) Request: 10:02:11.958359 | Power:    3.3 W | Timestamp: 10:02:19 | Duration: 9.69 | Latency:   2.64\n",
      "(25) Request: 10:02:12.460383 | Power:    3.3 W | Timestamp: 10:02:19 | Duration: 10.02 | Latency:   3.48\n",
      "(26) Request: 10:02:12.962111 | Power:    3.3 W | Timestamp: 10:02:19 | Duration: 10.32 | Latency:   4.28\n",
      "(27) Request: 10:02:13.464989 | Power:    3.3 W | Timestamp: 10:02:19 | Duration: 10.64 | Latency:   5.10\n",
      "(28) Request: 10:02:13.966647 | Power:    3.3 W | Timestamp: 10:02:19 | Duration: 10.91 | Latency:   5.87\n",
      "(29) Request: 10:02:14.468179 | Power:    3.3 W | Timestamp: 10:02:19 | Duration: 11.20 | Latency:   6.67\n",
      "(30) Request: 10:02:14.969830 | Power:    3.3 W | Timestamp: 10:02:19 | Duration: 11.50 | Latency:   7.47\n",
      "(31) Request: 10:02:15.472110 | Power:    3.3 W | Timestamp: 10:02:19 | Duration: 11.79 | Latency:   8.26\n",
      "(32) Request: 10:02:15.973424 | Power:    3.3 W | Timestamp: 10:02:19 | Duration: 12.14 | Latency:   9.11\n",
      "(33) Request: 10:02:16.474999 | Power:    3.3 W | Timestamp: 10:02:19 | Duration: 12.44 | Latency:   9.91\n",
      "(34) Request: 10:02:16.977070 | Power:    3.3 W | Timestamp: 10:02:19 | Duration: 12.76 | Latency:  10.73\n",
      "(35) Request: 10:02:17.478529 | Power:    3.3 W | Timestamp: 10:02:19 | Duration: 13.07 | Latency:  11.55\n",
      "(36) Request: 10:02:17.981685 | Power: 1633.3 W | Timestamp: 10:02:29 | Duration: 13.38 | Latency:   2.36\n",
      "(37) Request: 10:02:18.483899 | Power: 1633.3 W | Timestamp: 10:02:29 | Duration: 13.70 | Latency:   3.18\n",
      "(38) Request: 10:02:18.985918 | Power: 1633.3 W | Timestamp: 10:02:29 | Duration: 13.99 | Latency:   3.98\n",
      "(39) Request: 10:02:19.487473 | Power: 1633.3 W | Timestamp: 10:02:29 | Duration: 14.27 | Latency:   4.76\n"
     ]
    }
   ],
   "source": [
    "from threading import Thread\n",
    "from time import sleep\n",
    "\n",
    "def caffe_power(k):\n",
    "    data = sb4d_caffe.get_latest_power_record()\n",
    "    output = OUTPUT_TEMPLATE.format(\n",
    "        f\"({k})\",\n",
    "        data['starttime'].strftime(\"%H:%M:%S.%f\"),\n",
    "        data['power'],\n",
    "        data['datatime'].strftime(\"%H:%M:%S\"),\n",
    "        data['duration'],\n",
    "        data['latency'],\n",
    "    )\n",
    "    print(output)\n",
    "\n",
    "for k in range(40):\n",
    "    Thread(target=caffe_power, args=[k]).start()\n",
    "    sleep(0.5)"
   ]
  },
  {
   "cell_type": "markdown",
   "id": "aeb6cf65",
   "metadata": {},
   "source": [
    "This is clearly not working. The increasing duration indicates taht the FRITZ!Box is not handling the requests properly."
   ]
  },
  {
   "cell_type": "code",
   "execution_count": null,
   "id": "8f9ee5f7",
   "metadata": {},
   "outputs": [
    {
     "name": "stdout",
     "output_type": "stream",
     "text": [
      "3.79 0.847651 7.763409\n",
      "3.71 0.846818 2.081194\n",
      "3.64 0.848897 2.66714\n",
      "Ideal state detected: [3.71, 3.64] [0.846818, 0.848897] [2.081194, 2.66714]\n"
     ]
    }
   ],
   "source": [
    "sb4d_tv.switch_off_when_idle(status_messages='console', debug_mode=True)"
   ]
  },
  {
   "cell_type": "code",
   "execution_count": 5,
   "id": "cabaa931",
   "metadata": {},
   "outputs": [
    {
     "name": "stdout",
     "output_type": "stream",
     "text": [
      "Switch is already off. Nothing to do.\n"
     ]
    }
   ],
   "source": [
    "sb4d_caffe.switch_off_when_idle(status_messages='console', debug_mode=True)"
   ]
  },
  {
   "cell_type": "code",
   "execution_count": 8,
   "id": "1bb1f3c0",
   "metadata": {},
   "outputs": [
    {
     "data": {
      "text/plain": [
       "('116300073749', 'df864dc2c762661d')"
      ]
     },
     "execution_count": 8,
     "metadata": {},
     "output_type": "execute_result"
    }
   ],
   "source": [
    "sb4d_tv.ain, sb4d_tv.sid"
   ]
  }
 ],
 "metadata": {
  "kernelspec": {
   "display_name": "Python 3",
   "language": "python",
   "name": "python3"
  },
  "language_info": {
   "codemirror_mode": {
    "name": "ipython",
    "version": 3
   },
   "file_extension": ".py",
   "mimetype": "text/x-python",
   "name": "python",
   "nbconvert_exporter": "python",
   "pygments_lexer": "ipython3",
   "version": "3.13.5"
  }
 },
 "nbformat": 4,
 "nbformat_minor": 5
}
