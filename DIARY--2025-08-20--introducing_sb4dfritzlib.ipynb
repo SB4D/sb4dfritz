{
 "cells": [
  {
   "cell_type": "markdown",
   "id": "b615c0c1",
   "metadata": {},
   "source": [
    "# Introducing `sb4dfritzlib`\n",
    "\n",
    "I invested some time to understand how to communicate with AVM FRITZ!Box routers using the [official APIs](https://fritz.com/service/schnittstellen/). As a result, I have written my own library `sb4dfritzlib` that will eventually remove the dependency of `sb4dfritz` from the `fritzconnection` library. Not that there's anything wrong with the latter, I just wanted to know how to do it myself so that I know exactly what's going on.\n",
    "\n",
    "Another motivating factor was the faint hope to get more accurate \"real time\" power measurements from energy sensors, or at least a better understanding what causes the limitations that I encountered. Recall that `fritzconnection` returns timestamps with second precision, leaving it unclear whether they were obtained by truncating or rounding. While I had little doubt that AVM is the root of this imprecision, I couldn't rule out the data processing `fritzconnection` as a cause. I can now definitively say that `fritzconnection` simply converts the XML data returned by the FRITZ!Box to appropriate Python data types. \n",
    "\n",
    "Anyway, here's a summary of what I did:\n",
    "* I implemented the [SOAP](https://en.wikipedia.org/wiki/SOAP)-based TR-064 interface (see `sb4dfritzlib.connection`).\n",
    "* I implemented the simpler AHA-HTTP interface and the required login procedure (see `sb4dfritzlib.connection`).\n",
    "* I implemented various utilities for data conversion (see `sb4dfritzlib.utilities`).\n",
    "* The core functionality is implemented in `sb4dfritzlib.homeauto` which provides classes `HomeAutoSystem` and `HomeAutoDevice` for object-based interaction with home automation devices."
   ]
  },
  {
   "cell_type": "markdown",
   "id": "f3a7e027",
   "metadata": {},
   "source": [
    "## Comparing `sb4dfritzlib` and `fritzconnection`\n",
    "\n"
   ]
  },
  {
   "cell_type": "code",
   "execution_count": 5,
   "id": "059d785a",
   "metadata": {},
   "outputs": [],
   "source": [
    "import importlib\n",
    "import sys\n",
    "import json \n",
    "\n",
    "import fritzconnection\n",
    "import sb4dfritzlib\n",
    "_ = importlib.reload(sys.modules['sb4dfritzlib'])\n",
    "\n",
    "from sb4dfritzlib.connection import FritzUser\n",
    "from sb4dfritzlib.homeauto import HomeAutoSystem\n",
    "\n",
    "CONFIG_FILE = \"..\\\\..\\\\_private_files\\\\sb4dfritz_secrets.ini\"\n",
    "with open(CONFIG_FILE,\"r\") as file:\n",
    "    CONFIG = json.load(file)\n",
    "# extract login data\n",
    "USER = CONFIG['login']['user']\n",
    "PWD = CONFIG['login']['pwd']\n",
    "IP = CONFIG['login']['ip']\n"
   ]
  },
  {
   "cell_type": "markdown",
   "id": "447ac851",
   "metadata": {},
   "source": [
    "Here's how to connect to the home automation system using `sb4dfritzlib`:"
   ]
  },
  {
   "cell_type": "code",
   "execution_count": 52,
   "id": "273f650e",
   "metadata": {},
   "outputs": [
    {
     "name": "stdout",
     "output_type": "stream",
     "text": [
      "Registered home automation devices:\n",
      " - l'angolo del caffè (AVM FRITZ!Smart Energy 200)\n",
      " - radiatore nel soggiorno (AVM FRITZ!Smart Thermo 301)\n",
      " - radiatore musicale (AVM FRITZ!Smart Thermo 301)\n",
      " - radiatore nella cucina (AVM FRITZ!Smart Thermo 301)\n",
      " - TV etc (AVM FRITZ!Smart Energy 200)\n"
     ]
    }
   ],
   "source": [
    "# Create FritzUser from credentials\n",
    "sb4d_user = FritzUser(USER, PWD, IP)\n",
    "# Connect to home automation system\n",
    "sb4d_home_auto_system = HomeAutoSystem(sb4d_user)\n",
    "# List registered devices\n",
    "print(\"Registered home automation devices:\")\n",
    "for device in sb4d_home_auto_system.devices:\n",
    "    print(\" -\", device)"
   ]
  },
  {
   "cell_type": "markdown",
   "id": "6aa69f19",
   "metadata": {},
   "source": [
    "Under the hood, the instantiation of `HomeAutoSystem` first log in to obtains a valied session id, then asks for a list of connected devices, and creats a `HomeAutoDevice` object for each device. \n",
    "\n",
    "In my case, the first device is a smart plug which functions as an on/off switch for my espresso machine. Let's check it's current power consumption:"
   ]
  },
  {
   "cell_type": "code",
   "execution_count": 53,
   "id": "c231f594",
   "metadata": {},
   "outputs": [
    {
     "name": "stdout",
     "output_type": "stream",
     "text": [
      "Current power consumption and timing information:\n",
      " - power           3.29\n",
      " - datatime        2025-08-20 13:32:59\n",
      " - starttime       2025-08-20 13:34:53.875762\n",
      " - endtime         2025-08-20 13:34:54.717654\n",
      " - duration        0.841892\n",
      " - latency         115.717654\n",
      " - offset          -114.875762\n"
     ]
    }
   ],
   "source": [
    "# Give coffe machine a dedicated variable\n",
    "sb4d_caffe = sb4d_home_auto_system.devices[0]\n",
    "# Get latest power measurement together with timing information\n",
    "power_record = sb4d_caffe.get_latest_power_record()\n",
    "print(\"Current power consumption and timing information:\")\n",
    "for key, val in power_record.items():\n",
    "    print(f\" - {key:15s} {val}\")"
   ]
  },
  {
   "cell_type": "markdown",
   "id": "22b64ca6",
   "metadata": {},
   "source": [
    "As you can guess, the smart plug reported 0.0 W as `power` at the time `datatime`. \n",
    "The parameters `starttime` and `endtime` record the times that the network request to obtain the data was sent and received, respectively.\n",
    "Lastly, `duration` is the total request time in seconds while `latency` and `offset` compare the `endtime` and `starttime` to `datatime`, respectively.\n",
    "The large values are typical if no request has been made recently. \n",
    "\n",
    "At this point, it should not go unnotices that a latency of over 50 seconds, meaning that the measurement was over 50 seconds ago, can hardly be considered \"real time\". \n",
    "\n",
    "Let's make a few more requests to see what happens over time."
   ]
  },
  {
   "cell_type": "code",
   "execution_count": 48,
   "id": "9f523352",
   "metadata": {},
   "outputs": [
    {
     "name": "stdout",
     "output_type": "stream",
     "text": [
      "(1)  Request: 12:05:01.674186 | Power: 0.0 W | Timestamp: 12:04:46 | Duration: 0.77 | Latency: 16.45\n",
      "(2)  Request: 12:05:02.445643 | Power: 0.0 W | Timestamp: 12:04:46 | Duration: 0.74 | Latency: 17.19\n",
      "(3)  Request: 12:05:03.186501 | Power: 0.0 W | Timestamp: 12:04:46 | Duration: 0.76 | Latency: 17.94\n",
      "(4)  Request: 12:05:03.943442 | Power: 0.0 W | Timestamp: 12:04:46 | Duration: 0.82 | Latency: 18.76\n",
      "(5)  Request: 12:05:04.760071 | Power: 0.0 W | Timestamp: 12:04:46 | Duration: 0.76 | Latency: 19.52\n",
      "(6)  Request: 12:05:05.523466 | Power: 0.0 W | Timestamp: 12:04:46 | Duration: 0.75 | Latency: 20.28\n",
      "(7)  Request: 12:05:06.278217 | Power: 0.0 W | Timestamp: 12:04:46 | Duration: 0.75 | Latency: 21.03\n",
      "(8)  Request: 12:05:07.032048 | Power: 0.0 W | Timestamp: 12:05:06 | Duration: 0.82 | Latency: 1.85\n",
      "(9)  Request: 12:05:07.847494 | Power: 0.0 W | Timestamp: 12:05:06 | Duration: 1.10 | Latency: 2.94\n",
      "(10) Request: 12:05:08.945175 | Power: 0.0 W | Timestamp: 12:05:06 | Duration: 0.76 | Latency: 3.71\n",
      "(11) Request: 12:05:09.705809 | Power: 0.0 W | Timestamp: 12:05:06 | Duration: 0.75 | Latency: 4.46\n",
      "(12) Request: 12:05:10.459998 | Power: 0.0 W | Timestamp: 12:05:06 | Duration: 0.80 | Latency: 5.26\n",
      "(13) Request: 12:05:11.265065 | Power: 0.0 W | Timestamp: 12:05:06 | Duration: 0.85 | Latency: 6.12\n",
      "(14) Request: 12:05:12.119900 | Power: 0.0 W | Timestamp: 12:05:06 | Duration: 0.79 | Latency: 6.91\n",
      "(15) Request: 12:05:12.907368 | Power: 0.0 W | Timestamp: 12:05:06 | Duration: 0.76 | Latency: 7.67\n",
      "(16) Request: 12:05:13.669700 | Power: 0.0 W | Timestamp: 12:05:06 | Duration: 0.81 | Latency: 8.48\n",
      "(17) Request: 12:05:14.481623 | Power: 0.0 W | Timestamp: 12:05:06 | Duration: 0.81 | Latency: 9.29\n",
      "(18) Request: 12:05:15.291508 | Power: 0.0 W | Timestamp: 12:05:06 | Duration: 0.80 | Latency: 10.09\n",
      "(19) Request: 12:05:16.086729 | Power: 0.0 W | Timestamp: 12:05:06 | Duration: 0.89 | Latency: 10.98\n",
      "(20) Request: 12:05:16.979082 | Power: 0.0 W | Timestamp: 12:05:16 | Duration: 0.80 | Latency: 1.77\n",
      "(21) Request: 12:05:17.774913 | Power: 0.0 W | Timestamp: 12:05:16 | Duration: 1.12 | Latency: 2.89\n",
      "(22) Request: 12:05:18.892636 | Power: 0.0 W | Timestamp: 12:05:16 | Duration: 0.82 | Latency: 3.71\n",
      "(23) Request: 12:05:19.712226 | Power: 0.0 W | Timestamp: 12:05:16 | Duration: 0.75 | Latency: 4.46\n",
      "(24) Request: 12:05:20.465026 | Power: 0.0 W | Timestamp: 12:05:16 | Duration: 0.77 | Latency: 5.24\n",
      "(25) Request: 12:05:21.239395 | Power: 0.0 W | Timestamp: 12:05:16 | Duration: 0.80 | Latency: 6.03\n"
     ]
    }
   ],
   "source": [
    "out_template = \"\"\"{:4s} Request: {:s} | Power: {:0.1f} W | Timestamp: {:s} | Duration: {:0.2f} | Latency: {:0.2f}\"\"\"\n",
    "for k in range(25):\n",
    "    data = sb4d_caffe.get_latest_power_record()\n",
    "    output = out_template.format(\n",
    "        f\"({k+1})\",\n",
    "        data['starttime'].strftime(\"%H:%M:%S.%f\"),\n",
    "        data['power'],\n",
    "        data['datatime'].strftime(\"%H:%M:%S\"),\n",
    "        data['duration'],\n",
    "        data['latency'],\n",
    "    )\n",
    "    print(output)\n"
   ]
  },
  {
   "cell_type": "markdown",
   "id": "25fe6b43",
   "metadata": {},
   "source": [
    "From the above results, we can take away a few thing:\n",
    "\n",
    "* Request normally take around 0.75 to 0.8 seconds, occasionally a little longer.\n",
    "* The timestamp jumps 10 second interval. This means that power is measured only every 10 seconds. It also means that the **data requests *do not* trigger a measurements!** Measurements are taken periodically at times unrelated to the requests.\n",
    "* On repeated requests, the latency does not exceed 10 seconds by much. This indicates some undocumented \"sleep mode\" which reduces the update frequency in longer time stretches without data requests.\n",
    "\n",
    "If you're interested in real time information, this is bad news. A random request will give you a power value recorded some time in the last ~12.5 seconds, if you're lucky. Again, I would not consider this as \"real time\". After a little thought, you should realize that,  given the network latency (reflected in the request duration) and the second presicion in the timestamp, it's impossible to determine the time of measurement precisely from the provided data. There is always going to be some latency, and in bad cases you cannot expect to do better than ~2 seconds of latency. \n",
    "\n",
    "My personal motivation was to switch off my coffee machine only when it's idle (indicated by a power consumption below 5 W). The problem is that the machine has irregular heating cycles, even if it's not actively being used. \n",
    "\n",
    "**Problem:** How to time the data requests to guarantee minimal possible latency?\n",
    "\n"
   ]
  }
 ],
 "metadata": {
  "kernelspec": {
   "display_name": "Python 3",
   "language": "python",
   "name": "python3"
  },
  "language_info": {
   "codemirror_mode": {
    "name": "ipython",
    "version": 3
   },
   "file_extension": ".py",
   "mimetype": "text/x-python",
   "name": "python",
   "nbconvert_exporter": "python",
   "pygments_lexer": "ipython3",
   "version": "3.13.5"
  }
 },
 "nbformat": 4,
 "nbformat_minor": 5
}
