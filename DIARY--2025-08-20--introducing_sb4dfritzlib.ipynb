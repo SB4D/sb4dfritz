{
 "cells": [
  {
   "cell_type": "markdown",
   "id": "b615c0c1",
   "metadata": {},
   "source": [
    "# Introducing `sb4dfritzlib`\n",
    "\n",
    "I invested some time to understand how to communicate with AVM FRITZ!Box routers using the [official APIs](https://fritz.com/service/schnittstellen/). As a result, I have written my own library `sb4dfritzlib` that will eventually remove the dependency of `sb4dfritz` from the `fritzconnection` library. Not that there's anything wrong with the latter, I just wanted to know how to do it myself so that I know exactly what's going on.\n",
    "\n",
    "Another motivating factor was the faint hope to get more accurate \"real time\" power measurements from energy sensors, or at least a better understanding what causes the limitations that I encountered. Recall that `fritzconnection` returns timestamps with second precision, leaving it unclear whether they were obtained by truncating or rounding. While I had little doubt that AVM is the root of this imprecision, I couldn't rule out the data processing `fritzconnection` as a cause. I can now definitively say that `fritzconnection` simply converts the XML data returned by the FRITZ!Box to appropriate Python data types. \n",
    "\n",
    "Anyway, here's a summary of what I did:\n",
    "* I implemented the [SOAP](https://en.wikipedia.org/wiki/SOAP)-based TR-064 interface (see `sb4dfritzlib.connection`).\n",
    "* I implemented the simpler AHA-HTTP interface and the required login procedure (see `sb4dfritzlib.connection`).\n",
    "* I implemented various utilities for data conversion (see `sb4dfritzlib.utilities`).\n",
    "* The core functionality is implemented in `sb4dfritzlib.homeauto` which provides classes `HomeAutoSystem` and `HomeAutoDevice` for object-based interaction with home automation devices."
   ]
  },
  {
   "cell_type": "markdown",
   "id": "f3a7e027",
   "metadata": {},
   "source": [
    "## Comparing `sb4dfritzlib` and `fritzconnection`\n",
    "\n"
   ]
  },
  {
   "cell_type": "code",
   "execution_count": 1,
   "id": "059d785a",
   "metadata": {},
   "outputs": [],
   "source": [
    "import importlib\n",
    "import sys\n",
    "import json \n",
    "\n",
    "import fritzconnection\n",
    "import sb4dfritzlib\n",
    "_ = importlib.reload(sys.modules['sb4dfritzlib'])\n",
    "\n",
    "from sb4dfritzlib.connection import FritzUser\n",
    "from sb4dfritzlib.homeauto import HomeAutoSystem\n",
    "\n",
    "CONFIG_FILE = \"..\\\\..\\\\_private_files\\\\sb4dfritz_secrets.ini\"\n",
    "with open(CONFIG_FILE,\"r\") as file:\n",
    "    CONFIG = json.load(file)\n",
    "# extract login data\n",
    "USER = CONFIG['login']['user']\n",
    "PWD = CONFIG['login']['pwd']\n",
    "IP = CONFIG['login']['ip']\n"
   ]
  },
  {
   "cell_type": "markdown",
   "id": "447ac851",
   "metadata": {},
   "source": [
    "Here's how to connect to the home automation system using `sb4dfritzlib`:"
   ]
  },
  {
   "cell_type": "code",
   "execution_count": 2,
   "id": "273f650e",
   "metadata": {},
   "outputs": [
    {
     "name": "stdout",
     "output_type": "stream",
     "text": [
      "Registered home automation devices:\n",
      " - l'angolo del caffè (AVM FRITZ!Smart Energy 200)\n",
      " - radiatore nel soggiorno (AVM FRITZ!Smart Thermo 301)\n",
      " - radiatore musicale (AVM FRITZ!Smart Thermo 301)\n",
      " - radiatore nella cucina (AVM FRITZ!Smart Thermo 301)\n",
      " - TV etc (AVM FRITZ!Smart Energy 200)\n"
     ]
    }
   ],
   "source": [
    "# Create FritzUser from credentials\n",
    "sb4d_user = FritzUser(USER, PWD, IP)\n",
    "# Connect to home automation system\n",
    "sb4d_home_auto_system = HomeAutoSystem(sb4d_user)\n",
    "# List registered devices\n",
    "print(\"Registered home automation devices:\")\n",
    "for device in sb4d_home_auto_system.devices:\n",
    "    print(\" -\", device)"
   ]
  },
  {
   "cell_type": "markdown",
   "id": "6aa69f19",
   "metadata": {},
   "source": [
    "Under the hood, the instantiation of `HomeAutoSystem` first log in to obtains a valied session id, then asks for a list of connected devices, and creats a `HomeAutoDevice` object for each device. \n",
    "\n",
    "In my case, the first device is a smart plug which functions as an on/off switch for my espresso machine. Let's check it's current power consumption:"
   ]
  },
  {
   "cell_type": "code",
   "execution_count": null,
   "id": "c231f594",
   "metadata": {},
   "outputs": [],
   "source": [
    "# Give coffe machine a dedicated variable\n",
    "sb4d_caffe = sb4d_home_auto_system.devices[0]"
   ]
  },
  {
   "cell_type": "code",
   "execution_count": null,
   "id": "0253198a",
   "metadata": {},
   "outputs": [],
   "source": [
    "# Get latest power measurement together with timing information\n",
    "power_record = sb4d_caffe.get_latest_power_record()\n",
    "print(\"Current power consumption and timing information:\")\n",
    "for key, val in power_record.items():\n",
    "    print(f\" - {key:15s} {val}\")"
   ]
  },
  {
   "cell_type": "markdown",
   "id": "22b64ca6",
   "metadata": {},
   "source": [
    "As you can guess, the smart plug reported 0.0 W as `power` at the time `datatime`. \n",
    "The parameters `starttime` and `endtime` record the times that the network request to obtain the data was sent and received, respectively.\n",
    "Lastly, `duration` is the total request time in seconds while `latency` and `offset` compare the `endtime` and `starttime` to `datatime`, respectively.\n",
    "The large values are typical if no request has been made recently. \n",
    "\n",
    "At this point, it should not go unnotices that a latency of over 50 seconds, meaning that the measurement was over 50 seconds ago, can hardly be considered \"real time\". \n",
    "\n",
    "Let's make a few more requests to see what happens over time."
   ]
  },
  {
   "cell_type": "code",
   "execution_count": 16,
   "id": "9f523352",
   "metadata": {},
   "outputs": [],
   "source": [
    "OUTPUT_TEMPLATE = \"\"\"{:4s} Request: {:s} | Power: {:6.1f} W | Timestamp: {:s} | Duration: {:0.2f} | Latency: {:6.2f}\"\"\""
   ]
  },
  {
   "cell_type": "code",
   "execution_count": null,
   "id": "7775befe",
   "metadata": {},
   "outputs": [],
   "source": [
    "for k in range(25):\n",
    "    data = sb4d_caffe.get_latest_power_record()\n",
    "    output = OUTPUT_TEMPLATE.format(\n",
    "        f\"({k+1})\",\n",
    "        data['starttime'].strftime(\"%H:%M:%S.%f\"),\n",
    "        data['power'],\n",
    "        data['datatime'].strftime(\"%H:%M:%S\"),\n",
    "        data['duration'],\n",
    "        data['latency'],\n",
    "    )\n",
    "    print(output)\n"
   ]
  },
  {
   "cell_type": "markdown",
   "id": "25fe6b43",
   "metadata": {},
   "source": [
    "From the above results, we can take away a few thing:\n",
    "\n",
    "* Request normally take around 0.75 to 0.8 seconds, occasionally a little longer.\n",
    "* The timestamp jumps 10 second interval. This means that power is measured only every 10 seconds. It also means that the **data requests *do not* trigger a measurements!** Measurements are taken periodically at times unrelated to the requests.\n",
    "* On repeated requests, the latency does not exceed 10 seconds by much. This indicates some undocumented \"sleep mode\" which reduces the update frequency in longer time stretches without data requests.\n",
    "\n",
    "If you're interested in real time information, this is bad news. A random request will give you a power value recorded some time in the last ~12.5 seconds, if you're lucky. Again, I would not consider this as \"real time\". After a little thought, you should realize that,  given the network latency (reflected in the request duration) and the second presicion in the timestamp, it's impossible to determine the time of measurement precisely from the provided data. There is always going to be some latency, and in bad cases you cannot expect to do better than ~2 seconds of latency. \n",
    "\n",
    "My personal motivation was to switch off my coffee machine only when it's idle (indicated by a power consumption below 5 W). The problem is that the machine has irregular heating cycles, even if it's not actively being used. \n",
    "\n",
    "**Problem:** How to time the data requests to guarantee minimal possible latency?\n",
    "\n"
   ]
  },
  {
   "cell_type": "code",
   "execution_count": 3,
   "id": "6c6b14fb",
   "metadata": {},
   "outputs": [],
   "source": [
    "power_monitor = []"
   ]
  },
  {
   "cell_type": "code",
   "execution_count": null,
   "id": "3c0aaa3f",
   "metadata": {},
   "outputs": [],
   "source": [
    "k=0\n",
    "while True:\n",
    "    k+=1\n",
    "    data = sb4d_caffe.get_latest_power_record()\n",
    "    power_monitor.append(data)\n",
    "    output = OUTPUT_TEMPLATE.format(\n",
    "        f\"({k})\",\n",
    "        data['starttime'].strftime(\"%H:%M:%S.%f\"),\n",
    "        data['power'],\n",
    "        data['datatime'].strftime(\"%H:%M:%S\"),\n",
    "        data['duration'],\n",
    "        data['latency'],\n",
    "    )\n",
    "    print(output)\n"
   ]
  },
  {
   "cell_type": "code",
   "execution_count": 17,
   "id": "1cf5ba43",
   "metadata": {},
   "outputs": [
    {
     "name": "stdout",
     "output_type": "stream",
     "text": [
      "(271) Request: 17:18:19.649634 | Power:    0.0 W | Timestamp: 17:18:21 | Duration: 1.15 | Latency:  -0.20\n",
      "(271) Request: 17:18:30.044974 | Power:    0.0 W | Timestamp: 17:18:31 | Duration: 0.81 | Latency:  -0.15\n",
      "(271) Request: 17:18:40.667518 | Power:    0.0 W | Timestamp: 17:18:41 | Duration: 0.90 | Latency:   0.57\n",
      "(271) Request: 17:18:50.659415 | Power:    0.0 W | Timestamp: 17:18:51 | Duration: 0.81 | Latency:   0.47\n",
      "(271) Request: 17:18:59.666071 | Power:    0.0 W | Timestamp: 17:19:01 | Duration: 1.22 | Latency:  -0.12\n",
      "(271) Request: 17:19:09.450637 | Power:    0.0 W | Timestamp: 17:19:11 | Duration: 1.26 | Latency:  -0.29\n",
      "(271) Request: 17:19:20.689329 | Power:    0.0 W | Timestamp: 17:19:21 | Duration: 0.93 | Latency:   0.62\n",
      "(271) Request: 17:19:30.579295 | Power:    0.0 W | Timestamp: 17:19:31 | Duration: 0.83 | Latency:   0.41\n",
      "(271) Request: 17:19:40.619657 | Power:    0.0 W | Timestamp: 17:19:41 | Duration: 0.90 | Latency:   0.52\n",
      "(271) Request: 17:19:49.841717 | Power:    0.0 W | Timestamp: 17:19:51 | Duration: 0.84 | Latency:  -0.32\n",
      "(271) Request: 17:19:59.854666 | Power:    0.0 W | Timestamp: 17:20:01 | Duration: 1.24 | Latency:   0.09\n",
      "(271) Request: 17:20:10.449551 | Power:    0.0 W | Timestamp: 17:20:11 | Duration: 0.86 | Latency:   0.31\n",
      "(271) Request: 17:20:20.254500 | Power:    0.0 W | Timestamp: 17:20:21 | Duration: 0.80 | Latency:   0.06\n",
      "(271) Request: 17:20:30.065704 | Power:    0.0 W | Timestamp: 17:20:31 | Duration: 0.80 | Latency:  -0.13\n",
      "(271) Request: 17:20:40.671946 | Power:    0.0 W | Timestamp: 17:20:41 | Duration: 0.81 | Latency:   0.48\n",
      "(271) Request: 17:20:50.546030 | Power:    0.0 W | Timestamp: 17:20:51 | Duration: 0.81 | Latency:   0.36\n",
      "(271) Request: 17:20:59.491371 | Power:    0.0 W | Timestamp: 17:21:01 | Duration: 1.28 | Latency:  -0.23\n",
      "(271) Request: 17:21:09.648839 | Power:    0.0 W | Timestamp: 17:21:11 | Duration: 1.15 | Latency:  -0.20\n",
      "(271) Request: 17:21:20.537255 | Power:    0.0 W | Timestamp: 17:21:21 | Duration: 0.81 | Latency:   0.34\n",
      "(271) Request: 17:21:30.378298 | Power:    0.0 W | Timestamp: 17:21:31 | Duration: 0.89 | Latency:   0.26\n",
      "(271) Request: 17:21:40.009279 | Power:    0.0 W | Timestamp: 17:21:41 | Duration: 0.85 | Latency:  -0.14\n",
      "(271) Request: 17:21:50.260046 | Power:    0.0 W | Timestamp: 17:21:51 | Duration: 0.80 | Latency:   0.06\n"
     ]
    }
   ],
   "source": [
    "L = len(power_monitor)\n",
    "\n",
    "jumps = []\n",
    "for k in range(L-1):\n",
    "    if power_monitor[k+1]['datatime'] != power_monitor[k]['datatime']:\n",
    "        jumps.append(power_monitor[k+1])\n",
    "\n",
    "for data in jumps:\n",
    "    output = OUTPUT_TEMPLATE.format(\n",
    "        f\"({k})\",\n",
    "        data['starttime'].strftime(\"%H:%M:%S.%f\"),\n",
    "        data['power'],\n",
    "        data['datatime'].strftime(\"%H:%M:%S\"),\n",
    "        data['duration'],\n",
    "        data['latency'],\n",
    "    )\n",
    "    print(output)\n"
   ]
  }
 ],
 "metadata": {
  "kernelspec": {
   "display_name": "Python 3",
   "language": "python",
   "name": "python3"
  },
  "language_info": {
   "codemirror_mode": {
    "name": "ipython",
    "version": 3
   },
   "file_extension": ".py",
   "mimetype": "text/x-python",
   "name": "python",
   "nbconvert_exporter": "python",
   "pygments_lexer": "ipython3",
   "version": "3.13.5"
  }
 },
 "nbformat": 4,
 "nbformat_minor": 5
}
