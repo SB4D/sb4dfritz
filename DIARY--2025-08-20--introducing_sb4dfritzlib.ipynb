{
 "cells": [
  {
   "cell_type": "markdown",
   "id": "b615c0c1",
   "metadata": {},
   "source": [
    "# Introducing `sb4dfritzlib`\n",
    "\n",
    "I invested some time to understand how to communicate with AVM FRITZ!Box routers using the [official APIs](https://fritz.com/service/schnittstellen/). As a result, I have written my own library `sb4dfritzlib` that will eventually remove the dependency of `sb4dfritz` from the `fritzconnection` library. Not that there's anything wrong with the latter, I just wanted to know how to do it myself so that I know exactly what's going on.\n",
    "\n",
    "Another motivating factor was the faint hope to get more accurate \"real time\" power measurements from energy sensors, or at least a better understanding what causes the limitations that I encountered. Recall that `fritzconnection` returns timestamps with second precision, leaving it unclear whether they were obtained by truncating or rounding. While I had little doubt that AVM is the root of this imprecision, I couldn't rule out the data processing `fritzconnection` as a cause. I can now definitively say that `fritzconnection` simply converts the XML data returned by the FRITZ!Box to appropriate Python data types. \n",
    "\n",
    "Anyway, here's a summary of what I did:\n",
    "* I implemented the [SOAP](https://en.wikipedia.org/wiki/SOAP)-based TR-064 interface (see `sb4dfritzlib.connection`).\n",
    "* I implemented the simpler AHA-HTTP interface and the required login procedure (see `sb4dfritzlib.connection`).\n",
    "* I implemented various utilities for data conversion (see `sb4dfritzlib.utilities`).\n",
    "* The core functionality is implemented in `sb4dfritzlib.homeauto` which provides classes `HomeAutoSystem` and `HomeAutoDevice` for object-based interaction with home automation devices."
   ]
  },
  {
   "cell_type": "markdown",
   "id": "f3a7e027",
   "metadata": {},
   "source": [
    "## A quick demonstration of `sb4dfritzlib`\n",
    "\n"
   ]
  },
  {
   "cell_type": "markdown",
   "id": "861726d3",
   "metadata": {},
   "source": [
    "Let me give you a quick demonstration of `sb4dfritzlib`. The first step is to make a few import and to load the login data from a safe location."
   ]
  },
  {
   "cell_type": "code",
   "execution_count": null,
   "id": "059d785a",
   "metadata": {},
   "outputs": [],
   "source": [
    "import sb4dfritzlib\n",
    "from sb4dfritzlib.connection import FritzUser\n",
    "from sb4dfritzlib.homeauto import HomeAutoSystem\n",
    "import json \n",
    "\n",
    "CONFIG_FILE = \"..\\\\..\\\\_private_files\\\\sb4dfritz_secrets.ini\"\n",
    "with open(CONFIG_FILE,\"r\") as file:\n",
    "    CONFIG = json.load(file)\n",
    "# extract login data\n",
    "USER = CONFIG['login']['user']\n",
    "PWD = CONFIG['login']['pwd']\n",
    "IP = CONFIG['login']['ip']\n"
   ]
  },
  {
   "cell_type": "markdown",
   "id": "447ac851",
   "metadata": {},
   "source": [
    "I'm still looking for a better solution to safely store the login data, but for now this crutch works. If you want to try this yourself, you can enter your data manually or create your own config file. (The last three lines should give you an idea of its structure. It's a JSON file containing a nested dictionary.)\n",
    "\n",
    "Next, here's how to connect to the home automation system. All that's required is the login data. The smart home devices are detected automatically."
   ]
  },
  {
   "cell_type": "code",
   "execution_count": 3,
   "id": "273f650e",
   "metadata": {},
   "outputs": [
    {
     "name": "stdout",
     "output_type": "stream",
     "text": [
      "Registered home automation devices:\n",
      " - l'angolo del caffè (AVM FRITZ!Smart Energy 200)\n",
      " - radiatore nel soggiorno (AVM FRITZ!Smart Thermo 301)\n",
      " - radiatore musicale (AVM FRITZ!Smart Thermo 301)\n",
      " - radiatore nella cucina (AVM FRITZ!Smart Thermo 301)\n",
      " - TV etc (AVM FRITZ!Smart Energy 200)\n"
     ]
    }
   ],
   "source": [
    "# Create FritzUser from credentials\n",
    "sb4d_user = FritzUser(USER, PWD, IP)\n",
    "# Connect to home automation system\n",
    "sb4d_home_auto_system = HomeAutoSystem(sb4d_user)\n",
    "# List registered devices\n",
    "print(\"Registered home automation devices:\")\n",
    "for device in sb4d_home_auto_system.devices:\n",
    "    print(\" -\", device)"
   ]
  },
  {
   "cell_type": "markdown",
   "id": "6aa69f19",
   "metadata": {},
   "source": [
    "Under the hood, the instantiation of `HomeAutoSystem` first log in to obtains a valied session id, then asks for a list of connected devices, and creates a corresponding instance of the `HomeAutoDevice` class defined in the `sb4dfritzlib.homeauto` sub-package.\n",
    "\n",
    "In my case, the first and last devices are smart plugs which function as on/off switch for my espresso machine and TV unit. Let's give them better names check the current power consumption of my coffee machine:"
   ]
  },
  {
   "cell_type": "code",
   "execution_count": 4,
   "id": "c231f594",
   "metadata": {},
   "outputs": [],
   "source": [
    "# Give coffee machine and tv better names\n",
    "sb4d_caffe = sb4d_home_auto_system.devices[0]\n",
    "sb4d_tv = sb4d_home_auto_system.devices[4]"
   ]
  },
  {
   "cell_type": "code",
   "execution_count": 5,
   "id": "0253198a",
   "metadata": {},
   "outputs": [
    {
     "name": "stdout",
     "output_type": "stream",
     "text": [
      "Current power consumption and timing information:\n",
      " - power           0.0\n",
      " - datatime        2025-08-21 12:45:28\n",
      " - starttime       2025-08-21 12:46:00.491786\n",
      " - endtime         2025-08-21 12:46:01.304348\n",
      " - duration        0.812562\n",
      " - latency         33.304348\n",
      " - offset          -32.491786\n"
     ]
    }
   ],
   "source": [
    "# Get latest power measurement of cofee machine with timing information\n",
    "power_record = sb4d_caffe.get_latest_power_record()\n",
    "print(\"Current power consumption and timing information:\")\n",
    "for key, val in power_record.items():\n",
    "    print(f\" - {key:15s} {val}\")"
   ]
  },
  {
   "cell_type": "markdown",
   "id": "22b64ca6",
   "metadata": {},
   "source": [
    "As you can guess, the smart plug reported 0.0 W as `power` at the time `datatime`. \n",
    "The parameters `starttime` and `endtime` record the times that the network request to obtain the data was sent and received, respectively.\n",
    "Lastly, `duration` is the total request time in seconds while `latency` and `offset` compare the `endtime` and `starttime` to `datatime`, respectively.\n",
    "The large values are typical if no request has been made recently. \n",
    "\n",
    "At this point, it should not go unnotices that a latency of over 50 seconds, meaning that the measurement was over 50 seconds ago, can hardly be considered \"real time\". In fact, lactencies of ~120 seconds are not uncommon on such \"cold requests\" after longer time without request.\n",
    "\n",
    "Let's make a few more requests to see what happens over time."
   ]
  },
  {
   "cell_type": "code",
   "execution_count": 6,
   "id": "9f523352",
   "metadata": {},
   "outputs": [],
   "source": [
    "OUTPUT_TEMPLATE = \"\"\"{:4s} Request: {:s} | Power: {:6.1f} W | Timestamp: {:s} | Duration: {:0.2f} | Latency: {:6.2f}\"\"\""
   ]
  },
  {
   "cell_type": "code",
   "execution_count": 7,
   "id": "7775befe",
   "metadata": {},
   "outputs": [
    {
     "name": "stdout",
     "output_type": "stream",
     "text": [
      "(1)  Request: 12:47:47.221628 | Power:    0.0 W | Timestamp: 12:47:40 | Duration: 0.88 | Latency:   8.10\n",
      "(2)  Request: 12:47:48.098977 | Power:    0.0 W | Timestamp: 12:47:40 | Duration: 0.83 | Latency:   8.93\n",
      "(3)  Request: 12:47:48.931169 | Power:    0.0 W | Timestamp: 12:47:40 | Duration: 0.80 | Latency:   9.73\n",
      "(4)  Request: 12:47:49.732113 | Power:    0.0 W | Timestamp: 12:47:40 | Duration: 0.84 | Latency:  10.57\n",
      "(5)  Request: 12:47:50.570065 | Power:    0.0 W | Timestamp: 12:47:40 | Duration: 0.83 | Latency:  11.40\n",
      "(6)  Request: 12:47:51.403961 | Power:    0.0 W | Timestamp: 12:47:50 | Duration: 0.84 | Latency:   2.24\n",
      "(7)  Request: 12:47:52.241256 | Power:    0.0 W | Timestamp: 12:47:50 | Duration: 0.86 | Latency:   3.10\n",
      "(8)  Request: 12:47:53.099781 | Power:    0.0 W | Timestamp: 12:47:50 | Duration: 0.83 | Latency:   3.93\n",
      "(9)  Request: 12:47:53.928298 | Power:    0.0 W | Timestamp: 12:47:50 | Duration: 0.80 | Latency:   4.73\n",
      "(10) Request: 12:47:54.729573 | Power:    0.0 W | Timestamp: 12:47:50 | Duration: 0.81 | Latency:   5.54\n",
      "(11) Request: 12:47:55.536240 | Power:    0.0 W | Timestamp: 12:47:50 | Duration: 0.81 | Latency:   6.35\n",
      "(12) Request: 12:47:56.351146 | Power:    0.0 W | Timestamp: 12:47:50 | Duration: 0.81 | Latency:   7.16\n",
      "(13) Request: 12:47:57.158690 | Power:    0.0 W | Timestamp: 12:47:50 | Duration: 0.80 | Latency:   7.96\n",
      "(14) Request: 12:47:57.959603 | Power:    0.0 W | Timestamp: 12:47:50 | Duration: 0.80 | Latency:   8.76\n",
      "(15) Request: 12:47:58.760996 | Power:    0.0 W | Timestamp: 12:47:50 | Duration: 0.80 | Latency:   9.56\n",
      "(16) Request: 12:47:59.558185 | Power:    0.0 W | Timestamp: 12:47:50 | Duration: 0.83 | Latency:  10.39\n",
      "(17) Request: 12:48:00.391923 | Power:    0.0 W | Timestamp: 12:47:50 | Duration: 0.81 | Latency:  11.20\n",
      "(18) Request: 12:48:01.202721 | Power:    0.0 W | Timestamp: 12:48:00 | Duration: 0.81 | Latency:   2.01\n",
      "(19) Request: 12:48:02.011491 | Power:    0.0 W | Timestamp: 12:48:00 | Duration: 0.91 | Latency:   2.92\n",
      "(20) Request: 12:48:02.923724 | Power:    0.0 W | Timestamp: 12:48:00 | Duration: 0.83 | Latency:   3.75\n",
      "(21) Request: 12:48:03.751544 | Power:    0.0 W | Timestamp: 12:48:00 | Duration: 0.80 | Latency:   4.55\n",
      "(22) Request: 12:48:04.550011 | Power:    0.0 W | Timestamp: 12:48:00 | Duration: 0.84 | Latency:   5.39\n",
      "(23) Request: 12:48:05.393438 | Power:    0.0 W | Timestamp: 12:48:00 | Duration: 0.80 | Latency:   6.20\n",
      "(24) Request: 12:48:06.195509 | Power:    0.0 W | Timestamp: 12:48:00 | Duration: 0.83 | Latency:   7.02\n",
      "(25) Request: 12:48:07.023216 | Power:    0.0 W | Timestamp: 12:48:00 | Duration: 0.83 | Latency:   7.85\n"
     ]
    }
   ],
   "source": [
    "for k in range(25):\n",
    "    data = sb4d_caffe.get_latest_power_record()\n",
    "    output = OUTPUT_TEMPLATE.format(\n",
    "        f\"({k+1})\",\n",
    "        data['starttime'].strftime(\"%H:%M:%S.%f\"),\n",
    "        data['power'],\n",
    "        data['datatime'].strftime(\"%H:%M:%S\"),\n",
    "        data['duration'],\n",
    "        data['latency'],\n",
    "    )\n",
    "    print(output)\n"
   ]
  },
  {
   "cell_type": "markdown",
   "id": "25fe6b43",
   "metadata": {},
   "source": [
    "From the above results, we can take away a few thing:\n",
    "\n",
    "* Request normally take around 0.8 seconds, occasionally a little longer.\n",
    "* The timestamp jumps 10 second intervals, which indicates that power is measured every 10 seconds. Somewhat surprisingly, this means that **data requests *do not* trigger a measurements!** Measurements are taken periodically at times unrelated to the requests.\n",
    "* On repeated requests, the latency does not exceed 10 seconds by much. This indicates some undocumented \"sleep mode\" which reduces the update frequency in longer time stretches without data requests.\n",
    "\n",
    "If you're interested in real time information, this is bad news. A random request will give you a power value recorded some time in the last ~12.5 seconds, if you're lucky. Again, I would not consider this as \"real time\". After a little thought, you should realize that,  given the network latency (reflected in the request duration) and the second presicion in the timestamp, it's impossible to determine the time of measurement precisely from the provided data. There is always going to be some latency, and in bad cases you cannot expect to do better than ~2 seconds of latency. \n",
    "\n",
    "My personal motivation was to switch off my coffee machine only when it's idle (indicated by a power consumption below 5 W). The problem is that the machine has irregular heating cycles, even if it's not actively being used. Initially, I thought that this was easy: just ask for the current power consumption, and if it is below a given threshold, switch off the smart plug. Clearly, this doesn't work because of the described \"real time\" issues. \n",
    "\n",
    "So, what to do about this?"
   ]
  },
  {
   "cell_type": "markdown",
   "id": "36773c52",
   "metadata": {},
   "source": [
    "## Problem: How to get device statistics with low latency?\n",
    "\n",
    "Well, I tried to be smart about it and set up a parallel request cycle which synchronizes itself with the measurement cycle. I tried various algorithms, but they all took rather long and turned out to be error prone. My current algorithm is rather simple:\n",
    "\n",
    "\n",
    "* Keep sending repeated power data requests as above in a `while` loop.\n",
    "* Record only the measurements where the timestamp jumps.\n",
    "* Declare what it means to be \"idle\" by setting thresholds for power consumption and request duration as well as a number of required idle measurements.\n",
    "* Check the last recorded measurements if the criteria are satisfied. If so, send the switch off command.\n",
    "\n",
    "Although this is not exactly pretty, it gets the job done better than all other ideas I've tried. It's fast and the latency is not too far from optimal. While I am a little worried about the amount of data requests (roughly one every 0.8 seconds!), so far the algorithm has been stable.\n",
    "\n",
    "The algorithm is implemented in a method `.switch_off_when_idle()` for the `HomeAutoDevice` class.\n",
    "\n"
   ]
  }
 ],
 "metadata": {
  "kernelspec": {
   "display_name": "Python 3",
   "language": "python",
   "name": "python3"
  },
  "language_info": {
   "codemirror_mode": {
    "name": "ipython",
    "version": 3
   },
   "file_extension": ".py",
   "mimetype": "text/x-python",
   "name": "python",
   "nbconvert_exporter": "python",
   "pygments_lexer": "ipython3",
   "version": "3.13.5"
  }
 },
 "nbformat": 4,
 "nbformat_minor": 5
}
