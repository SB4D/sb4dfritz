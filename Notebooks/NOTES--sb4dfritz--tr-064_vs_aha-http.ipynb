{
 "cells": [
  {
   "cell_type": "markdown",
   "id": "47137fa9",
   "metadata": {},
   "source": [
    "# The Official AVM FRITZ!Box Interfaces\n",
    "\n",
    "AVM offers developers two ways to communicate with their FRITZ!Box routers:\n",
    "* **TR-064:** \n",
    "* **AHA-HTTP:** \n",
    "\n",
    "The `fritzconnection` library uses both of these interfaces, at least according to its documentation. I'd like to understand how this communication works. \n",
    "\n",
    "First things first, I need to get the login info."
   ]
  },
  {
   "cell_type": "code",
   "execution_count": 127,
   "id": "10caec88",
   "metadata": {},
   "outputs": [],
   "source": [
    "import json\n",
    "\n",
    "# load config file\n",
    "CONFIG_FILE = \"..\\\\..\\\\..\\\\_private_files\\\\sb4dfritz_secrets.ini\"\n",
    "with open(CONFIG_FILE,\"r\") as file:\n",
    "    FRITZBOX = json.load(file)\n",
    "# extract login data\n",
    "FRITZ_IP = FRITZBOX['login']['ip']\n",
    "FRITZ_USER = FRITZBOX['login']['user']\n",
    "FRITZ_PWD = FRITZBOX['login']['pwd']\n",
    "# extract device ains\n",
    "DEVICES = FRITZBOX['ains']\n",
    "AINS = list(DEVICES.values())\n"
   ]
  },
  {
   "cell_type": "markdown",
   "id": "1d013e49",
   "metadata": {},
   "source": [
    "## TR-064"
   ]
  },
  {
   "cell_type": "markdown",
   "id": "104f8947",
   "metadata": {},
   "source": [
    "Here's a basic way to get the \"current\" power consumption of a FRITZ! smart plug. \n",
    "The procedure goes as follows:\n",
    "* Formulate the request as a SOAP action\n",
    "* Send it as a HTTP POST message using the `requests` module"
   ]
  },
  {
   "cell_type": "markdown",
   "id": "00d7877b",
   "metadata": {},
   "source": [
    "### A concrete example\n"
   ]
  },
  {
   "cell_type": "markdown",
   "id": "7d50f3d8",
   "metadata": {},
   "source": [
    "### What actions are there?\n"
   ]
  },
  {
   "cell_type": "markdown",
   "id": "5f8a647f",
   "metadata": {},
   "source": [
    "### Implemententing the actions\n"
   ]
  },
  {
   "cell_type": "markdown",
   "id": "00ae564f",
   "metadata": {},
   "source": [
    "#### GetSpecificDeviceInfos [WORKS]"
   ]
  },
  {
   "cell_type": "code",
   "execution_count": null,
   "id": "a53f7e1d",
   "metadata": {},
   "outputs": [
    {
     "name": "stdout",
     "output_type": "stream",
     "text": [
      "{'Connection': 'keep-alive', 'Content-Length': '1677', 'Content-Type': 'text/xml; charset=\"utf-8\"', 'Date': 'Sat, 26 Jul 2025 12:16:49 GMT', 'Server': 'FRITZ!Box 7490 UPnP/1.0 AVM FRITZ!Box 7490 113.07.60', 'Ext': ''}\n",
      "<?xml version=\"1.0\"?>\n",
      "<s:Envelope xmlns:s=\"http://schemas.xmlsoap.org/soap/envelope/\" s:encodingStyle=\"http://schemas.xmlsoap.org/soap/encoding/\">\n",
      "<s:Body>\n",
      "<u:GetSpecificDeviceInfosResponse xmlns:u=\"urn:dslforum-org:service:X_AVM-DE_Homeauto:1\">\n",
      "<NewDeviceId>16</NewDeviceId>\n",
      "<NewFunctionBitMask>35712</NewFunctionBitMask>\n",
      "<NewFirmwareVersion>04.27</NewFirmwareVersion>\n",
      "<NewManufacturer>AVM</NewManufacturer>\n",
      "<NewProductName>FRITZ!DECT 200</NewProductName>\n",
      "<NewDeviceName>l&apos;angolo del caffè</NewDeviceName>\n",
      "<NewPresent>CONNECTED</NewPresent>\n",
      "<NewMultimeterIsEnabled>ENABLED</NewMultimeterIsEnabled>\n",
      "<NewMultimeterIsValid>VALID</NewMultimeterIsValid>\n",
      "<NewMultimeterPower>329</NewMultimeterPower>\n",
      "<NewMultimeterEnergy>2879797</NewMultimeterEnergy>\n",
      "<NewTemperatureIsEnabled>ENABLED</NewTemperatureIsEnabled>\n",
      "<NewTemperatureIsValid>VALID</NewTemperatureIsValid>\n",
      "<NewTemperatureCelsius>255</NewTemperatureCelsius>\n",
      "<NewTemperatureOffset>5</NewTemperatureOffset>\n",
      "<NewSwitchIsEnabled>ENABLED</NewSwitchIsEnabled>\n",
      "<NewSwitchIsValid>VALID</NewSwitchIsValid>\n",
      "<NewSwitchState>ON</NewSwitchState>\n",
      "<NewSwitchMode>AUTO</NewSwitchMode>\n",
      "<NewSwitchLock>0</NewSwitchLock>\n",
      "<NewHkrIsEnabled>DISABLED</NewHkrIsEnabled>\n",
      "<NewHkrIsValid>INVALID</NewHkrIsValid>\n",
      "<NewHkrIsTemperature>0</NewHkrIsTemperature>\n",
      "<NewHkrSetVentilStatus>CLOSED</NewHkrSetVentilStatus>\n",
      "<NewHkrSetTemperature>0</NewHkrSetTemperature>\n",
      "<NewHkrReduceVentilStatus>CLOSED</NewHkrReduceVentilStatus>\n",
      "<NewHkrReduceTemperature>0</NewHkrReduceTemperature>\n",
      "<NewHkrComfortVentilStatus>CLOSED</NewHkrComfortVentilStatus>\n",
      "<NewHkrComfortTemperature>0</NewHkrComfortTemperature>\n",
      "</u:GetSpecificDeviceInfosResponse>\n",
      "</s:Body>\n",
      "</s:Envelope>\n"
     ]
    }
   ],
   "source": [
    "import requests, warnings\n",
    "from requests.auth import HTTPDigestAuth\n",
    "\n",
    "\n",
    "def get_specific_device_info(device_ain:str)->requests.Response:\n",
    "    \"\"\"GetSpecificDeviceInfos action for TR-064 interfaces.\"\"\"\n",
    "    UPNP_URL = \"https://\" + FRITZ_IP + \":49443/upnp/control/x_homeauto\"\n",
    "    TR064_SERVICE = \"urn:dslforum-org:service:X_AVM-DE_Homeauto:1\"\n",
    "    SOAP_ACTION = \"GetSpecificDeviceInfos\"\n",
    "    # header for POST request\n",
    "    request_headers = {\n",
    "        'Content-Type': 'text/xml; charset=\"utf-8\"', \n",
    "        'SoapAction': TR064_SERVICE + \"#\" + SOAP_ACTION\n",
    "        # 'SoapAction': 'urn:dslforum-org:service:X_AVM-DE_Homeauto:1#GetSpecificDeviceInfos'\n",
    "    }\n",
    "    # data for POST request\n",
    "    request_data = f\"\"\"\n",
    "        <?xml version=\\\"1.0\\\"?> \n",
    "        <s:Envelope \n",
    "         xmlns:s=\\\"http://schemas.xmlsoap.org/soap/envelope/\\\" \n",
    "         s:encodingStyle=\\\"http://schemas.xmlsoap.org/soap/encoding/\\\"> \n",
    "            <s:Body> \n",
    "                <u:{SOAP_ACTION} xmlns:u=\\\"{TR064_SERVICE}\\\"> \n",
    "                    <NewAIN>{device_ain}</NewAIN> \n",
    "                </u:{SOAP_ACTION}> \n",
    "            </s:Body> \n",
    "        </s:Envelope>\n",
    "        \"\"\"\n",
    "    # temporary ignore warnings (caused by self-signed certificate of FRITZ!Box)\n",
    "    warnings.simplefilter('ignore')\n",
    "    # send POST request\n",
    "    request_result = requests.post(\n",
    "        url=UPNP_URL, \n",
    "        auth=HTTPDigestAuth(FRITZ_USER, FRITZ_PWD), \n",
    "        headers=request_headers, \n",
    "        data=request_data, \n",
    "        verify=False\n",
    "    )\n",
    "    # allow warning again\n",
    "    warnings.resetwarnings()\n",
    "    return request_result\n",
    "\n",
    "results = get_specific_device_info(AINS[0])\n",
    "print(results.headers)\n",
    "print(results.text)"
   ]
  },
  {
   "cell_type": "markdown",
   "id": "1112d33b",
   "metadata": {},
   "source": [
    "\n",
    "#### GetInfo [Works]"
   ]
  },
  {
   "cell_type": "code",
   "execution_count": 128,
   "id": "dc79256e",
   "metadata": {},
   "outputs": [
    {
     "name": "stdout",
     "output_type": "stream",
     "text": [
      "{'Connection': 'keep-alive', 'Content-Length': '518', 'Content-Type': 'text/xml; charset=\"utf-8\"', 'Date': 'Sat, 26 Jul 2025 12:16:47 GMT', 'Server': 'FRITZ!Box 7490 UPnP/1.0 AVM FRITZ!Box 7490 113.07.60', 'Ext': ''}\n",
      "<?xml version=\"1.0\"?>\n",
      "<s:Envelope xmlns:s=\"http://schemas.xmlsoap.org/soap/envelope/\" s:encodingStyle=\"http://schemas.xmlsoap.org/soap/encoding/\">\n",
      "<s:Body>\n",
      "<u:GetInfoResponse xmlns:u=\"urn:dslforum-org:service:X_AVM-DE_Homeauto:1\">\n",
      "<NewAllowedCharsAIN>0123456789ABCDEFabcdef :-grptmp</NewAllowedCharsAIN>\n",
      "<NewMaxCharsAIN>19</NewMaxCharsAIN>\n",
      "<NewMinCharsAIN>1</NewMinCharsAIN>\n",
      "<NewMaxCharsDeviceName>79</NewMaxCharsDeviceName>\n",
      "<NewMinCharsDeviceName>1</NewMinCharsDeviceName>\n",
      "</u:GetInfoResponse>\n",
      "</s:Body>\n",
      "</s:Envelope>\n"
     ]
    }
   ],
   "source": [
    "import requests, warnings\n",
    "from requests.auth import HTTPDigestAuth\n",
    "\n",
    "def get_info()->requests.Response:\n",
    "    \"\"\"GetSpecificDeviceInfos action for TR-064 interfaces.\"\"\"\n",
    "    UPNP_URL = \"https://\" + FRITZ_IP + \":49443/upnp/control/x_homeauto\"\n",
    "    TR064_SERVICE = \"urn:dslforum-org:service:X_AVM-DE_Homeauto:1\"\n",
    "    SOAP_ACTION = \"GetInfo\"\n",
    "    # header for POST request\n",
    "    request_headers = {\n",
    "        'Content-Type': 'text/xml; charset=\"utf-8\"', \n",
    "        'SoapAction': TR064_SERVICE + \"#\" + SOAP_ACTION\n",
    "        # 'SoapAction': 'urn:dslforum-org:service:X_AVM-DE_Homeauto:1#GetSpecificDeviceInfos'\n",
    "    }\n",
    "    # data for POST request\n",
    "    request_data = f\"\"\"\n",
    "        <?xml version=\\\"1.0\\\"?> \n",
    "        <s:Envelope \n",
    "         xmlns:s=\\\"http://schemas.xmlsoap.org/soap/envelope/\\\" \n",
    "         s:encodingStyle=\\\"http://schemas.xmlsoap.org/soap/encoding/\\\"> \n",
    "            <s:Body> \n",
    "                <u:{SOAP_ACTION} xmlns:u=\\\"{TR064_SERVICE}\\\"> \n",
    "                </u:{SOAP_ACTION}> \n",
    "            </s:Body> \n",
    "        </s:Envelope>\n",
    "        \"\"\"\n",
    "    # temporary ignore warnings (caused by self-signed certificate of FRITZ!Box)\n",
    "    warnings.simplefilter('ignore')\n",
    "    # send POST request\n",
    "    request_result = requests.post(\n",
    "        url=UPNP_URL, \n",
    "        auth=HTTPDigestAuth(FRITZ_USER, FRITZ_PWD), \n",
    "        headers=request_headers, \n",
    "        data=request_data, \n",
    "        verify=False\n",
    "    )\n",
    "    # allow warning again\n",
    "    warnings.resetwarnings()\n",
    "    return request_result\n",
    "\n",
    "results = get_info()\n",
    "print(results.headers)\n",
    "print(results.text)"
   ]
  },
  {
   "cell_type": "markdown",
   "id": "f56b8d5a",
   "metadata": {},
   "source": [
    "#### GetGenericDeviceInfos [FAIL]"
   ]
  },
  {
   "cell_type": "code",
   "execution_count": 129,
   "id": "be9ac761",
   "metadata": {},
   "outputs": [
    {
     "name": "stdout",
     "output_type": "stream",
     "text": [
      "{'Connection': 'keep-alive', 'Content-Length': '441', 'Content-Type': 'text/xml; charset=\"utf-8\"', 'Ext': ''}\n",
      "<?xml version=\"1.0\"?>\n",
      "<s:Envelope xmlns:s=\"http://schemas.xmlsoap.org/soap/envelope/\" s:encodingStyle=\"http://schemas.xmlsoap.org/soap/encoding/\">\n",
      "<s:Body>\n",
      "<s:Fault>\n",
      "<faultcode>s:Client</faultcode>\n",
      "<faultstring>UPnPError</faultstring>\n",
      "<detail>\n",
      "<UPnPError xmlns=\"urn:dslforum-org:control-1-0\">\n",
      "<errorCode>713</errorCode>\n",
      "<errorDescription>SpecifiedArrayIndexInvalid</errorDescription>\n",
      "</UPnPError>\n",
      "</detail>\n",
      "</s:Fault>\n",
      "</s:Body>\n",
      "</s:Envelope>\n"
     ]
    }
   ],
   "source": [
    "import requests, warnings\n",
    "from requests.auth import HTTPDigestAuth\n",
    "\n",
    "def get_generic_device_infos(device_index:str)->requests.Response:\n",
    "    \"\"\"GetSpecificDeviceInfos action for TR-064 interfaces.\"\"\"\n",
    "    UPNP_URL = \"https://\" + FRITZ_IP + \":49443/upnp/control/x_homeauto\"\n",
    "    TR064_SERVICE = \"urn:dslforum-org:service:X_AVM-DE_Homeauto:1\"\n",
    "    SOAP_ACTION = \"GetGenericDeviceInfos\"\n",
    "    # header for POST request\n",
    "    request_headers = {\n",
    "        'Content-Type': 'text/xml; charset=\"utf-8\"', \n",
    "        'SoapAction': TR064_SERVICE + \"#\" + SOAP_ACTION\n",
    "        # 'SoapAction': 'urn:dslforum-org:service:X_AVM-DE_Homeauto:1#GetSpecificDeviceInfos'\n",
    "    }\n",
    "    # data for POST request\n",
    "    request_data = f\"\"\"\n",
    "        <?xml version=\\\"1.0\\\"?> \n",
    "        <s:Envelope \n",
    "         xmlns:s=\\\"http://schemas.xmlsoap.org/soap/envelope/\\\" \n",
    "         s:encodingStyle=\\\"http://schemas.xmlsoap.org/soap/encoding/\\\"> \n",
    "            <s:Body> \n",
    "                <u:{SOAP_ACTION} xmlns:u=\\\"{TR064_SERVICE}\\\"> \n",
    "                    <NewIndex>{device_index}</NewIndex> \n",
    "                </u:{SOAP_ACTION}> \n",
    "            </s:Body> \n",
    "        </s:Envelope>\n",
    "        \"\"\"\n",
    "    # temporary ignore warnings (caused by self-signed certificate of FRITZ!Box)\n",
    "    warnings.simplefilter('ignore')\n",
    "    # send POST request\n",
    "    request_result = requests.post(\n",
    "        url=UPNP_URL, \n",
    "        auth=HTTPDigestAuth(FRITZ_USER, FRITZ_PWD), \n",
    "        headers=request_headers, \n",
    "        data=request_data, \n",
    "        verify=False\n",
    "    )\n",
    "    # allow warning again\n",
    "    warnings.resetwarnings()\n",
    "    return request_result\n",
    "\n",
    "results = get_generic_device_infos(\"16\")\n",
    "print(results.headers)\n",
    "print(results.text)"
   ]
  },
  {
   "cell_type": "markdown",
   "id": "5a11e459",
   "metadata": {},
   "source": [
    "#### SetSwitch\n"
   ]
  },
  {
   "cell_type": "code",
   "execution_count": 131,
   "id": "1f902623",
   "metadata": {},
   "outputs": [
    {
     "name": "stdout",
     "output_type": "stream",
     "text": [
      "{'Connection': 'keep-alive', 'Content-Length': '278', 'Content-Type': 'text/xml; charset=\"utf-8\"', 'Date': 'Sat, 26 Jul 2025 12:16:49 GMT', 'Server': 'FRITZ!Box 7490 UPnP/1.0 AVM FRITZ!Box 7490 113.07.60', 'Ext': ''}\n",
      "<?xml version=\"1.0\"?>\n",
      "<s:Envelope xmlns:s=\"http://schemas.xmlsoap.org/soap/envelope/\" s:encodingStyle=\"http://schemas.xmlsoap.org/soap/encoding/\">\n",
      "<s:Body>\n",
      "<u:SetSwitchResponse xmlns:u=\"urn:dslforum-org:service:X_AVM-DE_Homeauto:1\"></u:SetSwitchResponse>\n",
      "</s:Body>\n",
      "</s:Envelope>\n"
     ]
    }
   ],
   "source": [
    "import requests, warnings\n",
    "from requests.auth import HTTPDigestAuth\n",
    "\n",
    "\n",
    "def set_switch(device_ain:str, target_state:str)->requests.Response:\n",
    "    \"\"\"GetSpecificDeviceInfos action for TR-064 interfaces.\"\"\"\n",
    "    UPNP_URL = \"https://\" + FRITZ_IP + \":49443/upnp/control/x_homeauto\"\n",
    "    TR064_SERVICE = \"urn:dslforum-org:service:X_AVM-DE_Homeauto:1\"\n",
    "    SOAP_ACTION = \"SetSwitch\"\n",
    "\n",
    "    # ALLOWED_STATES = [\"ON\", \"OFF\", \"TOGGLE\"]\n",
    "    # if not target_state in ALLOWED_STATES:\n",
    "    #     print(\"Target state must be 'ON', 'OFF', or 'TOGGLE'.\")\n",
    "    #     return\n",
    "    # header for POST request\n",
    "    request_headers = {\n",
    "        'Content-Type': 'text/xml; charset=\"utf-8\"', \n",
    "        'SoapAction': TR064_SERVICE + \"#\" + SOAP_ACTION\n",
    "        # 'SoapAction': 'urn:dslforum-org:service:X_AVM-DE_Homeauto:1#GetSpecificDeviceInfos'\n",
    "    }\n",
    "    # data for POST request\n",
    "    request_data = f\"\"\"\n",
    "        <?xml version=\\\"1.0\\\"?> \n",
    "        <s:Envelope \n",
    "         xmlns:s=\\\"http://schemas.xmlsoap.org/soap/envelope/\\\" \n",
    "         s:encodingStyle=\\\"http://schemas.xmlsoap.org/soap/encoding/\\\"> \n",
    "            <s:Body> \n",
    "                <u:{SOAP_ACTION} xmlns:u=\\\"{TR064_SERVICE}\\\"> \n",
    "                    <NewAIN>{device_ain}</NewAIN> \n",
    "                    <NewSwitchState>{target_state}</NewSwitchState> \n",
    "                </u:{SOAP_ACTION}> \n",
    "            </s:Body> \n",
    "        </s:Envelope>\n",
    "        \"\"\"\n",
    "    # temporary ignore warnings (caused by self-signed certificate of FRITZ!Box)\n",
    "    warnings.simplefilter('ignore')\n",
    "    # send POST request\n",
    "    request_result = requests.post(\n",
    "        url=UPNP_URL, \n",
    "        auth=HTTPDigestAuth(FRITZ_USER, FRITZ_PWD), \n",
    "        headers=request_headers, \n",
    "        data=request_data, \n",
    "        verify=False\n",
    "    )\n",
    "    # allow warning again\n",
    "    warnings.resetwarnings()\n",
    "    return request_result\n",
    "\n",
    "results = set_switch(AINS[0], \"ON\")\n",
    "print(results.headers)\n",
    "print(results.text)\n"
   ]
  },
  {
   "cell_type": "markdown",
   "id": "6dcbeeec",
   "metadata": {},
   "source": [
    "### Another go at `turn_off_when_idle`\n"
   ]
  },
  {
   "cell_type": "markdown",
   "id": "087291d1",
   "metadata": {},
   "source": [
    "#### Get current power"
   ]
  },
  {
   "cell_type": "code",
   "execution_count": null,
   "id": "03a88448",
   "metadata": {},
   "outputs": [
    {
     "data": {
      "text/plain": [
       "{'time': datetime.datetime(2025, 7, 26, 14, 52, 31),\n",
       " 'power': 957.08,\n",
       " 'start': datetime.datetime(2025, 7, 26, 14, 52, 29, 948824),\n",
       " 'end': datetime.datetime(2025, 7, 26, 14, 52, 30, 891702),\n",
       " 'duration': 0.942878,\n",
       " 'latency': -0.108298}"
      ]
     },
     "execution_count": 152,
     "metadata": {},
     "output_type": "execute_result"
    }
   ],
   "source": [
    "from datetime import datetime, timezone\n",
    "\n",
    "def get_current_power(ain):\n",
    "    # request info from device keeping track of start and end times\n",
    "    start = current_time()\n",
    "    device_info = get_specific_device_info(ain)\n",
    "    end = current_time()\n",
    "    # extract power (in W) and timestamp \n",
    "    power = int((device_info.text).split(\"<NewMultimeterPower>\")[1].split(\"</NewMultimeterPower>\")[0]) / 100\n",
    "    timestamp = parse_date_str(device_info.headers['Date'])\n",
    "    # compute duration and latency\n",
    "    duration = seconds_between(start, end)\n",
    "    latency = seconds_between(timestamp, end)\n",
    "    power_data = {\n",
    "        \"power\":power,\n",
    "        \"time\":timestamp,\n",
    "        \"start\":start,\n",
    "        \"end\":end,\n",
    "        \"duration\":duration,\n",
    "        \"latency\":latency,\n",
    "    }\n",
    "    return power_data\n",
    "\n",
    "def current_time():\n",
    "    return datetime.now()#.astimezone()\n",
    "\n",
    "def seconds_between(start:datetime, end:datetime)->float:\n",
    "    return (end - start).total_seconds()\n",
    "\n",
    "def parse_date_str(date_str):\n",
    "    date = datetime.strptime(date_str, \"%a, %d %b %Y %H:%M:%S GMT\")\n",
    "    date = date.replace(tzinfo=timezone.utc)\n",
    "    date = date.astimezone().replace(tzinfo=None)\n",
    "    return date\n",
    "\n",
    "get_current_power(AINS[0])"
   ]
  },
  {
   "cell_type": "markdown",
   "id": "e5c4c1ec",
   "metadata": {},
   "source": [
    "#### Detect power measurement cycle"
   ]
  },
  {
   "cell_type": "markdown",
   "id": "542d86c0",
   "metadata": {},
   "source": []
  },
  {
   "cell_type": "code",
   "execution_count": 159,
   "id": "2a53bc01",
   "metadata": {},
   "outputs": [
    {
     "data": {
      "text/plain": [
       "1"
      ]
     },
     "execution_count": 159,
     "metadata": {},
     "output_type": "execute_result"
    }
   ],
   "source": [
    "len({1,1})"
   ]
  },
  {
   "cell_type": "code",
   "execution_count": null,
   "id": "242d602d",
   "metadata": {},
   "outputs": [
    {
     "name": "stdout",
     "output_type": "stream",
     "text": [
      "{'time': datetime.datetime(2025, 7, 26, 15, 13, 51), 'power': 3.29, 'start': datetime.datetime(2025, 7, 26, 15, 13, 50, 619352), 'end': datetime.datetime(2025, 7, 26, 15, 13, 51, 829687), 'duration': 1.210335, 'latency': 0.829687}\n",
      "{'time': datetime.datetime(2025, 7, 26, 15, 13, 52), 'power': 3.29, 'start': datetime.datetime(2025, 7, 26, 15, 13, 51, 830728), 'end': datetime.datetime(2025, 7, 26, 15, 13, 52, 736828), 'duration': 0.9061, 'latency': 0.736828}\n",
      "{'time': datetime.datetime(2025, 7, 26, 15, 13, 53), 'power': 3.29, 'start': datetime.datetime(2025, 7, 26, 15, 13, 52, 737946), 'end': datetime.datetime(2025, 7, 26, 15, 13, 53, 652541), 'duration': 0.914595, 'latency': 0.652541}\n",
      "{'time': datetime.datetime(2025, 7, 26, 15, 13, 54), 'power': 3.29, 'start': datetime.datetime(2025, 7, 26, 15, 13, 53, 653590), 'end': datetime.datetime(2025, 7, 26, 15, 13, 54, 592605), 'duration': 0.939015, 'latency': 0.592605}\n",
      "{'time': datetime.datetime(2025, 7, 26, 15, 13, 55), 'power': 3.29, 'start': datetime.datetime(2025, 7, 26, 15, 13, 54, 593617), 'end': datetime.datetime(2025, 7, 26, 15, 13, 55, 488054), 'duration': 0.894437, 'latency': 0.488054}\n",
      "{'time': datetime.datetime(2025, 7, 26, 15, 13, 56), 'power': 3.29, 'start': datetime.datetime(2025, 7, 26, 15, 13, 55, 489117), 'end': datetime.datetime(2025, 7, 26, 15, 13, 56, 403413), 'duration': 0.914296, 'latency': 0.403413}\n",
      "{'time': datetime.datetime(2025, 7, 26, 15, 13, 57), 'power': 3.29, 'start': datetime.datetime(2025, 7, 26, 15, 13, 56, 404511), 'end': datetime.datetime(2025, 7, 26, 15, 13, 57, 303921), 'duration': 0.89941, 'latency': 0.303921}\n",
      "{'time': datetime.datetime(2025, 7, 26, 15, 13, 58), 'power': 3.29, 'start': datetime.datetime(2025, 7, 26, 15, 13, 57, 305025), 'end': datetime.datetime(2025, 7, 26, 15, 13, 58, 236217), 'duration': 0.931192, 'latency': 0.236217}\n",
      "{'time': datetime.datetime(2025, 7, 26, 15, 13, 59), 'power': 3.29, 'start': datetime.datetime(2025, 7, 26, 15, 13, 58, 237290), 'end': datetime.datetime(2025, 7, 26, 15, 13, 59, 510383), 'duration': 1.273093, 'latency': 0.510383}\n",
      "{'time': datetime.datetime(2025, 7, 26, 15, 14), 'power': 3.29, 'start': datetime.datetime(2025, 7, 26, 15, 13, 59, 511460), 'end': datetime.datetime(2025, 7, 26, 15, 14, 0, 445648), 'duration': 0.934188, 'latency': 0.445648}\n",
      "{'time': datetime.datetime(2025, 7, 26, 15, 14, 1), 'power': 3.29, 'start': datetime.datetime(2025, 7, 26, 15, 14, 0, 446683), 'end': datetime.datetime(2025, 7, 26, 15, 14, 1, 338476), 'duration': 0.891793, 'latency': 0.338476}\n",
      "{'time': datetime.datetime(2025, 7, 26, 15, 14, 2), 'power': 3.29, 'start': datetime.datetime(2025, 7, 26, 15, 14, 1, 339480), 'end': datetime.datetime(2025, 7, 26, 15, 14, 2, 350544), 'duration': 1.011064, 'latency': 0.350544}\n",
      "{'time': datetime.datetime(2025, 7, 26, 15, 14, 3), 'power': 3.29, 'start': datetime.datetime(2025, 7, 26, 15, 14, 2, 351679), 'end': datetime.datetime(2025, 7, 26, 15, 14, 3, 773420), 'duration': 1.421741, 'latency': 0.77342}\n",
      "{'time': datetime.datetime(2025, 7, 26, 15, 14, 4), 'power': 3.29, 'start': datetime.datetime(2025, 7, 26, 15, 14, 3, 774595), 'end': datetime.datetime(2025, 7, 26, 15, 14, 4, 671433), 'duration': 0.896838, 'latency': 0.671433}\n",
      "{'time': datetime.datetime(2025, 7, 26, 15, 14, 5), 'power': 3.29, 'start': datetime.datetime(2025, 7, 26, 15, 14, 4, 672453), 'end': datetime.datetime(2025, 7, 26, 15, 14, 5, 567733), 'duration': 0.89528, 'latency': 0.567733}\n",
      "{'time': datetime.datetime(2025, 7, 26, 15, 14, 6), 'power': 3.29, 'start': datetime.datetime(2025, 7, 26, 15, 14, 5, 568825), 'end': datetime.datetime(2025, 7, 26, 15, 14, 6, 814839), 'duration': 1.246014, 'latency': 0.814839}\n",
      "{'time': datetime.datetime(2025, 7, 26, 15, 14, 7), 'power': 3.29, 'start': datetime.datetime(2025, 7, 26, 15, 14, 6, 815891), 'end': datetime.datetime(2025, 7, 26, 15, 14, 7, 805391), 'duration': 0.9895, 'latency': 0.805391}\n",
      "{'time': datetime.datetime(2025, 7, 26, 15, 14, 8), 'power': 3.29, 'start': datetime.datetime(2025, 7, 26, 15, 14, 7, 806466), 'end': datetime.datetime(2025, 7, 26, 15, 14, 8, 715254), 'duration': 0.908788, 'latency': 0.715254}\n",
      "{'time': datetime.datetime(2025, 7, 26, 15, 14, 9), 'power': 3.29, 'start': datetime.datetime(2025, 7, 26, 15, 14, 8, 716272), 'end': datetime.datetime(2025, 7, 26, 15, 14, 9, 646276), 'duration': 0.930004, 'latency': 0.646276}\n",
      "{'time': datetime.datetime(2025, 7, 26, 15, 14, 10), 'power': 3.29, 'start': datetime.datetime(2025, 7, 26, 15, 14, 9, 647396), 'end': datetime.datetime(2025, 7, 26, 15, 14, 10, 604022), 'duration': 0.956626, 'latency': 0.604022}\n",
      "{'time': datetime.datetime(2025, 7, 26, 15, 14, 11), 'power': 3.29, 'start': datetime.datetime(2025, 7, 26, 15, 14, 10, 605129), 'end': datetime.datetime(2025, 7, 26, 15, 14, 11, 510329), 'duration': 0.9052, 'latency': 0.510329}\n",
      "{'time': datetime.datetime(2025, 7, 26, 15, 14, 12), 'power': 3.29, 'start': datetime.datetime(2025, 7, 26, 15, 14, 11, 511365), 'end': datetime.datetime(2025, 7, 26, 15, 14, 12, 429122), 'duration': 0.917757, 'latency': 0.429122}\n",
      "{'time': datetime.datetime(2025, 7, 26, 15, 14, 13), 'power': 3.29, 'start': datetime.datetime(2025, 7, 26, 15, 14, 12, 430183), 'end': datetime.datetime(2025, 7, 26, 15, 14, 13, 597608), 'duration': 1.167425, 'latency': 0.597608}\n",
      "{'time': datetime.datetime(2025, 7, 26, 15, 14, 14), 'power': 3.29, 'start': datetime.datetime(2025, 7, 26, 15, 14, 13, 598650), 'end': datetime.datetime(2025, 7, 26, 15, 14, 14, 509769), 'duration': 0.911119, 'latency': 0.509769}\n",
      "{'time': datetime.datetime(2025, 7, 26, 15, 14, 15), 'power': 3.29, 'start': datetime.datetime(2025, 7, 26, 15, 14, 14, 510806), 'end': datetime.datetime(2025, 7, 26, 15, 14, 15, 417526), 'duration': 0.90672, 'latency': 0.417526}\n",
      "{'time': datetime.datetime(2025, 7, 26, 15, 14, 16), 'power': 3.29, 'start': datetime.datetime(2025, 7, 26, 15, 14, 15, 418576), 'end': datetime.datetime(2025, 7, 26, 15, 14, 16, 310062), 'duration': 0.891486, 'latency': 0.310062}\n",
      "{'time': datetime.datetime(2025, 7, 26, 15, 14, 17), 'power': 3.29, 'start': datetime.datetime(2025, 7, 26, 15, 14, 16, 311097), 'end': datetime.datetime(2025, 7, 26, 15, 14, 17, 235232), 'duration': 0.924135, 'latency': 0.235232}\n",
      "{'time': datetime.datetime(2025, 7, 26, 15, 14, 18), 'power': 3.29, 'start': datetime.datetime(2025, 7, 26, 15, 14, 17, 236200), 'end': datetime.datetime(2025, 7, 26, 15, 14, 18, 175863), 'duration': 0.939663, 'latency': 0.175863}\n",
      "{'time': datetime.datetime(2025, 7, 26, 15, 14, 19), 'power': 3.29, 'start': datetime.datetime(2025, 7, 26, 15, 14, 18, 176868), 'end': datetime.datetime(2025, 7, 26, 15, 14, 19, 91884), 'duration': 0.915016, 'latency': 0.091884}\n",
      "{'time': datetime.datetime(2025, 7, 26, 15, 14, 20), 'power': 3.29, 'start': datetime.datetime(2025, 7, 26, 15, 14, 19, 92931), 'end': datetime.datetime(2025, 7, 26, 15, 14, 19, 991677), 'duration': 0.898746, 'latency': -0.008323}\n",
      "{'time': datetime.datetime(2025, 7, 26, 15, 14, 21), 'power': 3.29, 'start': datetime.datetime(2025, 7, 26, 15, 14, 19, 992700), 'end': datetime.datetime(2025, 7, 26, 15, 14, 20, 898847), 'duration': 0.906147, 'latency': -0.101153}\n",
      "{'time': datetime.datetime(2025, 7, 26, 15, 14, 21), 'power': 3.29, 'start': datetime.datetime(2025, 7, 26, 15, 14, 20, 899991), 'end': datetime.datetime(2025, 7, 26, 15, 14, 21, 805562), 'duration': 0.905571, 'latency': 0.805562}\n",
      "{'time': datetime.datetime(2025, 7, 26, 15, 14, 23), 'power': 3.29, 'start': datetime.datetime(2025, 7, 26, 15, 14, 21, 806699), 'end': datetime.datetime(2025, 7, 26, 15, 14, 23, 5434), 'duration': 1.198735, 'latency': 0.005434}\n",
      "{'time': datetime.datetime(2025, 7, 26, 15, 14, 24), 'power': 3.29, 'start': datetime.datetime(2025, 7, 26, 15, 14, 23, 6478), 'end': datetime.datetime(2025, 7, 26, 15, 14, 23, 913391), 'duration': 0.906913, 'latency': -0.086609}\n",
      "{'time': datetime.datetime(2025, 7, 26, 15, 14, 25), 'power': 3.29, 'start': datetime.datetime(2025, 7, 26, 15, 14, 23, 914527), 'end': datetime.datetime(2025, 7, 26, 15, 14, 24, 865181), 'duration': 0.950654, 'latency': -0.134819}\n"
     ]
    }
   ],
   "source": [
    "def detect_power_cycle(ain):\n",
    "    two_last_measurements = []\n",
    "    while True:\n",
    "        measurement = get_current_power(ain)\n",
    "        print(measurement)\n",
    "        two_last_measurements.append(measurement)\n",
    "        two_last_measurements = two_last_measurements[-2:]\n",
    "        if len(two_last_measurements) >= 2:\n",
    "            power_vals = set([data['power'] for data in two_last_measurements])\n",
    "            if len(power_vals) == 2:\n",
    "                break\n",
    "    return two_last_measurements\n",
    "\n",
    "detect_power_cycle(AINS[0])\n",
    "\n",
    "\n",
    "        "
   ]
  },
  {
   "cell_type": "markdown",
   "id": "80840d17",
   "metadata": {},
   "source": [
    "### Random Notes\n",
    "Note that this function returns the response as an instance of the `requests.Response` class.\n",
    "While I'm at it, I might just as well take a quick look at what this class does."
   ]
  },
  {
   "cell_type": "code",
   "execution_count": 132,
   "id": "c06af7f9",
   "metadata": {},
   "outputs": [
    {
     "name": "stdout",
     "output_type": "stream",
     "text": [
      "Help on Response in module requests.models object:\n",
      "\n",
      "class Response(builtins.object)\n",
      " |  The :class:`Response <Response>` object, which contains a\n",
      " |  server's response to an HTTP request.\n",
      " |\n",
      " |  Methods defined here:\n",
      " |\n",
      " |  __bool__(self)\n",
      " |      Returns True if :attr:`status_code` is less than 400.\n",
      " |\n",
      " |      This attribute checks if the status code of the response is between\n",
      " |      400 and 600 to see if there was a client error or a server error. If\n",
      " |      the status code, is between 200 and 400, this will return True. This\n",
      " |      is **not** a check to see if the response code is ``200 OK``.\n",
      " |\n",
      " |  __enter__(self)\n",
      " |\n",
      " |  __exit__(self, *args)\n",
      " |\n",
      " |  __getstate__(self)\n",
      " |      Helper for pickle.\n",
      " |\n",
      " |  __init__(self)\n",
      " |      Initialize self.  See help(type(self)) for accurate signature.\n",
      " |\n",
      " |  __iter__(self)\n",
      " |      Allows you to use a response as an iterator.\n",
      " |\n",
      " |  __nonzero__(self)\n",
      " |      Returns True if :attr:`status_code` is less than 400.\n",
      " |\n",
      " |      This attribute checks if the status code of the response is between\n",
      " |      400 and 600 to see if there was a client error or a server error. If\n",
      " |      the status code, is between 200 and 400, this will return True. This\n",
      " |      is **not** a check to see if the response code is ``200 OK``.\n",
      " |\n",
      " |  __repr__(self)\n",
      " |      Return repr(self).\n",
      " |\n",
      " |  __setstate__(self, state)\n",
      " |\n",
      " |  close(self)\n",
      " |      Releases the connection back to the pool. Once this method has been\n",
      " |      called the underlying ``raw`` object must not be accessed again.\n",
      " |\n",
      " |      *Note: Should not normally need to be called explicitly.*\n",
      " |\n",
      " |  iter_content(self, chunk_size=1, decode_unicode=False)\n",
      " |      Iterates over the response data.  When stream=True is set on the\n",
      " |      request, this avoids reading the content at once into memory for\n",
      " |      large responses.  The chunk size is the number of bytes it should\n",
      " |      read into memory.  This is not necessarily the length of each item\n",
      " |      returned as decoding can take place.\n",
      " |\n",
      " |      chunk_size must be of type int or None. A value of None will\n",
      " |      function differently depending on the value of `stream`.\n",
      " |      stream=True will read data as it arrives in whatever size the\n",
      " |      chunks are received. If stream=False, data is returned as\n",
      " |      a single chunk.\n",
      " |\n",
      " |      If decode_unicode is True, content will be decoded using the best\n",
      " |      available encoding based on the response.\n",
      " |\n",
      " |  iter_lines(self, chunk_size=512, decode_unicode=False, delimiter=None)\n",
      " |      Iterates over the response data, one line at a time.  When\n",
      " |      stream=True is set on the request, this avoids reading the\n",
      " |      content at once into memory for large responses.\n",
      " |\n",
      " |      .. note:: This method is not reentrant safe.\n",
      " |\n",
      " |  json(self, **kwargs)\n",
      " |      Returns the json-encoded content of a response, if any.\n",
      " |\n",
      " |      :param \\*\\*kwargs: Optional arguments that ``json.loads`` takes.\n",
      " |      :raises requests.exceptions.JSONDecodeError: If the response body does not\n",
      " |          contain valid json.\n",
      " |\n",
      " |  raise_for_status(self)\n",
      " |      Raises :class:`HTTPError`, if one occurred.\n",
      " |\n",
      " |  ----------------------------------------------------------------------\n",
      " |  Readonly properties defined here:\n",
      " |\n",
      " |  apparent_encoding\n",
      " |      The apparent encoding, provided by the charset_normalizer or chardet libraries.\n",
      " |\n",
      " |  content\n",
      " |      Content of the response, in bytes.\n",
      " |\n",
      " |  is_permanent_redirect\n",
      " |      True if this Response one of the permanent versions of redirect.\n",
      " |\n",
      " |  is_redirect\n",
      " |      True if this Response is a well-formed HTTP redirect that could have\n",
      " |      been processed automatically (by :meth:`Session.resolve_redirects`).\n",
      " |\n",
      " |  links\n",
      " |      Returns the parsed header links of the response, if any.\n",
      " |\n",
      " |  next\n",
      " |      Returns a PreparedRequest for the next request in a redirect chain, if there is one.\n",
      " |\n",
      " |  ok\n",
      " |      Returns True if :attr:`status_code` is less than 400, False if not.\n",
      " |\n",
      " |      This attribute checks if the status code of the response is between\n",
      " |      400 and 600 to see if there was a client error or a server error. If\n",
      " |      the status code is between 200 and 400, this will return True. This\n",
      " |      is **not** a check to see if the response code is ``200 OK``.\n",
      " |\n",
      " |  text\n",
      " |      Content of the response, in unicode.\n",
      " |\n",
      " |      If Response.encoding is None, encoding will be guessed using\n",
      " |      ``charset_normalizer`` or ``chardet``.\n",
      " |\n",
      " |      The encoding of the response content is determined based solely on HTTP\n",
      " |      headers, following RFC 2616 to the letter. If you can take advantage of\n",
      " |      non-HTTP knowledge to make a better guess at the encoding, you should\n",
      " |      set ``r.encoding`` appropriately before accessing this property.\n",
      " |\n",
      " |  ----------------------------------------------------------------------\n",
      " |  Data descriptors defined here:\n",
      " |\n",
      " |  __dict__\n",
      " |      dictionary for instance variables\n",
      " |\n",
      " |  __weakref__\n",
      " |      list of weak references to the object\n",
      " |\n",
      " |  ----------------------------------------------------------------------\n",
      " |  Data and other attributes defined here:\n",
      " |\n",
      " |  __attrs__ = ['_content', 'status_code', 'headers', 'url', 'history', '...\n",
      "\n",
      "None\n"
     ]
    }
   ],
   "source": [
    "# print documentation of the `requests.Response` class\n",
    "print(help(results))"
   ]
  },
  {
   "cell_type": "markdown",
   "id": "db50c8c9",
   "metadata": {},
   "source": [
    "The relevant information is found in the attributes `.headers` and `.text`. \n",
    "* `.headers` is a type of dictionary containing metadata of the response including a time stamp with second precision\n",
    "* `.text` is a string containing the XML encoded response"
   ]
  },
  {
   "cell_type": "code",
   "execution_count": 133,
   "id": "8fb42395",
   "metadata": {},
   "outputs": [
    {
     "name": "stdout",
     "output_type": "stream",
     "text": [
      "Type of .headers: <class 'requests.structures.CaseInsensitiveDict'>\n",
      "Type of .text:    <class 'str'>\n",
      "--------------------------------------------------------------------------------\n",
      "Keys in results.headers:\n",
      "- Connection     : keep-alive\n",
      "- Content-Length : 278\n",
      "- Content-Type   : text/xml; charset=\"utf-8\"\n",
      "- Date           : Sat, 26 Jul 2025 12:16:49 GMT\n",
      "- Server         : FRITZ!Box 7490 UPnP/1.0 AVM FRITZ!Box 7490 113.07.60\n",
      "- Ext            : \n"
     ]
    }
   ],
   "source": [
    "# print data types\n",
    "print(\"Type of .headers:\", type(results.headers))\n",
    "print(\"Type of .text:   \", type(results.text))\n",
    "print(\"-\"*80)\n",
    "# print dictionary keys\n",
    "print(\"Keys in results.headers:\")\n",
    "for key, val in results.headers.items():\n",
    "    print(f\"- {key:14s} : {val}\")\n"
   ]
  },
  {
   "cell_type": "code",
   "execution_count": 134,
   "id": "e56f7562",
   "metadata": {},
   "outputs": [
    {
     "name": "stdout",
     "output_type": "stream",
     "text": [
      "Type of .text:    <class 'str'>\n",
      "--------------------------------------------------------------------------------\n",
      "Contents of results.text:\n",
      "\n",
      "<?xml version=\"1.0\"?>\n",
      "<s:Envelope xmlns:s=\"http://schemas.xmlsoap.org/soap/envelope/\" s:encodingStyle=\"http://schemas.xmlsoap.org/soap/encoding/\">\n",
      "<s:Body>\n",
      "<u:SetSwitchResponse xmlns:u=\"urn:dslforum-org:service:X_AVM-DE_Homeauto:1\"></u:SetSwitchResponse>\n",
      "</s:Body>\n",
      "</s:Envelope>\n"
     ]
    }
   ],
   "source": [
    "print(\"Type of .text:   \", type(results.text))\n",
    "print(\"-\"*80)\n",
    "# print results.text\n",
    "print(\"Contents of results.text:\\n\")\n",
    "print(results.text)"
   ]
  },
  {
   "cell_type": "code",
   "execution_count": 135,
   "id": "19509d88",
   "metadata": {},
   "outputs": [
    {
     "name": "stdout",
     "output_type": "stream",
     "text": [
      "angolo (3.29, 'Sat, 26 Jul 2025 12:16:50 GMT')\n",
      "tv (86.97, 'Sat, 26 Jul 2025 12:16:51 GMT')\n"
     ]
    }
   ],
   "source": [
    "\n",
    "def get_power(device_ain):\n",
    "    \"\"\"Get the current power consumption using the TR-064 interfaces.\"\"\"\n",
    "    # get specific device information\n",
    "    request_result = get_specific_device_info(device_ain)\n",
    "    # extract power value and date\n",
    "    power = int((request_result.text).split(\"<NewMultimeterPower>\")[1].split(\"</NewMultimeterPower>\")[0]) / 100\n",
    "    date = request_result.headers['Date']\n",
    "    return power, date\n",
    "    # return request_result\n",
    "\n",
    "for dev, ain in DEVICES.items():\n",
    "    print(dev, get_power(ain))"
   ]
  }
 ],
 "metadata": {
  "kernelspec": {
   "display_name": "Python 3",
   "language": "python",
   "name": "python3"
  },
  "language_info": {
   "codemirror_mode": {
    "name": "ipython",
    "version": 3
   },
   "file_extension": ".py",
   "mimetype": "text/x-python",
   "name": "python",
   "nbconvert_exporter": "python",
   "pygments_lexer": "ipython3",
   "version": "3.13.5"
  }
 },
 "nbformat": 4,
 "nbformat_minor": 5
}
