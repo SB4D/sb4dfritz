{
 "cells": [
  {
   "cell_type": "markdown",
   "id": "47137fa9",
   "metadata": {},
   "source": [
    "# The Official AVM FRITZ!Box Interfaces\n",
    "\n",
    "AVM offers developers two ways to communicate with their FRITZ!Box routers:\n",
    "* **TR-064:** \n",
    "* **AHA-HTTP:** \n",
    "\n",
    "The `fritzconnection` library uses both of these interfaces, at least according to its documentation. I'd like to understand how this communication works. \n",
    "\n",
    "First things first, I need to get the login info."
   ]
  },
  {
   "cell_type": "code",
   "execution_count": 73,
   "id": "10caec88",
   "metadata": {},
   "outputs": [],
   "source": [
    "import json\n",
    "\n",
    "# load config file\n",
    "CONFIG_FILE = \"..\\\\..\\\\..\\\\_private_files\\\\sb4dfritz_secrets.ini\"\n",
    "with open(CONFIG_FILE,\"r\") as file:\n",
    "    FRITZBOX = json.load(file)\n",
    "# extract login data\n",
    "FRITZ_IP = FRITZBOX['login']['ip']\n",
    "FRITZ_USER = FRITZBOX['login']['user']\n",
    "FRITZ_PWD = FRITZBOX['login']['pwd']\n",
    "# extract device ains\n",
    "DEVICES = FRITZBOX['ains']\n",
    "AINS = list(DEVICES.values())\n"
   ]
  },
  {
   "cell_type": "markdown",
   "id": "1d013e49",
   "metadata": {},
   "source": [
    "## The TR-064 Method\n"
   ]
  },
  {
   "cell_type": "markdown",
   "id": "104f8947",
   "metadata": {},
   "source": [
    "Here's a basic way to get the \"current\" power consumption of a FRITZ! smart plug. \n",
    "The procedure goes as follows:\n",
    "* Formulate the request as a SOAP action\n",
    "* Send it as a HTTP POST message using the `requests` module"
   ]
  },
  {
   "cell_type": "markdown",
   "id": "00d7877b",
   "metadata": {},
   "source": [
    "### A concrete example\n"
   ]
  },
  {
   "cell_type": "markdown",
   "id": "7d50f3d8",
   "metadata": {},
   "source": [
    "### What actions are there?\n"
   ]
  },
  {
   "cell_type": "markdown",
   "id": "5f8a647f",
   "metadata": {},
   "source": [
    "### Implemententing the actions\n"
   ]
  },
  {
   "cell_type": "markdown",
   "id": "00ae564f",
   "metadata": {},
   "source": [
    "#### GetSpecificDeviceInfos [WORKS]"
   ]
  },
  {
   "cell_type": "code",
   "execution_count": 4,
   "id": "a53f7e1d",
   "metadata": {},
   "outputs": [
    {
     "name": "stdout",
     "output_type": "stream",
     "text": [
      "{'Connection': 'keep-alive', 'Content-Length': '1676', 'Content-Type': 'text/xml; charset=\"utf-8\"', 'Date': 'Mon, 18 Aug 2025 18:03:48 GMT', 'Server': 'FRITZ!Box 7490 UPnP/1.0 AVM FRITZ!Box 7490 113.07.60', 'Ext': ''}\n",
      "<?xml version=\"1.0\"?>\n",
      "<s:Envelope xmlns:s=\"http://schemas.xmlsoap.org/soap/envelope/\" s:encodingStyle=\"http://schemas.xmlsoap.org/soap/encoding/\">\n",
      "<s:Body>\n",
      "<u:GetSpecificDeviceInfosResponse xmlns:u=\"urn:dslforum-org:service:X_AVM-DE_Homeauto:1\">\n",
      "<NewDeviceId>16</NewDeviceId>\n",
      "<NewFunctionBitMask>35712</NewFunctionBitMask>\n",
      "<NewFirmwareVersion>04.27</NewFirmwareVersion>\n",
      "<NewManufacturer>AVM</NewManufacturer>\n",
      "<NewProductName>FRITZ!DECT 200</NewProductName>\n",
      "<NewDeviceName>l&apos;angolo del caffè</NewDeviceName>\n",
      "<NewPresent>CONNECTED</NewPresent>\n",
      "<NewMultimeterIsEnabled>ENABLED</NewMultimeterIsEnabled>\n",
      "<NewMultimeterIsValid>VALID</NewMultimeterIsValid>\n",
      "<NewMultimeterPower>0</NewMultimeterPower>\n",
      "<NewMultimeterEnergy>2907513</NewMultimeterEnergy>\n",
      "<NewTemperatureIsEnabled>ENABLED</NewTemperatureIsEnabled>\n",
      "<NewTemperatureIsValid>VALID</NewTemperatureIsValid>\n",
      "<NewTemperatureCelsius>250</NewTemperatureCelsius>\n",
      "<NewTemperatureOffset>5</NewTemperatureOffset>\n",
      "<NewSwitchIsEnabled>ENABLED</NewSwitchIsEnabled>\n",
      "<NewSwitchIsValid>VALID</NewSwitchIsValid>\n",
      "<NewSwitchState>OFF</NewSwitchState>\n",
      "<NewSwitchMode>AUTO</NewSwitchMode>\n",
      "<NewSwitchLock>0</NewSwitchLock>\n",
      "<NewHkrIsEnabled>DISABLED</NewHkrIsEnabled>\n",
      "<NewHkrIsValid>INVALID</NewHkrIsValid>\n",
      "<NewHkrIsTemperature>0</NewHkrIsTemperature>\n",
      "<NewHkrSetVentilStatus>CLOSED</NewHkrSetVentilStatus>\n",
      "<NewHkrSetTemperature>0</NewHkrSetTemperature>\n",
      "<NewHkrReduceVentilStatus>CLOSED</NewHkrReduceVentilStatus>\n",
      "<NewHkrReduceTemperature>0</NewHkrReduceTemperature>\n",
      "<NewHkrComfortVentilStatus>CLOSED</NewHkrComfortVentilStatus>\n",
      "<NewHkrComfortTemperature>0</NewHkrComfortTemperature>\n",
      "</u:GetSpecificDeviceInfosResponse>\n",
      "</s:Body>\n",
      "</s:Envelope>\n"
     ]
    }
   ],
   "source": [
    "import requests, warnings\n",
    "from requests.auth import HTTPDigestAuth\n",
    "\n",
    "\n",
    "def get_specific_device_info(device_ain:str)->requests.Response:\n",
    "    \"\"\"GetSpecificDeviceInfos action for TR-064 interfaces.\"\"\"\n",
    "    UPNP_URL = \"https://\" + FRITZ_IP + \":49443/upnp/control/x_homeauto\"\n",
    "    TR064_SERVICE = \"urn:dslforum-org:service:X_AVM-DE_Homeauto:1\"\n",
    "    SOAP_ACTION = \"GetSpecificDeviceInfos\"\n",
    "    # header for POST request\n",
    "    request_headers = {\n",
    "        'Content-Type': 'text/xml; charset=\"utf-8\"', \n",
    "        'SoapAction': TR064_SERVICE + \"#\" + SOAP_ACTION\n",
    "        # 'SoapAction': 'urn:dslforum-org:service:X_AVM-DE_Homeauto:1#GetSpecificDeviceInfos'\n",
    "    }\n",
    "    # data for POST request\n",
    "    request_data = f\"\"\"\n",
    "        <?xml version=\\\"1.0\\\"?> \n",
    "        <s:Envelope \n",
    "         xmlns:s=\\\"http://schemas.xmlsoap.org/soap/envelope/\\\" \n",
    "         s:encodingStyle=\\\"http://schemas.xmlsoap.org/soap/encoding/\\\"> \n",
    "            <s:Body> \n",
    "                <u:{SOAP_ACTION} xmlns:u=\\\"{TR064_SERVICE}\\\"> \n",
    "                    <NewAIN>{device_ain}</NewAIN> \n",
    "                </u:{SOAP_ACTION}> \n",
    "            </s:Body> \n",
    "        </s:Envelope>\n",
    "        \"\"\"\n",
    "    # temporary ignore warnings (caused by self-signed certificate of FRITZ!Box)\n",
    "    warnings.simplefilter('ignore')\n",
    "    # send POST request\n",
    "    request_result = requests.post(\n",
    "        url=UPNP_URL, \n",
    "        auth=HTTPDigestAuth(FRITZ_USER, FRITZ_PWD), \n",
    "        headers=request_headers, \n",
    "        data=request_data, \n",
    "        verify=False\n",
    "    )\n",
    "    # allow warning again\n",
    "    warnings.resetwarnings()\n",
    "    return request_result\n",
    "\n",
    "results = get_specific_device_info(AINS[0])\n",
    "print(results.headers)\n",
    "print(results.text)"
   ]
  },
  {
   "cell_type": "markdown",
   "id": "1112d33b",
   "metadata": {},
   "source": [
    "\n",
    "#### GetInfo [Works]"
   ]
  },
  {
   "cell_type": "code",
   "execution_count": 5,
   "id": "dc79256e",
   "metadata": {},
   "outputs": [
    {
     "name": "stdout",
     "output_type": "stream",
     "text": [
      "{'Connection': 'keep-alive', 'Content-Length': '518', 'Content-Type': 'text/xml; charset=\"utf-8\"', 'Date': 'Mon, 18 Aug 2025 18:03:49 GMT', 'Server': 'FRITZ!Box 7490 UPnP/1.0 AVM FRITZ!Box 7490 113.07.60', 'Ext': ''}\n",
      "<?xml version=\"1.0\"?>\n",
      "<s:Envelope xmlns:s=\"http://schemas.xmlsoap.org/soap/envelope/\" s:encodingStyle=\"http://schemas.xmlsoap.org/soap/encoding/\">\n",
      "<s:Body>\n",
      "<u:GetInfoResponse xmlns:u=\"urn:dslforum-org:service:X_AVM-DE_Homeauto:1\">\n",
      "<NewAllowedCharsAIN>0123456789ABCDEFabcdef :-grptmp</NewAllowedCharsAIN>\n",
      "<NewMaxCharsAIN>19</NewMaxCharsAIN>\n",
      "<NewMinCharsAIN>1</NewMinCharsAIN>\n",
      "<NewMaxCharsDeviceName>79</NewMaxCharsDeviceName>\n",
      "<NewMinCharsDeviceName>1</NewMinCharsDeviceName>\n",
      "</u:GetInfoResponse>\n",
      "</s:Body>\n",
      "</s:Envelope>\n"
     ]
    }
   ],
   "source": [
    "import requests, warnings\n",
    "from requests.auth import HTTPDigestAuth\n",
    "\n",
    "def get_info()->requests.Response:\n",
    "    \"\"\"GetSpecificDeviceInfos action for TR-064 interfaces.\"\"\"\n",
    "    UPNP_URL = \"https://\" + FRITZ_IP + \":49443/upnp/control/x_homeauto\"\n",
    "    TR064_SERVICE = \"urn:dslforum-org:service:X_AVM-DE_Homeauto:1\"\n",
    "    SOAP_ACTION = \"GetInfo\"\n",
    "    # header for POST request\n",
    "    request_headers = {\n",
    "        'Content-Type': 'text/xml; charset=\"utf-8\"', \n",
    "        'SoapAction': TR064_SERVICE + \"#\" + SOAP_ACTION\n",
    "        # 'SoapAction': 'urn:dslforum-org:service:X_AVM-DE_Homeauto:1#GetSpecificDeviceInfos'\n",
    "    }\n",
    "    # data for POST request\n",
    "    request_data = f\"\"\"\n",
    "        <?xml version=\\\"1.0\\\"?> \n",
    "        <s:Envelope \n",
    "         xmlns:s=\\\"http://schemas.xmlsoap.org/soap/envelope/\\\" \n",
    "         s:encodingStyle=\\\"http://schemas.xmlsoap.org/soap/encoding/\\\"> \n",
    "            <s:Body> \n",
    "                <u:{SOAP_ACTION} xmlns:u=\\\"{TR064_SERVICE}\\\"> \n",
    "                </u:{SOAP_ACTION}> \n",
    "            </s:Body> \n",
    "        </s:Envelope>\n",
    "        \"\"\"\n",
    "    # temporary ignore warnings (caused by self-signed certificate of FRITZ!Box)\n",
    "    warnings.simplefilter('ignore')\n",
    "    # send POST request\n",
    "    request_result = requests.post(\n",
    "        url=UPNP_URL, \n",
    "        auth=HTTPDigestAuth(FRITZ_USER, FRITZ_PWD), \n",
    "        headers=request_headers, \n",
    "        data=request_data, \n",
    "        verify=False\n",
    "    )\n",
    "    # allow warning again\n",
    "    warnings.resetwarnings()\n",
    "    return request_result\n",
    "\n",
    "results = get_info()\n",
    "print(results.headers)\n",
    "print(results.text)"
   ]
  },
  {
   "cell_type": "markdown",
   "id": "f56b8d5a",
   "metadata": {},
   "source": [
    "#### GetGenericDeviceInfos [FAIL]"
   ]
  },
  {
   "cell_type": "code",
   "execution_count": 6,
   "id": "be9ac761",
   "metadata": {},
   "outputs": [
    {
     "name": "stdout",
     "output_type": "stream",
     "text": [
      "{'Connection': 'keep-alive', 'Content-Length': '441', 'Content-Type': 'text/xml; charset=\"utf-8\"', 'Ext': ''}\n",
      "<?xml version=\"1.0\"?>\n",
      "<s:Envelope xmlns:s=\"http://schemas.xmlsoap.org/soap/envelope/\" s:encodingStyle=\"http://schemas.xmlsoap.org/soap/encoding/\">\n",
      "<s:Body>\n",
      "<s:Fault>\n",
      "<faultcode>s:Client</faultcode>\n",
      "<faultstring>UPnPError</faultstring>\n",
      "<detail>\n",
      "<UPnPError xmlns=\"urn:dslforum-org:control-1-0\">\n",
      "<errorCode>713</errorCode>\n",
      "<errorDescription>SpecifiedArrayIndexInvalid</errorDescription>\n",
      "</UPnPError>\n",
      "</detail>\n",
      "</s:Fault>\n",
      "</s:Body>\n",
      "</s:Envelope>\n"
     ]
    }
   ],
   "source": [
    "import requests, warnings\n",
    "from requests.auth import HTTPDigestAuth\n",
    "\n",
    "def get_generic_device_infos(device_index:str)->requests.Response:\n",
    "    \"\"\"GetSpecificDeviceInfos action for TR-064 interfaces.\"\"\"\n",
    "    UPNP_URL = \"https://\" + FRITZ_IP + \":49443/upnp/control/x_homeauto\"\n",
    "    TR064_SERVICE = \"urn:dslforum-org:service:X_AVM-DE_Homeauto:1\"\n",
    "    SOAP_ACTION = \"GetGenericDeviceInfos\"\n",
    "    # header for POST request\n",
    "    request_headers = {\n",
    "        'Content-Type': 'text/xml; charset=\"utf-8\"', \n",
    "        'SoapAction': TR064_SERVICE + \"#\" + SOAP_ACTION\n",
    "        # 'SoapAction': 'urn:dslforum-org:service:X_AVM-DE_Homeauto:1#GetSpecificDeviceInfos'\n",
    "    }\n",
    "    # data for POST request\n",
    "    request_data = f\"\"\"\n",
    "        <?xml version=\\\"1.0\\\"?> \n",
    "        <s:Envelope \n",
    "         xmlns:s=\\\"http://schemas.xmlsoap.org/soap/envelope/\\\" \n",
    "         s:encodingStyle=\\\"http://schemas.xmlsoap.org/soap/encoding/\\\"> \n",
    "            <s:Body> \n",
    "                <u:{SOAP_ACTION} xmlns:u=\\\"{TR064_SERVICE}\\\"> \n",
    "                    <NewIndex>{device_index}</NewIndex> \n",
    "                </u:{SOAP_ACTION}> \n",
    "            </s:Body> \n",
    "        </s:Envelope>\n",
    "        \"\"\"\n",
    "    # temporary ignore warnings (caused by self-signed certificate of FRITZ!Box)\n",
    "    warnings.simplefilter('ignore')\n",
    "    # send POST request\n",
    "    request_result = requests.post(\n",
    "        url=UPNP_URL, \n",
    "        auth=HTTPDigestAuth(FRITZ_USER, FRITZ_PWD), \n",
    "        headers=request_headers, \n",
    "        data=request_data, \n",
    "        verify=False\n",
    "    )\n",
    "    # allow warning again\n",
    "    warnings.resetwarnings()\n",
    "    return request_result\n",
    "\n",
    "results = get_generic_device_infos(\"16\")\n",
    "print(results.headers)\n",
    "print(results.text)"
   ]
  },
  {
   "cell_type": "markdown",
   "id": "5a11e459",
   "metadata": {},
   "source": [
    "#### SetSwitch\n"
   ]
  },
  {
   "cell_type": "code",
   "execution_count": 7,
   "id": "1f902623",
   "metadata": {},
   "outputs": [
    {
     "name": "stdout",
     "output_type": "stream",
     "text": [
      "{'Connection': 'keep-alive', 'Content-Length': '278', 'Content-Type': 'text/xml; charset=\"utf-8\"', 'Date': 'Mon, 18 Aug 2025 18:03:50 GMT', 'Server': 'FRITZ!Box 7490 UPnP/1.0 AVM FRITZ!Box 7490 113.07.60', 'Ext': ''}\n",
      "<?xml version=\"1.0\"?>\n",
      "<s:Envelope xmlns:s=\"http://schemas.xmlsoap.org/soap/envelope/\" s:encodingStyle=\"http://schemas.xmlsoap.org/soap/encoding/\">\n",
      "<s:Body>\n",
      "<u:SetSwitchResponse xmlns:u=\"urn:dslforum-org:service:X_AVM-DE_Homeauto:1\"></u:SetSwitchResponse>\n",
      "</s:Body>\n",
      "</s:Envelope>\n"
     ]
    }
   ],
   "source": [
    "import requests, warnings\n",
    "from requests.auth import HTTPDigestAuth\n",
    "\n",
    "\n",
    "def set_switch(device_ain:str, target_state:str)->requests.Response:\n",
    "    \"\"\"GetSpecificDeviceInfos action for TR-064 interfaces.\"\"\"\n",
    "    UPNP_URL = \"https://\" + FRITZ_IP + \":49443/upnp/control/x_homeauto\"\n",
    "    TR064_SERVICE = \"urn:dslforum-org:service:X_AVM-DE_Homeauto:1\"\n",
    "    SOAP_ACTION = \"SetSwitch\"\n",
    "\n",
    "    # ALLOWED_STATES = [\"ON\", \"OFF\", \"TOGGLE\"]\n",
    "    # if not target_state in ALLOWED_STATES:\n",
    "    #     print(\"Target state must be 'ON', 'OFF', or 'TOGGLE'.\")\n",
    "    #     return\n",
    "    # header for POST request\n",
    "    request_headers = {\n",
    "        'Content-Type': 'text/xml; charset=\"utf-8\"', \n",
    "        'SoapAction': TR064_SERVICE + \"#\" + SOAP_ACTION\n",
    "        # 'SoapAction': 'urn:dslforum-org:service:X_AVM-DE_Homeauto:1#GetSpecificDeviceInfos'\n",
    "    }\n",
    "    # data for POST request\n",
    "    request_data = f\"\"\"\n",
    "        <?xml version=\\\"1.0\\\"?> \n",
    "        <s:Envelope \n",
    "         xmlns:s=\\\"http://schemas.xmlsoap.org/soap/envelope/\\\" \n",
    "         s:encodingStyle=\\\"http://schemas.xmlsoap.org/soap/encoding/\\\"> \n",
    "            <s:Body> \n",
    "                <u:{SOAP_ACTION} xmlns:u=\\\"{TR064_SERVICE}\\\"> \n",
    "                    <NewAIN>{device_ain}</NewAIN> \n",
    "                    <NewSwitchState>{target_state}</NewSwitchState> \n",
    "                </u:{SOAP_ACTION}> \n",
    "            </s:Body> \n",
    "        </s:Envelope>\n",
    "        \"\"\"\n",
    "    # temporary ignore warnings (caused by self-signed certificate of FRITZ!Box)\n",
    "    warnings.simplefilter('ignore')\n",
    "    # send POST request\n",
    "    request_result = requests.post(\n",
    "        url=UPNP_URL, \n",
    "        auth=HTTPDigestAuth(FRITZ_USER, FRITZ_PWD), \n",
    "        headers=request_headers, \n",
    "        data=request_data, \n",
    "        verify=False\n",
    "    )\n",
    "    # allow warning again\n",
    "    warnings.resetwarnings()\n",
    "    return request_result\n",
    "\n",
    "results = set_switch(AINS[0], \"ON\")\n",
    "print(results.headers)\n",
    "print(results.text)\n"
   ]
  },
  {
   "cell_type": "markdown",
   "id": "6dcbeeec",
   "metadata": {},
   "source": [
    "### Another go at `turn_off_when_idle`\n"
   ]
  },
  {
   "cell_type": "markdown",
   "id": "087291d1",
   "metadata": {},
   "source": [
    "#### Get current power"
   ]
  },
  {
   "cell_type": "code",
   "execution_count": 8,
   "id": "03a88448",
   "metadata": {},
   "outputs": [
    {
     "data": {
      "text/plain": [
       "{'power': 0.0,\n",
       " 'time': datetime.datetime(2025, 8, 18, 20, 3, 51),\n",
       " 'start': datetime.datetime(2025, 8, 18, 20, 3, 51, 335802),\n",
       " 'end': datetime.datetime(2025, 8, 18, 20, 3, 52, 328075),\n",
       " 'duration': 0.992273,\n",
       " 'latency': 1.328075}"
      ]
     },
     "execution_count": 8,
     "metadata": {},
     "output_type": "execute_result"
    }
   ],
   "source": [
    "from datetime import datetime, timezone\n",
    "\n",
    "def get_current_power(ain):\n",
    "    # request info from device keeping track of start and end times\n",
    "    start = current_time()\n",
    "    device_info = get_specific_device_info(ain)\n",
    "    end = current_time()\n",
    "    # extract power (in W) and timestamp \n",
    "    power = int((device_info.text).split(\"<NewMultimeterPower>\")[1].split(\"</NewMultimeterPower>\")[0]) / 100\n",
    "    timestamp = parse_date_str(device_info.headers['Date'])\n",
    "    # compute duration and latency\n",
    "    duration = seconds_between(start, end)\n",
    "    latency = seconds_between(timestamp, end)\n",
    "    power_data = {\n",
    "        \"power\":power,\n",
    "        \"time\":timestamp,\n",
    "        \"start\":start,\n",
    "        \"end\":end,\n",
    "        \"duration\":duration,\n",
    "        \"latency\":latency,\n",
    "    }\n",
    "    return power_data\n",
    "\n",
    "def current_time():\n",
    "    return datetime.now()#.astimezone()\n",
    "\n",
    "def seconds_between(start:datetime, end:datetime)->float:\n",
    "    return (end - start).total_seconds()\n",
    "\n",
    "def parse_date_str(date_str):\n",
    "    date = datetime.strptime(date_str, \"%a, %d %b %Y %H:%M:%S GMT\")\n",
    "    date = date.replace(tzinfo=timezone.utc)\n",
    "    date = date.astimezone().replace(tzinfo=None)\n",
    "    return date\n",
    "\n",
    "get_current_power(AINS[0])"
   ]
  },
  {
   "cell_type": "markdown",
   "id": "e5c4c1ec",
   "metadata": {},
   "source": [
    "#### Detect power measurement cycle"
   ]
  },
  {
   "cell_type": "markdown",
   "id": "f968afac",
   "metadata": {},
   "source": [
    "Here's a first attempt to detect the power measurement cycle.\n",
    "I'm simply requesting measurements repeatedly until the power value changes."
   ]
  },
  {
   "cell_type": "code",
   "execution_count": 9,
   "id": "242d602d",
   "metadata": {},
   "outputs": [
    {
     "name": "stdout",
     "output_type": "stream",
     "text": [
      "{'power': 108.36, 'time': datetime.datetime(2025, 8, 18, 20, 3, 53), 'start': datetime.datetime(2025, 8, 18, 20, 3, 53, 322753), 'end': datetime.datetime(2025, 8, 18, 20, 3, 54, 247272), 'duration': 0.924519, 'latency': 1.247272}\n",
      "{'power': 108.36, 'time': datetime.datetime(2025, 8, 18, 20, 3, 54), 'start': datetime.datetime(2025, 8, 18, 20, 3, 54, 249282), 'end': datetime.datetime(2025, 8, 18, 20, 3, 55, 240210), 'duration': 0.990928, 'latency': 1.24021}\n",
      "{'power': 108.36, 'time': datetime.datetime(2025, 8, 18, 20, 3, 55), 'start': datetime.datetime(2025, 8, 18, 20, 3, 55, 240981), 'end': datetime.datetime(2025, 8, 18, 20, 3, 56, 177631), 'duration': 0.93665, 'latency': 1.177631}\n",
      "{'power': 108.36, 'time': datetime.datetime(2025, 8, 18, 20, 3, 56), 'start': datetime.datetime(2025, 8, 18, 20, 3, 56, 179559), 'end': datetime.datetime(2025, 8, 18, 20, 3, 57, 122153), 'duration': 0.942594, 'latency': 1.122153}\n",
      "{'power': 108.36, 'time': datetime.datetime(2025, 8, 18, 20, 3, 57), 'start': datetime.datetime(2025, 8, 18, 20, 3, 57, 123468), 'end': datetime.datetime(2025, 8, 18, 20, 3, 58, 90700), 'duration': 0.967232, 'latency': 1.0907}\n",
      "{'power': 108.36, 'time': datetime.datetime(2025, 8, 18, 20, 3, 58), 'start': datetime.datetime(2025, 8, 18, 20, 3, 58, 92651), 'end': datetime.datetime(2025, 8, 18, 20, 3, 59, 10394), 'duration': 0.917743, 'latency': 1.010394}\n",
      "{'power': 108.36, 'time': datetime.datetime(2025, 8, 18, 20, 3, 59), 'start': datetime.datetime(2025, 8, 18, 20, 3, 59, 12239), 'end': datetime.datetime(2025, 8, 18, 20, 3, 59, 961549), 'duration': 0.94931, 'latency': 0.961549}\n",
      "{'power': 108.36, 'time': datetime.datetime(2025, 8, 18, 20, 4), 'start': datetime.datetime(2025, 8, 18, 20, 3, 59, 963351), 'end': datetime.datetime(2025, 8, 18, 20, 4, 0, 909647), 'duration': 0.946296, 'latency': 0.909647}\n",
      "{'power': 108.36, 'time': datetime.datetime(2025, 8, 18, 20, 4, 1), 'start': datetime.datetime(2025, 8, 18, 20, 4, 0, 910790), 'end': datetime.datetime(2025, 8, 18, 20, 4, 1, 811879), 'duration': 0.901089, 'latency': 0.811879}\n",
      "{'power': 108.36, 'time': datetime.datetime(2025, 8, 18, 20, 4, 2), 'start': datetime.datetime(2025, 8, 18, 20, 4, 1, 813919), 'end': datetime.datetime(2025, 8, 18, 20, 4, 2, 786875), 'duration': 0.972956, 'latency': 0.786875}\n",
      "{'power': 108.36, 'time': datetime.datetime(2025, 8, 18, 20, 4, 3), 'start': datetime.datetime(2025, 8, 18, 20, 4, 2, 789073), 'end': datetime.datetime(2025, 8, 18, 20, 4, 3, 751747), 'duration': 0.962674, 'latency': 0.751747}\n",
      "{'power': 108.36, 'time': datetime.datetime(2025, 8, 18, 20, 4, 4), 'start': datetime.datetime(2025, 8, 18, 20, 4, 3, 753444), 'end': datetime.datetime(2025, 8, 18, 20, 4, 4, 659927), 'duration': 0.906483, 'latency': 0.659927}\n",
      "{'power': 108.36, 'time': datetime.datetime(2025, 8, 18, 20, 4, 5), 'start': datetime.datetime(2025, 8, 18, 20, 4, 4, 661426), 'end': datetime.datetime(2025, 8, 18, 20, 4, 5, 628226), 'duration': 0.9668, 'latency': 0.628226}\n",
      "{'power': 108.36, 'time': datetime.datetime(2025, 8, 18, 20, 4, 6), 'start': datetime.datetime(2025, 8, 18, 20, 4, 5, 629285), 'end': datetime.datetime(2025, 8, 18, 20, 4, 6, 663187), 'duration': 1.033902, 'latency': 0.663187}\n",
      "{'power': 108.36, 'time': datetime.datetime(2025, 8, 18, 20, 4, 7), 'start': datetime.datetime(2025, 8, 18, 20, 4, 6, 663923), 'end': datetime.datetime(2025, 8, 18, 20, 4, 7, 722939), 'duration': 1.059016, 'latency': 0.722939}\n",
      "{'power': 79.96, 'time': datetime.datetime(2025, 8, 18, 20, 4, 8), 'start': datetime.datetime(2025, 8, 18, 20, 4, 7, 724269), 'end': datetime.datetime(2025, 8, 18, 20, 4, 8, 789127), 'duration': 1.064858, 'latency': 0.789127}\n"
     ]
    },
    {
     "data": {
      "text/plain": [
       "datetime.datetime(2025, 8, 18, 20, 4, 7, 724269)"
      ]
     },
     "execution_count": 9,
     "metadata": {},
     "output_type": "execute_result"
    }
   ],
   "source": [
    "def detect_power_cycle(ain):\n",
    "    # measure power once\n",
    "    current_measurement = get_current_power(ain)\n",
    "    # keep measuring until the power value changes\n",
    "    last_measurement = current_measurement\n",
    "    while last_measurement['power'] == current_measurement['power']:\n",
    "        current_measurement = get_current_power(ain)\n",
    "        print(current_measurement)\n",
    "    return current_measurement['start']\n",
    "    \n",
    "detect_power_cycle(AINS[1])"
   ]
  },
  {
   "cell_type": "markdown",
   "id": "3b98bd1a",
   "metadata": {},
   "source": [
    "Unfortunately, this doesn't behave as expected. The code works, but it takes too long to run (often longer than a minute, so far not longer than two). I'm suspecting that this is related to my previous observation that the smart plug have a sleep mode in which they're only sending power data every 2 minutes. Maybe the TR-064 request doesn't wake up the smart plug?\n",
    "\n",
    "Let me try to confirm this."
   ]
  },
  {
   "cell_type": "code",
   "execution_count": 10,
   "id": "83cf37f7",
   "metadata": {},
   "outputs": [
    {
     "name": "stdout",
     "output_type": "stream",
     "text": [
      "{'power': 1328.51, 'time': datetime.datetime(2025, 8, 18, 20, 4, 9), 'start': datetime.datetime(2025, 8, 18, 20, 4, 8, 800690), 'end': datetime.datetime(2025, 8, 18, 20, 4, 9, 874866), 'duration': 1.074176, 'latency': 0.874866}\n",
      "{'power': 1302.4, 'time': datetime.datetime(2025, 8, 18, 20, 4, 46), 'start': datetime.datetime(2025, 8, 18, 20, 4, 46, 256770), 'end': datetime.datetime(2025, 8, 18, 20, 4, 47, 195727), 'duration': 0.938957, 'latency': 1.195727}\n"
     ]
    },
    {
     "data": {
      "text/plain": [
       "31.0"
      ]
     },
     "execution_count": 10,
     "metadata": {},
     "output_type": "execute_result"
    }
   ],
   "source": [
    "ain = AINS[0]\n",
    "\n",
    "power_jumps = []\n",
    "# measure power once\n",
    "current_measurement = get_current_power(ain)\n",
    "while len(power_jumps) < 2:\n",
    "    # print the measurement\n",
    "    print(current_measurement)\n",
    "    # keep measuring until the power value jumps\n",
    "    last_measurement = current_measurement\n",
    "    while last_measurement['power'] == current_measurement['power']:\n",
    "        current_measurement = get_current_power(ain)\n",
    "    # record the measurement after the jump\n",
    "    power_jumps.append(current_measurement)\n",
    "    # stop after two jumps\n",
    "# compute time between jumps\n",
    "jump1, jump2 = tuple([jump['time'] for jump in power_jumps])\n",
    "seconds_between(jump1, jump2)\n"
   ]
  },
  {
   "cell_type": "markdown",
   "id": "74d5c66d",
   "metadata": {},
   "source": [
    "Yeah, that's about what I expected. There's roughly a 2 minute break (~120 seconds) between two power value jumps. So I'm confident to make the following conjectures:\n",
    "* The FRITZ! smart plugs do have a sleep mode, in which they only send data every 120 seconds.\n",
    "* The TR-064 request does not wake them up.\n",
    "* The TR-064 request probably only interacts with the FRITZ!Box, and not with the smart plug."
   ]
  },
  {
   "cell_type": "markdown",
   "id": "80840d17",
   "metadata": {},
   "source": [
    "### Random Notes\n",
    "Note that this function returns the response as an instance of the `requests.Response` class.\n",
    "While I'm at it, I might just as well take a quick look at what this class does."
   ]
  },
  {
   "cell_type": "code",
   "execution_count": 11,
   "id": "c06af7f9",
   "metadata": {},
   "outputs": [
    {
     "name": "stdout",
     "output_type": "stream",
     "text": [
      "Help on Response in module requests.models object:\n",
      "\n",
      "class Response(builtins.object)\n",
      " |  The :class:`Response <Response>` object, which contains a\n",
      " |  server's response to an HTTP request.\n",
      " |\n",
      " |  Methods defined here:\n",
      " |\n",
      " |  __bool__(self)\n",
      " |      Returns True if :attr:`status_code` is less than 400.\n",
      " |\n",
      " |      This attribute checks if the status code of the response is between\n",
      " |      400 and 600 to see if there was a client error or a server error. If\n",
      " |      the status code, is between 200 and 400, this will return True. This\n",
      " |      is **not** a check to see if the response code is ``200 OK``.\n",
      " |\n",
      " |  __enter__(self)\n",
      " |\n",
      " |  __exit__(self, *args)\n",
      " |\n",
      " |  __getstate__(self)\n",
      " |      Helper for pickle.\n",
      " |\n",
      " |  __init__(self)\n",
      " |      Initialize self.  See help(type(self)) for accurate signature.\n",
      " |\n",
      " |  __iter__(self)\n",
      " |      Allows you to use a response as an iterator.\n",
      " |\n",
      " |  __nonzero__(self)\n",
      " |      Returns True if :attr:`status_code` is less than 400.\n",
      " |\n",
      " |      This attribute checks if the status code of the response is between\n",
      " |      400 and 600 to see if there was a client error or a server error. If\n",
      " |      the status code, is between 200 and 400, this will return True. This\n",
      " |      is **not** a check to see if the response code is ``200 OK``.\n",
      " |\n",
      " |  __repr__(self)\n",
      " |      Return repr(self).\n",
      " |\n",
      " |  __setstate__(self, state)\n",
      " |\n",
      " |  close(self)\n",
      " |      Releases the connection back to the pool. Once this method has been\n",
      " |      called the underlying ``raw`` object must not be accessed again.\n",
      " |\n",
      " |      *Note: Should not normally need to be called explicitly.*\n",
      " |\n",
      " |  iter_content(self, chunk_size=1, decode_unicode=False)\n",
      " |      Iterates over the response data.  When stream=True is set on the\n",
      " |      request, this avoids reading the content at once into memory for\n",
      " |      large responses.  The chunk size is the number of bytes it should\n",
      " |      read into memory.  This is not necessarily the length of each item\n",
      " |      returned as decoding can take place.\n",
      " |\n",
      " |      chunk_size must be of type int or None. A value of None will\n",
      " |      function differently depending on the value of `stream`.\n",
      " |      stream=True will read data as it arrives in whatever size the\n",
      " |      chunks are received. If stream=False, data is returned as\n",
      " |      a single chunk.\n",
      " |\n",
      " |      If decode_unicode is True, content will be decoded using the best\n",
      " |      available encoding based on the response.\n",
      " |\n",
      " |  iter_lines(self, chunk_size=512, decode_unicode=False, delimiter=None)\n",
      " |      Iterates over the response data, one line at a time.  When\n",
      " |      stream=True is set on the request, this avoids reading the\n",
      " |      content at once into memory for large responses.\n",
      " |\n",
      " |      .. note:: This method is not reentrant safe.\n",
      " |\n",
      " |  json(self, **kwargs)\n",
      " |      Returns the json-encoded content of a response, if any.\n",
      " |\n",
      " |      :param \\*\\*kwargs: Optional arguments that ``json.loads`` takes.\n",
      " |      :raises requests.exceptions.JSONDecodeError: If the response body does not\n",
      " |          contain valid json.\n",
      " |\n",
      " |  raise_for_status(self)\n",
      " |      Raises :class:`HTTPError`, if one occurred.\n",
      " |\n",
      " |  ----------------------------------------------------------------------\n",
      " |  Readonly properties defined here:\n",
      " |\n",
      " |  apparent_encoding\n",
      " |      The apparent encoding, provided by the charset_normalizer or chardet libraries.\n",
      " |\n",
      " |  content\n",
      " |      Content of the response, in bytes.\n",
      " |\n",
      " |  is_permanent_redirect\n",
      " |      True if this Response one of the permanent versions of redirect.\n",
      " |\n",
      " |  is_redirect\n",
      " |      True if this Response is a well-formed HTTP redirect that could have\n",
      " |      been processed automatically (by :meth:`Session.resolve_redirects`).\n",
      " |\n",
      " |  links\n",
      " |      Returns the parsed header links of the response, if any.\n",
      " |\n",
      " |  next\n",
      " |      Returns a PreparedRequest for the next request in a redirect chain, if there is one.\n",
      " |\n",
      " |  ok\n",
      " |      Returns True if :attr:`status_code` is less than 400, False if not.\n",
      " |\n",
      " |      This attribute checks if the status code of the response is between\n",
      " |      400 and 600 to see if there was a client error or a server error. If\n",
      " |      the status code is between 200 and 400, this will return True. This\n",
      " |      is **not** a check to see if the response code is ``200 OK``.\n",
      " |\n",
      " |  text\n",
      " |      Content of the response, in unicode.\n",
      " |\n",
      " |      If Response.encoding is None, encoding will be guessed using\n",
      " |      ``charset_normalizer`` or ``chardet``.\n",
      " |\n",
      " |      The encoding of the response content is determined based solely on HTTP\n",
      " |      headers, following RFC 2616 to the letter. If you can take advantage of\n",
      " |      non-HTTP knowledge to make a better guess at the encoding, you should\n",
      " |      set ``r.encoding`` appropriately before accessing this property.\n",
      " |\n",
      " |  ----------------------------------------------------------------------\n",
      " |  Data descriptors defined here:\n",
      " |\n",
      " |  __dict__\n",
      " |      dictionary for instance variables\n",
      " |\n",
      " |  __weakref__\n",
      " |      list of weak references to the object\n",
      " |\n",
      " |  ----------------------------------------------------------------------\n",
      " |  Data and other attributes defined here:\n",
      " |\n",
      " |  __attrs__ = ['_content', 'status_code', 'headers', 'url', 'history', '...\n",
      "\n",
      "None\n"
     ]
    }
   ],
   "source": [
    "# print documentation of the `requests.Response` class\n",
    "print(help(results))"
   ]
  },
  {
   "cell_type": "markdown",
   "id": "db50c8c9",
   "metadata": {},
   "source": [
    "The relevant information is found in the attributes `.headers` and `.text`. \n",
    "* `.headers` is a type of dictionary containing metadata of the response including a time stamp with second precision\n",
    "* `.text` is a string containing the XML encoded response"
   ]
  },
  {
   "cell_type": "code",
   "execution_count": 12,
   "id": "8fb42395",
   "metadata": {},
   "outputs": [
    {
     "name": "stdout",
     "output_type": "stream",
     "text": [
      "Type of .headers: <class 'requests.structures.CaseInsensitiveDict'>\n",
      "Type of .text:    <class 'str'>\n",
      "--------------------------------------------------------------------------------\n",
      "Keys in results.headers:\n",
      "- Connection     : keep-alive\n",
      "- Content-Length : 278\n",
      "- Content-Type   : text/xml; charset=\"utf-8\"\n",
      "- Date           : Mon, 18 Aug 2025 18:03:50 GMT\n",
      "- Server         : FRITZ!Box 7490 UPnP/1.0 AVM FRITZ!Box 7490 113.07.60\n",
      "- Ext            : \n"
     ]
    }
   ],
   "source": [
    "# print data types\n",
    "print(\"Type of .headers:\", type(results.headers))\n",
    "print(\"Type of .text:   \", type(results.text))\n",
    "print(\"-\"*80)\n",
    "# print dictionary keys\n",
    "print(\"Keys in results.headers:\")\n",
    "for key, val in results.headers.items():\n",
    "    print(f\"- {key:14s} : {val}\")\n"
   ]
  },
  {
   "cell_type": "code",
   "execution_count": 13,
   "id": "e56f7562",
   "metadata": {},
   "outputs": [
    {
     "name": "stdout",
     "output_type": "stream",
     "text": [
      "Type of .text:    <class 'str'>\n",
      "--------------------------------------------------------------------------------\n",
      "Contents of results.text:\n",
      "\n",
      "<?xml version=\"1.0\"?>\n",
      "<s:Envelope xmlns:s=\"http://schemas.xmlsoap.org/soap/envelope/\" s:encodingStyle=\"http://schemas.xmlsoap.org/soap/encoding/\">\n",
      "<s:Body>\n",
      "<u:SetSwitchResponse xmlns:u=\"urn:dslforum-org:service:X_AVM-DE_Homeauto:1\"></u:SetSwitchResponse>\n",
      "</s:Body>\n",
      "</s:Envelope>\n"
     ]
    }
   ],
   "source": [
    "print(\"Type of .text:   \", type(results.text))\n",
    "print(\"-\"*80)\n",
    "# print results.text\n",
    "print(\"Contents of results.text:\\n\")\n",
    "print(results.text)"
   ]
  },
  {
   "cell_type": "code",
   "execution_count": 14,
   "id": "19509d88",
   "metadata": {},
   "outputs": [
    {
     "name": "stdout",
     "output_type": "stream",
     "text": [
      "angolo (1313.13, 'Mon, 18 Aug 2025 18:05:18 GMT')\n",
      "tv (79.96, 'Mon, 18 Aug 2025 18:05:18 GMT')\n"
     ]
    }
   ],
   "source": [
    "\n",
    "def get_power(device_ain):\n",
    "    \"\"\"Get the current power consumption using the TR-064 interfaces.\"\"\"\n",
    "    # get specific device information\n",
    "    request_result = get_specific_device_info(device_ain)\n",
    "    # extract power value and date\n",
    "    power = int((request_result.text).split(\"<NewMultimeterPower>\")[1].split(\"</NewMultimeterPower>\")[0]) / 100\n",
    "    date = request_result.headers['Date']\n",
    "    return power, date\n",
    "    # return request_result\n",
    "\n",
    "for dev, ain in DEVICES.items():\n",
    "    print(dev, get_power(ain))"
   ]
  },
  {
   "cell_type": "markdown",
   "id": "dd23112c",
   "metadata": {},
   "source": [
    "## The AHA-HTTP Method"
   ]
  },
  {
   "cell_type": "markdown",
   "id": "b11ec382",
   "metadata": {},
   "source": [
    "### Sending Requests (assuming an SID is available) [WORK IN PROGRESS]"
   ]
  },
  {
   "cell_type": "code",
   "execution_count": 75,
   "id": "fda7e05c",
   "metadata": {},
   "outputs": [],
   "source": [
    "import requests\n",
    "\n",
    "# Replace these with your values\n",
    "sid = get_sid(FRITZ_USER, FRITZ_PWD)      # You must get this via login first\n"
   ]
  },
  {
   "cell_type": "code",
   "execution_count": null,
   "id": "4fd9b440",
   "metadata": {},
   "outputs": [
    {
     "name": "stdout",
     "output_type": "stream",
     "text": [
      "http://fritz.box/webservices/homeautoswitch.lua?ain=087610406876&switchcmd=getbasicdevicestats&sid=ab08ffc558308a86\n",
      "<Response [200]>\n",
      "<devicestats><temperature><stats count=\"96\" grid=\"900\" datatime=\"1755548546\">240,255,260,270,260,265,250,250,265,250,250,255,265,265,265,265,265,265,265,265,265,265,265,265,265,265,265,265,265,265,265,265,265,265,265,265,265,265,265,265,265,265,265,265,265,265,265,265,265,265,265,265,265,265,265,265,265,265,265,265,265,265,265,265,265,265,265,265,265,265,265,265,265,265,265,265,265,265,265,265,265,265,265,265,265,265,265,265,265,265,265,265,265,265,265,265</stats></temperature><voltage><stats count=\"360\" grid=\"10\" datatime=\"1755548546\">231338,231338,231338,230690,230690,230690,230690,230917,231361,231150,231714,231358,231597,228433,231118,229935,231408,231774,231569,231569,231569,230775,230775,230775,230775,230775,230775,230775,230775,230775,230775,230775,230775,231155,231155,231155,231155,231155,231155,231155,231155,231155,231155,231155,231155,230524,230524,230524,230524,230524,230524,230524,230524,230524,230524,230524,230524,230062,230062,230062,230062,230062,230062,230062,230062,230062,230062,230062,230062,229956,229956,229956,229956,229956,229956,229956,229956,229956,229956,229956,231391,231391,231391,231391,231391,227742,228939,230847,230639,230164,230175,230203,230090,229381,229747,229741,229741,229741,229741,229741,229741,229375,229375,229375,229375,229375,229375,229375,229375,229375,229375,229375,229375,230597,230597,230597,230597,230597,230597,230597,230597,230597,230597,230597,230597,231582,231582,231582,231582,231582,231582,231582,231582,231582,231582,231582,231582,231959,231959,231959,231959,231959,231959,231959,231959,231959,231959,231959,231959,230755,230755,230755,230755,230755,230755,230755,230755,230755,230755,230755,230755,228498,228498,228498,228498,228498,228498,228498,228498,228498,228498,228498,228498,231426,231426,231426,231426,231426,231426,231426,231426,231426,231426,231426,231426,230711,230711,230711,230739,230739,230739,230676,230676,230676,231518,231518,231518,231518,231518,231518,231518,231386,231386,231386,230170,230170,230170,230551,230551,230551,228499,228499,228499,228499,228499,228090,227567,227567,227567,227567,228022,230594,231119,231119,231119,231119,231119,231119,231119,231119,231119,231119,231119,231119,231444,231444,231444,231444,231444,231444,231444,231444,231444,231444,231444,231444,231575,231575,231575,231575,231575,231575,231575,231575,231575,231575,231575,231575,231324,231324,231324,231324,231324,231324,231324,231324,231324,231324,231324,231324,230795,230795,230795,230795,230795,230795,230795,230795,230795,230795,230795,230795,230947,230947,230947,230947,230947,230947,230947,230947,230947,230947,230947,230947,230890,230890,230890,230890,230890,230890,230890,230890,230890,230890,230890,230890,230371,230371,230371,230371,230371,230371,230371,230371,230371,230371,230371,230371,229893,229893,229893,229893,229893,229893,229893,229893,229893,229893,229893,229893,230281,230281,230281,230281,230281,230281,230281,230281,230281,230281,230281,230281,229917,229917,229917,229917,229917,229917,229917,229917,229917,229917,229917,229917,230461,230461,230461,230461,230461,230461</stats></voltage><power><stats count=\"360\" grid=\"10\" datatime=\"1755548546\">329,329,329,25448,25448,25448,25448,329,307,329,329,329,329,11014,329,105507,329,329,329,329,329,32823,32823,32823,32823,32823,32823,32823,32823,32823,32823,32823,32823,329,329,329,329,329,329,329,329,329,329,329,329,43373,43373,43373,43373,43373,43373,43373,43373,43373,43373,43373,43373,329,329,329,329,329,329,329,329,329,329,329,329,28660,28660,28660,28660,28660,28660,28660,28660,28660,28660,28660,329,329,329,329,329,10986,329,329,329,329,22988,22988,22988,22988,13639,329,329,329,329,329,329,329,329,329,329,329,329,329,329,329,329,329,329,329,329,329,329,329,329,329,329,329,329,329,329,329,329,329,329,329,329,329,329,329,329,329,329,329,329,329,329,329,329,329,329,329,329,329,329,329,329,329,329,329,329,329,329,329,329,329,329,715,715,715,715,715,715,715,715,715,715,715,715,43637,43637,43637,43637,43637,43637,43637,43637,43637,43637,43637,43637,336,336,336,105779,105779,105779,321,321,321,95086,95086,95086,95086,95086,95086,95086,357,357,357,100393,100393,100393,38001,38001,38001,133252,133252,133252,133252,133252,132179,132007,132007,132007,132007,133059,207,0,0,0,0,0,0,0,0,0,0,0,0,0,0,0,0,0,0,0,0,0,0,0,0,0,0,0,0,0,0,0,0,0,0,0,0,0,0,0,0,0,0,0,0,0,0,0,0,0,0,0,0,0,0,0,0,0,0,0,0,0,0,0,0,0,0,0,0,0,0,0,0,0,0,0,0,0,0,0,0,0,0,0,0,0,0,0,0,0,0,0,0,0,0,0,0,0,0,0,0,0,0,0,0,0,0,0,0,0,0,0,0,0,0,0,0,0,0,0,0,0,0,0,0,0,0,0,0,0,0,0,0,0,0,0,0,0,0</stats></power><energy><stats count=\"12\" grid=\"2678400\" datatime=\"1755537790\">20607,32426,30118,34865,26693,31961,31611,37307,34098,33329,33660,29178</stats><stats count=\"31\" grid=\"86400\" datatime=\"1755537790\">849,0,0,431,1319,1216,1280,1448,980,1475,1337,1467,1343,1259,1548,1259,1581,1815,1467,1369,1088,1324,1533,1921,1149,1306,1508,0,0,0,0</stats></energy></devicestats>\n",
      "\n"
     ]
    }
   ],
   "source": [
    "# FRITZ!Box URL\n",
    "# url = 'https://' + FRITZ_IP + '/webservices/homeautoswitch.lua'\n",
    "url = 'http://fritz.box/webservices/homeautoswitch.lua'\n",
    "\n",
    "ain = AINS[0].replace(\" \", \"\")              # AIN of your smart device\n",
    "# cmd = 'getswitchlist'               # Example command (see command list below)\n",
    "cmd = 'getswitchpower'               # Example command (see command list below)\n",
    "cmd = 'getbasicdevicestats'               # Example command (see command list below)\n",
    "cmd = 'getswitchpower'               # Example command (see command list below)\n",
    "\n",
    "# Parameters for the GET request\n",
    "params = {\n",
    "    'ain': ain.replace(\"\", \" \"),\n",
    "    # 'ain': ain,\n",
    "    'switchcmd': cmd,\n",
    "    'sid': sid\n",
    "}\n",
    "\n",
    "get_request_url = f\"{url}?ain={ain}&switchcmd={cmd}&sid={sid}\"\n",
    "print(get_request_url)\n",
    "# Send the GET request\n",
    "# response = requests.get(get_request_url)  # Use verify=False if self-signed cert\n",
    "response = requests.get(get_request_url, verify=False)  # Use verify=False if self-signed cert\n",
    "# response = requests.get(url, params=params, verify=False)  # Use verify=False if self-signed cert\n",
    "print(response)\n",
    "print(response.text)"
   ]
  },
  {
   "cell_type": "code",
   "execution_count": 72,
   "id": "fda8e5b5",
   "metadata": {},
   "outputs": [
    {
     "name": "stdout",
     "output_type": "stream",
     "text": [
      "['ain=087610406876', 'switchcmd=getbasicdevicestats', 'sid=ab08ffc558308a86']\n",
      "ain=087610406876&switchcmd=getbasicdevicestats&sid=ab08ffc558308a86\n",
      "ain=087610406876&switchcmd=getbasicdevicestats&sid=ab08ffc558308a86\n"
     ]
    },
    {
     "data": {
      "text/plain": [
       "'http://fritz.box/webservices/homeautoswitch.lua?ain=087610406876&switchcmd=getbasicdevicestats&sid=ab08ffc558308a86'"
      ]
     },
     "execution_count": 72,
     "metadata": {},
     "output_type": "execute_result"
    }
   ],
   "source": [
    "params = {\n",
    "    # 'ain': ain.replace(\"\", \" \"),\n",
    "    'ain': ain,\n",
    "    'switchcmd': cmd,\n",
    "    'sid': sid\n",
    "}\n",
    "\n",
    "params = [f\"{key}={val}\" for key, val in params.items()]\n",
    "print(params)\n",
    "params = \"&\".join(params)\n",
    "print(params)\n",
    "params = params.replace(\" \", \"\")\n",
    "print(params)\n",
    "url+\"?\"+params"
   ]
  },
  {
   "cell_type": "markdown",
   "id": "afc18dfc",
   "metadata": {},
   "source": [
    "```xml\n",
    "<devicestats>\n",
    "    <temperature>\n",
    "        <stats count=\"96\" grid=\"900\" datatime=\"1755547537\">\n",
    "            255,260,270,260,265,250,250,265,250,250,255,265,\n",
    "            265,265,265,265,265,265,265,265,265,265,265,265,\n",
    "            265,265,265,265,265,265,265,265,265,265,265,265,\n",
    "            265,265,265,265,265,265,265,265,265,265,265,265,\n",
    "            265,265,265,265,265,265,265,265,265,265,265,265,\n",
    "            265,265,265,265,265,265,265,265,265,265,265,265,\n",
    "            265,265,265,265,265,265,265,265,265,265,265,265,\n",
    "            265,265,265,265,265,265,265,265,265,265,265,265\n",
    "        </stats>\n",
    "    </temperature>\n",
    "    \n",
    "    <voltage>\n",
    "        <stats count=\"360\" grid=\"10\" datatime=\"1755547537\">\n",
    "            229375,229375,229375,229375,229375,229375,229375,229375,229375,229375,229375,229375,\n",
    "            230597,230597,230597,230597,230597,230597,230597,230597,230597,230597,230597,230597,\n",
    "            231582,231582,231582,231582,231582,231582,231582,231582,231582,231582,231582,231582,\n",
    "            231959,231959,231959,231959,231959,231959,231959,231959,231959,231959,231959,231959,\n",
    "            230755,230755,230755,230755,230755,230755,230755,230755,230755,230755,230755,230755,\n",
    "            228498,228498,228498,228498,228498,228498,228498,228498,228498,228498,228498,228498,\n",
    "            231426,231426,231426,231426,231426,231426,231426,231426,231426,231426,231426,231426,\n",
    "            230711,230711,230711,230739,230739,230739,230676,230676,230676,231518,231518,231518,\n",
    "            231518,231518,231518,231518,231386,231386,231386,230170,230170,230170,230551,230551,\n",
    "            230551,228499,228499,228499,228499,228499,228090,227567,227567,227567,227567,228022,\n",
    "            230594,231119,231119,231119,231119,231119,231119,231119,231119,231119,231119,231119,\n",
    "            231119,231444,231444,231444,231444,231444,231444,231444,231444,231444,231444,231444,\n",
    "            231444,231575,231575,231575,231575,231575,231575,231575,231575,231575,231575,231575,\n",
    "            231575,231324,231324,231324,231324,231324,231324,231324,231324,231324,231324,231324,\n",
    "            231324,230795,230795,230795,230795,230795,230795,230795,230795,230795,230795,230795,\n",
    "            230795,230947,230947,230947,230947,230947,230947,230947,230947,230947,230947,230947,\n",
    "            230947,230890,230890,230890,230890,230890,230890,230890,230890,230890,230890,230890,\n",
    "            230890,230371,230371,230371,230371,230371,230371,230371,230371,230371,230371,230371,\n",
    "            230371,229893,229893,229893,229893,229893,229893,229893,229893,229893,229893,229893,\n",
    "            229893,230281,230281,230281,230281,230281,230281,230281,230281,230281,230281,230281,\n",
    "            230281,229917,229917,229917,229917,229917,229917,229917,229917,229917,229917,229917,\n",
    "            229917,230461,230461,230461,230461,230461,230461,230461,230461,230461,230461,230461,\n",
    "            230461,230009,230026,229851,229696,229751,229556,229634,229502,229884,229581,229709,\n",
    "            229808,229822,229802,227352,229103,229698,228182,229195,229400,229507,229107,229107,\n",
    "            229275,229275,229275,229275,229275,229275,229275,229275,226563,226563,226563,226563,\n",
    "            226563,226563,226563,226563,227200,229840,229840,229840,229840,229840,229840,229840,\n",
    "            229840,229840,229840,229955,229955,229955,229955,229955,229955,229955,229955,229955,\n",
    "            229955,229955,229955,231223,231223,231223,231223,231223,231223,231223,231223,231223,\n",
    "            231223,231223,231223,231241,231241,231241,231241,231241,231241,231241,231241,231241,\n",
    "            231241,231241,231241,232315,232315,232315,232315,232315,232315,232315,232315,232315\n",
    "        </stats>\n",
    "    </voltage>\n",
    "    \n",
    "    <power>\n",
    "        <stats count=\"360\" grid=\"10\" datatime=\"1755547537\">\n",
    "            329,329,329,329,329,329,329,329,329,329,329,329,\n",
    "            329,329,329,329,329,329,329,329,329,329,329,329,\n",
    "            329,329,329,329,329,329,329,329,329,329,329,329,\n",
    "            329,329,329,329,329,329,329,329,329,329,329,329,\n",
    "            329,329,329,329,329,329,329,329,329,329,329,329,\n",
    "            715,715,715,715,715,715,715,715,715,715,715,715,\n",
    "            43637,43637,43637,43637,43637,43637,43637,43637,\n",
    "            43637,43637,43637,43637,336,336,336,105779,105779,\n",
    "            105779,321,321,321,95086,95086,95086,95086,95086,\n",
    "            95086,95086,357,357,357,100393,100393,100393,38001,\n",
    "            38001,38001,133252,133252,133252,133252,133252,132179,\n",
    "            132007,132007,132007,132007,133059,207,0,0,0,0,0,0,\n",
    "            0,0,0,0,0,0,0,0,0,0,0,0,0,0,0,0,0,0,0,0,0,0,0,0,0,0,\n",
    "            0,0,0,0,0,0,0,0,0,0,0,0,0,0,0,0,0,0,0,0,0,0,0,0,0,0,\n",
    "            0,0,0,0,0,0,0,0,0,0,0,0,0,0,0,0,0,0,0,0,0,0,0,0,0,0,\n",
    "            0,0,0,0,0,0,0,0,0,0,0,0,0,0,0,0,0,0,0,0,0,0,0,0,0,0,\n",
    "            0,0,0,0,0,0,0,0,0,0,0,0,0,0,0,0,0,0,0,0,0,0,0,0,0,0,\n",
    "            0,0,0,0,0,0,0,0,0,0,0,0,0,0,0,0,0,0,0,0,321,329,93591,\n",
    "            329,329,81532,321,329,357,17952,17952,350,350,350,350,\n",
    "            350,350,350,350,130577,130577,130577,130577,130577,\n",
    "            130577,130577,130577,132000,207,207,207,207,207,207,\n",
    "            207,207,207,207,0,0,0,0,0,0,0,0,0,0,0,0,0,0,0,0,0,0,0,\n",
    "            0,0,0,0,0,0,0,0,0,0,0,0,0,0,0,0,0,0,0,0,0,0,0,0,0,0\n",
    "        </stats>\n",
    "    </power>\n",
    "    \n",
    "    <energy>\n",
    "        <stats count=\"12\" grid=\"2678400\" datatime=\"1755537790\">\n",
    "            20566,32426,30118,34865,26693,31961,31611,37307,34098,33329,33660,29178\n",
    "        </stats>\n",
    "        <stats count=\"31\" grid=\"86400\" datatime=\"1755537790\">\n",
    "            808,0,0,431,1319,1216,1280,1448,980,1475,1337,1467,1343,1259,1548,1259,\n",
    "            1581,1815,1467,1369,1088,1324,1533,1921,1149,1306,1508,0,0,0,0\n",
    "        </stats>\n",
    "    </energy>\n",
    "</devicestats>\n",
    "```"
   ]
  },
  {
   "cell_type": "markdown",
   "id": "d649b04f",
   "metadata": {},
   "source": [
    "### Obtaining an SID (aka The Login Torture)"
   ]
  },
  {
   "cell_type": "markdown",
   "id": "3ba19dba",
   "metadata": {},
   "source": [
    "The login procedure is described [in the official documentation](https://fritz.com/fileadmin/user_upload/Global/Service/Schnittstellen/AVM_Technical_Note_-_Session_ID_english_2021-05-03.pdf). The bad news is that it's not entirely straight forward. However, the good news is that the documentation actually provides Python code. Here is a minor modification. The main feature is the function `get_sid()`."
   ]
  },
  {
   "cell_type": "code",
   "execution_count": 74,
   "id": "0fe9a6cb",
   "metadata": {},
   "outputs": [
    {
     "name": "stdout",
     "output_type": "stream",
     "text": [
      "Successful login.\n",
      "SID: dc4e0b93219e33a0\n"
     ]
    }
   ],
   "source": [
    "#!/usr/bin/env python3\n",
    "# vim: expandtab sw=4 ts=4\n",
    "\"\"\"\n",
    "FRITZ!OS WebGUI Login\n",
    "Get a sid (session ID) via PBKDF2 based challenge response algorithm.\n",
    "Fallback to MD5 if FRITZ!OS has no PBKDF2 support.\n",
    "AVM 2020-09-25\n",
    "\"\"\"\n",
    "\n",
    "import sys\n",
    "import hashlib\n",
    "import time\n",
    "import urllib.request\n",
    "import urllib.parse\n",
    "import xml.etree.ElementTree as ET\n",
    "\n",
    "LOGIN_SID_ROUTE = \"/login_sid.lua?version=2\"\n",
    "\n",
    "\n",
    "class LoginState:\n",
    "    def __init__(self, challenge: str, blocktime: int):\n",
    "        self.challenge = challenge\n",
    "        self.blocktime = blocktime\n",
    "        self.is_pbkdf2 = challenge.startswith(\"2$\")\n",
    "\n",
    "\n",
    "def get_sid(username: str, password: str, address:str=\"fritz.box\") -> str:\n",
    "    \"\"\" Get a sid by solving the PBKDF2 (or MD5) challenge-response\n",
    "    process. \"\"\"\n",
    "    box_url = \"http://\" + address\n",
    "    try:\n",
    "        state = get_login_state(box_url)\n",
    "    except Exception as ex:\n",
    "        raise Exception(\"failed to get challenge\") from ex\n",
    "    if state.is_pbkdf2:\n",
    "        # print(\"PBKDF2 supported\")\n",
    "        challenge_response = calculate_pbkdf2_response(state.challenge, password)\n",
    "    else:\n",
    "        # print(\"Falling back to MD5\")\n",
    "        challenge_response = calculate_md5_response(state.challenge, password)\n",
    "    if state.blocktime > 0:\n",
    "        # print(f\"Waiting for {state.blocktime} seconds...\")\n",
    "        time.sleep(state.blocktime)\n",
    "    try:\n",
    "        sid = send_response(box_url, username, challenge_response)\n",
    "    except Exception as ex:\n",
    "        raise Exception(\"failed to login\") from ex\n",
    "    if sid == \"0000000000000000\":\n",
    "        raise Exception(\"wrong username or password\")\n",
    "    return sid\n",
    "\n",
    "\n",
    "def get_login_state(box_url: str) -> LoginState:\n",
    "    \"\"\" Get login state from FRITZ!Box using login_sid.lua?version=2 \"\"\"\n",
    "    url = box_url + LOGIN_SID_ROUTE\n",
    "    http_response = urllib.request.urlopen(url)\n",
    "    xml = ET.fromstring(http_response.read())\n",
    "    # print(f\"xml: {xml}\")\n",
    "    challenge = xml.find(\"Challenge\").text\n",
    "    blocktime = int(xml.find(\"BlockTime\").text)\n",
    "    return LoginState(challenge, blocktime)\n",
    "\n",
    "\n",
    "def calculate_pbkdf2_response(challenge: str, password: str) -> str:\n",
    "    \"\"\" Calculate the response for a given challenge via PBKDF2 \"\"\"\n",
    "    challenge_parts = challenge.split(\"$\")\n",
    "    # Extract all necessary values encoded into the challenge\n",
    "    iter1 = int(challenge_parts[1])\n",
    "    salt1 = bytes.fromhex(challenge_parts[2])\n",
    "    iter2 = int(challenge_parts[3])\n",
    "    salt2 = bytes.fromhex(challenge_parts[4])\n",
    "    # Hash twice, once with static salt...\n",
    "    hash1 = hashlib.pbkdf2_hmac(\"sha256\", password.encode(), salt1, iter1)\n",
    "    # Once with dynamic salt.\n",
    "    hash2 = hashlib.pbkdf2_hmac(\"sha256\", hash1, salt2, iter2)\n",
    "    return f\"{challenge_parts[4]}${hash2.hex()}\"\n",
    "\n",
    "\n",
    "def calculate_md5_response(challenge: str, password: str) -> str:\n",
    "    \"\"\" Calculate the response for a challenge using legacy MD5 \"\"\"\n",
    "    response = challenge + \"-\" + password\n",
    "    # the legacy response needs utf_16_le encoding\n",
    "    response = response.encode(\"utf_16_le\")\n",
    "    md5_sum = hashlib.md5()\n",
    "    md5_sum.update(response)\n",
    "    response = challenge + \"-\" + md5_sum.hexdigest()\n",
    "    return response\n",
    "\n",
    "\n",
    "def send_response(box_url: str, username: str, challenge_response: str)->str:\n",
    "    \"\"\" Send the response and return the parsed sid. raises an Exception on\n",
    "    error \"\"\"\n",
    "    # Build response params\n",
    "    post_data_dict = {\"username\": username, \"response\": challenge_response}\n",
    "    post_data = urllib.parse.urlencode(post_data_dict).encode()\n",
    "    headers = {\"Content-Type\": \"application/x-www-form-urlencoded\"}\n",
    "    url = box_url + LOGIN_SID_ROUTE\n",
    "    # Send response\n",
    "    http_request = urllib.request.Request(url, post_data, headers)\n",
    "    http_response = urllib.request.urlopen(http_request)\n",
    "    # Parse SID from resulting XML.\n",
    "    xml = ET.fromstring(http_response.read())\n",
    "    return xml.find(\"SID\").text\n",
    "\n",
    "\n",
    "sid = get_sid(FRITZ_USER, FRITZ_PWD)\n",
    "print(\"Successful login.\")\n",
    "print(f\"SID: {sid}\")\n"
   ]
  }
 ],
 "metadata": {
  "kernelspec": {
   "display_name": "Python 3",
   "language": "python",
   "name": "python3"
  },
  "language_info": {
   "codemirror_mode": {
    "name": "ipython",
    "version": 3
   },
   "file_extension": ".py",
   "mimetype": "text/x-python",
   "name": "python",
   "nbconvert_exporter": "python",
   "pygments_lexer": "ipython3",
   "version": "3.13.5"
  }
 },
 "nbformat": 4,
 "nbformat_minor": 5
}
