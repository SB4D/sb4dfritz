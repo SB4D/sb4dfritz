{
 "cells": [
  {
   "cell_type": "markdown",
   "id": "47137fa9",
   "metadata": {},
   "source": [
    "# The Official AVM FRITZ!Box Interfaces\n",
    "\n",
    "AVM offers developers two ways to communicate with their FRITZ!Box routers:\n",
    "* **TR-064:** \n",
    "* **AHA-HTTP:** \n",
    "\n",
    "The `fritzconnection` library uses both of these interfaces, at least according to its documentation. I'd like to understand how this communication works. \n",
    "\n",
    "First things first, I need to get the login info."
   ]
  },
  {
   "cell_type": "code",
   "execution_count": 127,
   "id": "10caec88",
   "metadata": {},
   "outputs": [],
   "source": [
    "import json\n",
    "\n",
    "# load config file\n",
    "CONFIG_FILE = \"..\\\\..\\\\..\\\\_private_files\\\\sb4dfritz_secrets.ini\"\n",
    "with open(CONFIG_FILE,\"r\") as file:\n",
    "    FRITZBOX = json.load(file)\n",
    "# extract login data\n",
    "FRITZ_IP = FRITZBOX['login']['ip']\n",
    "FRITZ_USER = FRITZBOX['login']['user']\n",
    "FRITZ_PWD = FRITZBOX['login']['pwd']\n",
    "# extract device ains\n",
    "DEVICES = FRITZBOX['ains']\n",
    "AINS = list(DEVICES.values())\n"
   ]
  },
  {
   "cell_type": "markdown",
   "id": "1d013e49",
   "metadata": {},
   "source": [
    "## The TR-064 Method\n"
   ]
  },
  {
   "cell_type": "markdown",
   "id": "104f8947",
   "metadata": {},
   "source": [
    "Here's a basic way to get the \"current\" power consumption of a FRITZ! smart plug. \n",
    "The procedure goes as follows:\n",
    "* Formulate the request as a SOAP action\n",
    "* Send it as a HTTP POST message using the `requests` module"
   ]
  },
  {
   "cell_type": "markdown",
   "id": "00d7877b",
   "metadata": {},
   "source": [
    "### A concrete example\n"
   ]
  },
  {
   "cell_type": "markdown",
   "id": "7d50f3d8",
   "metadata": {},
   "source": [
    "### What actions are there?\n"
   ]
  },
  {
   "cell_type": "markdown",
   "id": "5f8a647f",
   "metadata": {},
   "source": [
    "### Implemententing the actions\n"
   ]
  },
  {
   "cell_type": "markdown",
   "id": "00ae564f",
   "metadata": {},
   "source": [
    "#### GetSpecificDeviceInfos [WORKS]"
   ]
  },
  {
   "cell_type": "code",
   "execution_count": null,
   "id": "a53f7e1d",
   "metadata": {},
   "outputs": [
    {
     "name": "stdout",
     "output_type": "stream",
     "text": [
      "{'Connection': 'keep-alive', 'Content-Length': '1677', 'Content-Type': 'text/xml; charset=\"utf-8\"', 'Date': 'Sat, 26 Jul 2025 12:16:49 GMT', 'Server': 'FRITZ!Box 7490 UPnP/1.0 AVM FRITZ!Box 7490 113.07.60', 'Ext': ''}\n",
      "<?xml version=\"1.0\"?>\n",
      "<s:Envelope xmlns:s=\"http://schemas.xmlsoap.org/soap/envelope/\" s:encodingStyle=\"http://schemas.xmlsoap.org/soap/encoding/\">\n",
      "<s:Body>\n",
      "<u:GetSpecificDeviceInfosResponse xmlns:u=\"urn:dslforum-org:service:X_AVM-DE_Homeauto:1\">\n",
      "<NewDeviceId>16</NewDeviceId>\n",
      "<NewFunctionBitMask>35712</NewFunctionBitMask>\n",
      "<NewFirmwareVersion>04.27</NewFirmwareVersion>\n",
      "<NewManufacturer>AVM</NewManufacturer>\n",
      "<NewProductName>FRITZ!DECT 200</NewProductName>\n",
      "<NewDeviceName>l&apos;angolo del caffè</NewDeviceName>\n",
      "<NewPresent>CONNECTED</NewPresent>\n",
      "<NewMultimeterIsEnabled>ENABLED</NewMultimeterIsEnabled>\n",
      "<NewMultimeterIsValid>VALID</NewMultimeterIsValid>\n",
      "<NewMultimeterPower>329</NewMultimeterPower>\n",
      "<NewMultimeterEnergy>2879797</NewMultimeterEnergy>\n",
      "<NewTemperatureIsEnabled>ENABLED</NewTemperatureIsEnabled>\n",
      "<NewTemperatureIsValid>VALID</NewTemperatureIsValid>\n",
      "<NewTemperatureCelsius>255</NewTemperatureCelsius>\n",
      "<NewTemperatureOffset>5</NewTemperatureOffset>\n",
      "<NewSwitchIsEnabled>ENABLED</NewSwitchIsEnabled>\n",
      "<NewSwitchIsValid>VALID</NewSwitchIsValid>\n",
      "<NewSwitchState>ON</NewSwitchState>\n",
      "<NewSwitchMode>AUTO</NewSwitchMode>\n",
      "<NewSwitchLock>0</NewSwitchLock>\n",
      "<NewHkrIsEnabled>DISABLED</NewHkrIsEnabled>\n",
      "<NewHkrIsValid>INVALID</NewHkrIsValid>\n",
      "<NewHkrIsTemperature>0</NewHkrIsTemperature>\n",
      "<NewHkrSetVentilStatus>CLOSED</NewHkrSetVentilStatus>\n",
      "<NewHkrSetTemperature>0</NewHkrSetTemperature>\n",
      "<NewHkrReduceVentilStatus>CLOSED</NewHkrReduceVentilStatus>\n",
      "<NewHkrReduceTemperature>0</NewHkrReduceTemperature>\n",
      "<NewHkrComfortVentilStatus>CLOSED</NewHkrComfortVentilStatus>\n",
      "<NewHkrComfortTemperature>0</NewHkrComfortTemperature>\n",
      "</u:GetSpecificDeviceInfosResponse>\n",
      "</s:Body>\n",
      "</s:Envelope>\n"
     ]
    }
   ],
   "source": [
    "import requests, warnings\n",
    "from requests.auth import HTTPDigestAuth\n",
    "\n",
    "\n",
    "def get_specific_device_info(device_ain:str)->requests.Response:\n",
    "    \"\"\"GetSpecificDeviceInfos action for TR-064 interfaces.\"\"\"\n",
    "    UPNP_URL = \"https://\" + FRITZ_IP + \":49443/upnp/control/x_homeauto\"\n",
    "    TR064_SERVICE = \"urn:dslforum-org:service:X_AVM-DE_Homeauto:1\"\n",
    "    SOAP_ACTION = \"GetSpecificDeviceInfos\"\n",
    "    # header for POST request\n",
    "    request_headers = {\n",
    "        'Content-Type': 'text/xml; charset=\"utf-8\"', \n",
    "        'SoapAction': TR064_SERVICE + \"#\" + SOAP_ACTION\n",
    "        # 'SoapAction': 'urn:dslforum-org:service:X_AVM-DE_Homeauto:1#GetSpecificDeviceInfos'\n",
    "    }\n",
    "    # data for POST request\n",
    "    request_data = f\"\"\"\n",
    "        <?xml version=\\\"1.0\\\"?> \n",
    "        <s:Envelope \n",
    "         xmlns:s=\\\"http://schemas.xmlsoap.org/soap/envelope/\\\" \n",
    "         s:encodingStyle=\\\"http://schemas.xmlsoap.org/soap/encoding/\\\"> \n",
    "            <s:Body> \n",
    "                <u:{SOAP_ACTION} xmlns:u=\\\"{TR064_SERVICE}\\\"> \n",
    "                    <NewAIN>{device_ain}</NewAIN> \n",
    "                </u:{SOAP_ACTION}> \n",
    "            </s:Body> \n",
    "        </s:Envelope>\n",
    "        \"\"\"\n",
    "    # temporary ignore warnings (caused by self-signed certificate of FRITZ!Box)\n",
    "    warnings.simplefilter('ignore')\n",
    "    # send POST request\n",
    "    request_result = requests.post(\n",
    "        url=UPNP_URL, \n",
    "        auth=HTTPDigestAuth(FRITZ_USER, FRITZ_PWD), \n",
    "        headers=request_headers, \n",
    "        data=request_data, \n",
    "        verify=False\n",
    "    )\n",
    "    # allow warning again\n",
    "    warnings.resetwarnings()\n",
    "    return request_result\n",
    "\n",
    "results = get_specific_device_info(AINS[0])\n",
    "print(results.headers)\n",
    "print(results.text)"
   ]
  },
  {
   "cell_type": "markdown",
   "id": "1112d33b",
   "metadata": {},
   "source": [
    "\n",
    "#### GetInfo [Works]"
   ]
  },
  {
   "cell_type": "code",
   "execution_count": 128,
   "id": "dc79256e",
   "metadata": {},
   "outputs": [
    {
     "name": "stdout",
     "output_type": "stream",
     "text": [
      "{'Connection': 'keep-alive', 'Content-Length': '518', 'Content-Type': 'text/xml; charset=\"utf-8\"', 'Date': 'Sat, 26 Jul 2025 12:16:47 GMT', 'Server': 'FRITZ!Box 7490 UPnP/1.0 AVM FRITZ!Box 7490 113.07.60', 'Ext': ''}\n",
      "<?xml version=\"1.0\"?>\n",
      "<s:Envelope xmlns:s=\"http://schemas.xmlsoap.org/soap/envelope/\" s:encodingStyle=\"http://schemas.xmlsoap.org/soap/encoding/\">\n",
      "<s:Body>\n",
      "<u:GetInfoResponse xmlns:u=\"urn:dslforum-org:service:X_AVM-DE_Homeauto:1\">\n",
      "<NewAllowedCharsAIN>0123456789ABCDEFabcdef :-grptmp</NewAllowedCharsAIN>\n",
      "<NewMaxCharsAIN>19</NewMaxCharsAIN>\n",
      "<NewMinCharsAIN>1</NewMinCharsAIN>\n",
      "<NewMaxCharsDeviceName>79</NewMaxCharsDeviceName>\n",
      "<NewMinCharsDeviceName>1</NewMinCharsDeviceName>\n",
      "</u:GetInfoResponse>\n",
      "</s:Body>\n",
      "</s:Envelope>\n"
     ]
    }
   ],
   "source": [
    "import requests, warnings\n",
    "from requests.auth import HTTPDigestAuth\n",
    "\n",
    "def get_info()->requests.Response:\n",
    "    \"\"\"GetSpecificDeviceInfos action for TR-064 interfaces.\"\"\"\n",
    "    UPNP_URL = \"https://\" + FRITZ_IP + \":49443/upnp/control/x_homeauto\"\n",
    "    TR064_SERVICE = \"urn:dslforum-org:service:X_AVM-DE_Homeauto:1\"\n",
    "    SOAP_ACTION = \"GetInfo\"\n",
    "    # header for POST request\n",
    "    request_headers = {\n",
    "        'Content-Type': 'text/xml; charset=\"utf-8\"', \n",
    "        'SoapAction': TR064_SERVICE + \"#\" + SOAP_ACTION\n",
    "        # 'SoapAction': 'urn:dslforum-org:service:X_AVM-DE_Homeauto:1#GetSpecificDeviceInfos'\n",
    "    }\n",
    "    # data for POST request\n",
    "    request_data = f\"\"\"\n",
    "        <?xml version=\\\"1.0\\\"?> \n",
    "        <s:Envelope \n",
    "         xmlns:s=\\\"http://schemas.xmlsoap.org/soap/envelope/\\\" \n",
    "         s:encodingStyle=\\\"http://schemas.xmlsoap.org/soap/encoding/\\\"> \n",
    "            <s:Body> \n",
    "                <u:{SOAP_ACTION} xmlns:u=\\\"{TR064_SERVICE}\\\"> \n",
    "                </u:{SOAP_ACTION}> \n",
    "            </s:Body> \n",
    "        </s:Envelope>\n",
    "        \"\"\"\n",
    "    # temporary ignore warnings (caused by self-signed certificate of FRITZ!Box)\n",
    "    warnings.simplefilter('ignore')\n",
    "    # send POST request\n",
    "    request_result = requests.post(\n",
    "        url=UPNP_URL, \n",
    "        auth=HTTPDigestAuth(FRITZ_USER, FRITZ_PWD), \n",
    "        headers=request_headers, \n",
    "        data=request_data, \n",
    "        verify=False\n",
    "    )\n",
    "    # allow warning again\n",
    "    warnings.resetwarnings()\n",
    "    return request_result\n",
    "\n",
    "results = get_info()\n",
    "print(results.headers)\n",
    "print(results.text)"
   ]
  },
  {
   "cell_type": "markdown",
   "id": "f56b8d5a",
   "metadata": {},
   "source": [
    "#### GetGenericDeviceInfos [FAIL]"
   ]
  },
  {
   "cell_type": "code",
   "execution_count": 129,
   "id": "be9ac761",
   "metadata": {},
   "outputs": [
    {
     "name": "stdout",
     "output_type": "stream",
     "text": [
      "{'Connection': 'keep-alive', 'Content-Length': '441', 'Content-Type': 'text/xml; charset=\"utf-8\"', 'Ext': ''}\n",
      "<?xml version=\"1.0\"?>\n",
      "<s:Envelope xmlns:s=\"http://schemas.xmlsoap.org/soap/envelope/\" s:encodingStyle=\"http://schemas.xmlsoap.org/soap/encoding/\">\n",
      "<s:Body>\n",
      "<s:Fault>\n",
      "<faultcode>s:Client</faultcode>\n",
      "<faultstring>UPnPError</faultstring>\n",
      "<detail>\n",
      "<UPnPError xmlns=\"urn:dslforum-org:control-1-0\">\n",
      "<errorCode>713</errorCode>\n",
      "<errorDescription>SpecifiedArrayIndexInvalid</errorDescription>\n",
      "</UPnPError>\n",
      "</detail>\n",
      "</s:Fault>\n",
      "</s:Body>\n",
      "</s:Envelope>\n"
     ]
    }
   ],
   "source": [
    "import requests, warnings\n",
    "from requests.auth import HTTPDigestAuth\n",
    "\n",
    "def get_generic_device_infos(device_index:str)->requests.Response:\n",
    "    \"\"\"GetSpecificDeviceInfos action for TR-064 interfaces.\"\"\"\n",
    "    UPNP_URL = \"https://\" + FRITZ_IP + \":49443/upnp/control/x_homeauto\"\n",
    "    TR064_SERVICE = \"urn:dslforum-org:service:X_AVM-DE_Homeauto:1\"\n",
    "    SOAP_ACTION = \"GetGenericDeviceInfos\"\n",
    "    # header for POST request\n",
    "    request_headers = {\n",
    "        'Content-Type': 'text/xml; charset=\"utf-8\"', \n",
    "        'SoapAction': TR064_SERVICE + \"#\" + SOAP_ACTION\n",
    "        # 'SoapAction': 'urn:dslforum-org:service:X_AVM-DE_Homeauto:1#GetSpecificDeviceInfos'\n",
    "    }\n",
    "    # data for POST request\n",
    "    request_data = f\"\"\"\n",
    "        <?xml version=\\\"1.0\\\"?> \n",
    "        <s:Envelope \n",
    "         xmlns:s=\\\"http://schemas.xmlsoap.org/soap/envelope/\\\" \n",
    "         s:encodingStyle=\\\"http://schemas.xmlsoap.org/soap/encoding/\\\"> \n",
    "            <s:Body> \n",
    "                <u:{SOAP_ACTION} xmlns:u=\\\"{TR064_SERVICE}\\\"> \n",
    "                    <NewIndex>{device_index}</NewIndex> \n",
    "                </u:{SOAP_ACTION}> \n",
    "            </s:Body> \n",
    "        </s:Envelope>\n",
    "        \"\"\"\n",
    "    # temporary ignore warnings (caused by self-signed certificate of FRITZ!Box)\n",
    "    warnings.simplefilter('ignore')\n",
    "    # send POST request\n",
    "    request_result = requests.post(\n",
    "        url=UPNP_URL, \n",
    "        auth=HTTPDigestAuth(FRITZ_USER, FRITZ_PWD), \n",
    "        headers=request_headers, \n",
    "        data=request_data, \n",
    "        verify=False\n",
    "    )\n",
    "    # allow warning again\n",
    "    warnings.resetwarnings()\n",
    "    return request_result\n",
    "\n",
    "results = get_generic_device_infos(\"16\")\n",
    "print(results.headers)\n",
    "print(results.text)"
   ]
  },
  {
   "cell_type": "markdown",
   "id": "5a11e459",
   "metadata": {},
   "source": [
    "#### SetSwitch\n"
   ]
  },
  {
   "cell_type": "code",
   "execution_count": 131,
   "id": "1f902623",
   "metadata": {},
   "outputs": [
    {
     "name": "stdout",
     "output_type": "stream",
     "text": [
      "{'Connection': 'keep-alive', 'Content-Length': '278', 'Content-Type': 'text/xml; charset=\"utf-8\"', 'Date': 'Sat, 26 Jul 2025 12:16:49 GMT', 'Server': 'FRITZ!Box 7490 UPnP/1.0 AVM FRITZ!Box 7490 113.07.60', 'Ext': ''}\n",
      "<?xml version=\"1.0\"?>\n",
      "<s:Envelope xmlns:s=\"http://schemas.xmlsoap.org/soap/envelope/\" s:encodingStyle=\"http://schemas.xmlsoap.org/soap/encoding/\">\n",
      "<s:Body>\n",
      "<u:SetSwitchResponse xmlns:u=\"urn:dslforum-org:service:X_AVM-DE_Homeauto:1\"></u:SetSwitchResponse>\n",
      "</s:Body>\n",
      "</s:Envelope>\n"
     ]
    }
   ],
   "source": [
    "import requests, warnings\n",
    "from requests.auth import HTTPDigestAuth\n",
    "\n",
    "\n",
    "def set_switch(device_ain:str, target_state:str)->requests.Response:\n",
    "    \"\"\"GetSpecificDeviceInfos action for TR-064 interfaces.\"\"\"\n",
    "    UPNP_URL = \"https://\" + FRITZ_IP + \":49443/upnp/control/x_homeauto\"\n",
    "    TR064_SERVICE = \"urn:dslforum-org:service:X_AVM-DE_Homeauto:1\"\n",
    "    SOAP_ACTION = \"SetSwitch\"\n",
    "\n",
    "    # ALLOWED_STATES = [\"ON\", \"OFF\", \"TOGGLE\"]\n",
    "    # if not target_state in ALLOWED_STATES:\n",
    "    #     print(\"Target state must be 'ON', 'OFF', or 'TOGGLE'.\")\n",
    "    #     return\n",
    "    # header for POST request\n",
    "    request_headers = {\n",
    "        'Content-Type': 'text/xml; charset=\"utf-8\"', \n",
    "        'SoapAction': TR064_SERVICE + \"#\" + SOAP_ACTION\n",
    "        # 'SoapAction': 'urn:dslforum-org:service:X_AVM-DE_Homeauto:1#GetSpecificDeviceInfos'\n",
    "    }\n",
    "    # data for POST request\n",
    "    request_data = f\"\"\"\n",
    "        <?xml version=\\\"1.0\\\"?> \n",
    "        <s:Envelope \n",
    "         xmlns:s=\\\"http://schemas.xmlsoap.org/soap/envelope/\\\" \n",
    "         s:encodingStyle=\\\"http://schemas.xmlsoap.org/soap/encoding/\\\"> \n",
    "            <s:Body> \n",
    "                <u:{SOAP_ACTION} xmlns:u=\\\"{TR064_SERVICE}\\\"> \n",
    "                    <NewAIN>{device_ain}</NewAIN> \n",
    "                    <NewSwitchState>{target_state}</NewSwitchState> \n",
    "                </u:{SOAP_ACTION}> \n",
    "            </s:Body> \n",
    "        </s:Envelope>\n",
    "        \"\"\"\n",
    "    # temporary ignore warnings (caused by self-signed certificate of FRITZ!Box)\n",
    "    warnings.simplefilter('ignore')\n",
    "    # send POST request\n",
    "    request_result = requests.post(\n",
    "        url=UPNP_URL, \n",
    "        auth=HTTPDigestAuth(FRITZ_USER, FRITZ_PWD), \n",
    "        headers=request_headers, \n",
    "        data=request_data, \n",
    "        verify=False\n",
    "    )\n",
    "    # allow warning again\n",
    "    warnings.resetwarnings()\n",
    "    return request_result\n",
    "\n",
    "results = set_switch(AINS[0], \"ON\")\n",
    "print(results.headers)\n",
    "print(results.text)\n"
   ]
  },
  {
   "cell_type": "markdown",
   "id": "6dcbeeec",
   "metadata": {},
   "source": [
    "### Another go at `turn_off_when_idle`\n"
   ]
  },
  {
   "cell_type": "markdown",
   "id": "087291d1",
   "metadata": {},
   "source": [
    "#### Get current power"
   ]
  },
  {
   "cell_type": "code",
   "execution_count": 169,
   "id": "03a88448",
   "metadata": {},
   "outputs": [
    {
     "data": {
      "text/plain": [
       "{'power': 3.29,\n",
       " 'time': datetime.datetime(2025, 7, 26, 15, 14, 49),\n",
       " 'start': datetime.datetime(2025, 7, 26, 15, 14, 48, 339692),\n",
       " 'end': datetime.datetime(2025, 7, 26, 15, 14, 49, 254059),\n",
       " 'duration': 0.914367,\n",
       " 'latency': 0.254059}"
      ]
     },
     "execution_count": 169,
     "metadata": {},
     "output_type": "execute_result"
    }
   ],
   "source": [
    "from datetime import datetime, timezone\n",
    "\n",
    "def get_current_power(ain):\n",
    "    # request info from device keeping track of start and end times\n",
    "    start = current_time()\n",
    "    device_info = get_specific_device_info(ain)\n",
    "    end = current_time()\n",
    "    # extract power (in W) and timestamp \n",
    "    power = int((device_info.text).split(\"<NewMultimeterPower>\")[1].split(\"</NewMultimeterPower>\")[0]) / 100\n",
    "    timestamp = parse_date_str(device_info.headers['Date'])\n",
    "    # compute duration and latency\n",
    "    duration = seconds_between(start, end)\n",
    "    latency = seconds_between(timestamp, end)\n",
    "    power_data = {\n",
    "        \"power\":power,\n",
    "        \"time\":timestamp,\n",
    "        \"start\":start,\n",
    "        \"end\":end,\n",
    "        \"duration\":duration,\n",
    "        \"latency\":latency,\n",
    "    }\n",
    "    return power_data\n",
    "\n",
    "def current_time():\n",
    "    return datetime.now()#.astimezone()\n",
    "\n",
    "def seconds_between(start:datetime, end:datetime)->float:\n",
    "    return (end - start).total_seconds()\n",
    "\n",
    "def parse_date_str(date_str):\n",
    "    date = datetime.strptime(date_str, \"%a, %d %b %Y %H:%M:%S GMT\")\n",
    "    date = date.replace(tzinfo=timezone.utc)\n",
    "    date = date.astimezone().replace(tzinfo=None)\n",
    "    return date\n",
    "\n",
    "get_current_power(AINS[0])"
   ]
  },
  {
   "cell_type": "markdown",
   "id": "e5c4c1ec",
   "metadata": {},
   "source": [
    "#### Detect power measurement cycle"
   ]
  },
  {
   "cell_type": "markdown",
   "id": "f968afac",
   "metadata": {},
   "source": [
    "Here's a first attempt to detect the power measurement cycle.\n",
    "I'm simply requesting measurements repeatedly until the power value changes."
   ]
  },
  {
   "cell_type": "code",
   "execution_count": null,
   "id": "242d602d",
   "metadata": {},
   "outputs": [],
   "source": [
    "def detect_power_cycle(ain):\n",
    "    # measure power once\n",
    "    current_measurement = get_current_power(ain)\n",
    "    # keep measuring until the power value changes\n",
    "    last_measurement = current_measurement\n",
    "    while last_measurement['power'] == current_measurement['power']:\n",
    "        current_measurement = get_current_power(ain)\n",
    "        print(current_measurement)\n",
    "    return current_measurement['start']\n",
    "    \n",
    "detect_power_cycle(AINS[1])"
   ]
  },
  {
   "cell_type": "markdown",
   "id": "3b98bd1a",
   "metadata": {},
   "source": [
    "Unfortunately, this doesn't behave as expected. The code works, but it takes too long to run (often longer than a minute, so far not longer than two). I'm suspecting that this is related to my previous observation that the smart plug have a sleep mode in which they're only sending power data every 2 minutes. Maybe the TR-064 request doesn't wake up the smart plug?\n",
    "\n",
    "Let me try to confirm this."
   ]
  },
  {
   "cell_type": "code",
   "execution_count": 184,
   "id": "83cf37f7",
   "metadata": {},
   "outputs": [
    {
     "name": "stdout",
     "output_type": "stream",
     "text": [
      "{'power': 440.52, 'time': datetime.datetime(2025, 7, 26, 17, 24, 19), 'start': datetime.datetime(2025, 7, 26, 17, 24, 18, 302996), 'end': datetime.datetime(2025, 7, 26, 17, 24, 19, 213939), 'duration': 0.910943, 'latency': 0.213939}\n",
      "{'power': 3.29, 'time': datetime.datetime(2025, 7, 26, 17, 25, 2), 'start': datetime.datetime(2025, 7, 26, 17, 25, 1, 663020), 'end': datetime.datetime(2025, 7, 26, 17, 25, 2, 565207), 'duration': 0.902187, 'latency': 0.565207}\n"
     ]
    },
    {
     "data": {
      "text/plain": [
       "240.0"
      ]
     },
     "execution_count": 184,
     "metadata": {},
     "output_type": "execute_result"
    }
   ],
   "source": [
    "ain = AINS[0]\n",
    "\n",
    "power_jumps = []\n",
    "# measure power once\n",
    "current_measurement = get_current_power(ain)\n",
    "while len(power_jumps) < 2:\n",
    "    # print the measurement\n",
    "    print(current_measurement)\n",
    "    # keep measuring until the power value jumps\n",
    "    last_measurement = current_measurement\n",
    "    while last_measurement['power'] == current_measurement['power']:\n",
    "        current_measurement = get_current_power(ain)\n",
    "    # record the measurement after the jump\n",
    "    power_jumps.append(current_measurement)\n",
    "    # stop after two jumps\n",
    "# compute time between jumps\n",
    "jump1, jump2 = tuple([jump['time'] for jump in power_jumps])\n",
    "seconds_between(jump1, jump2)\n"
   ]
  },
  {
   "cell_type": "markdown",
   "id": "74d5c66d",
   "metadata": {},
   "source": [
    "Yeah, that's about what I expected. There's roughly a 2 minute break (~120 seconds) between two power value jumps. So I'm confident to make the following conjectures:\n",
    "* The FRITZ! smart plugs do have a sleep mode, in which they only send data every 120 seconds.\n",
    "* The TR-064 request does not wake them up.\n",
    "* The TR-064 request probably only interacts with the FRITZ!Box, and not with the smart plug."
   ]
  },
  {
   "cell_type": "markdown",
   "id": "80840d17",
   "metadata": {},
   "source": [
    "### Random Notes\n",
    "Note that this function returns the response as an instance of the `requests.Response` class.\n",
    "While I'm at it, I might just as well take a quick look at what this class does."
   ]
  },
  {
   "cell_type": "code",
   "execution_count": 132,
   "id": "c06af7f9",
   "metadata": {},
   "outputs": [
    {
     "name": "stdout",
     "output_type": "stream",
     "text": [
      "Help on Response in module requests.models object:\n",
      "\n",
      "class Response(builtins.object)\n",
      " |  The :class:`Response <Response>` object, which contains a\n",
      " |  server's response to an HTTP request.\n",
      " |\n",
      " |  Methods defined here:\n",
      " |\n",
      " |  __bool__(self)\n",
      " |      Returns True if :attr:`status_code` is less than 400.\n",
      " |\n",
      " |      This attribute checks if the status code of the response is between\n",
      " |      400 and 600 to see if there was a client error or a server error. If\n",
      " |      the status code, is between 200 and 400, this will return True. This\n",
      " |      is **not** a check to see if the response code is ``200 OK``.\n",
      " |\n",
      " |  __enter__(self)\n",
      " |\n",
      " |  __exit__(self, *args)\n",
      " |\n",
      " |  __getstate__(self)\n",
      " |      Helper for pickle.\n",
      " |\n",
      " |  __init__(self)\n",
      " |      Initialize self.  See help(type(self)) for accurate signature.\n",
      " |\n",
      " |  __iter__(self)\n",
      " |      Allows you to use a response as an iterator.\n",
      " |\n",
      " |  __nonzero__(self)\n",
      " |      Returns True if :attr:`status_code` is less than 400.\n",
      " |\n",
      " |      This attribute checks if the status code of the response is between\n",
      " |      400 and 600 to see if there was a client error or a server error. If\n",
      " |      the status code, is between 200 and 400, this will return True. This\n",
      " |      is **not** a check to see if the response code is ``200 OK``.\n",
      " |\n",
      " |  __repr__(self)\n",
      " |      Return repr(self).\n",
      " |\n",
      " |  __setstate__(self, state)\n",
      " |\n",
      " |  close(self)\n",
      " |      Releases the connection back to the pool. Once this method has been\n",
      " |      called the underlying ``raw`` object must not be accessed again.\n",
      " |\n",
      " |      *Note: Should not normally need to be called explicitly.*\n",
      " |\n",
      " |  iter_content(self, chunk_size=1, decode_unicode=False)\n",
      " |      Iterates over the response data.  When stream=True is set on the\n",
      " |      request, this avoids reading the content at once into memory for\n",
      " |      large responses.  The chunk size is the number of bytes it should\n",
      " |      read into memory.  This is not necessarily the length of each item\n",
      " |      returned as decoding can take place.\n",
      " |\n",
      " |      chunk_size must be of type int or None. A value of None will\n",
      " |      function differently depending on the value of `stream`.\n",
      " |      stream=True will read data as it arrives in whatever size the\n",
      " |      chunks are received. If stream=False, data is returned as\n",
      " |      a single chunk.\n",
      " |\n",
      " |      If decode_unicode is True, content will be decoded using the best\n",
      " |      available encoding based on the response.\n",
      " |\n",
      " |  iter_lines(self, chunk_size=512, decode_unicode=False, delimiter=None)\n",
      " |      Iterates over the response data, one line at a time.  When\n",
      " |      stream=True is set on the request, this avoids reading the\n",
      " |      content at once into memory for large responses.\n",
      " |\n",
      " |      .. note:: This method is not reentrant safe.\n",
      " |\n",
      " |  json(self, **kwargs)\n",
      " |      Returns the json-encoded content of a response, if any.\n",
      " |\n",
      " |      :param \\*\\*kwargs: Optional arguments that ``json.loads`` takes.\n",
      " |      :raises requests.exceptions.JSONDecodeError: If the response body does not\n",
      " |          contain valid json.\n",
      " |\n",
      " |  raise_for_status(self)\n",
      " |      Raises :class:`HTTPError`, if one occurred.\n",
      " |\n",
      " |  ----------------------------------------------------------------------\n",
      " |  Readonly properties defined here:\n",
      " |\n",
      " |  apparent_encoding\n",
      " |      The apparent encoding, provided by the charset_normalizer or chardet libraries.\n",
      " |\n",
      " |  content\n",
      " |      Content of the response, in bytes.\n",
      " |\n",
      " |  is_permanent_redirect\n",
      " |      True if this Response one of the permanent versions of redirect.\n",
      " |\n",
      " |  is_redirect\n",
      " |      True if this Response is a well-formed HTTP redirect that could have\n",
      " |      been processed automatically (by :meth:`Session.resolve_redirects`).\n",
      " |\n",
      " |  links\n",
      " |      Returns the parsed header links of the response, if any.\n",
      " |\n",
      " |  next\n",
      " |      Returns a PreparedRequest for the next request in a redirect chain, if there is one.\n",
      " |\n",
      " |  ok\n",
      " |      Returns True if :attr:`status_code` is less than 400, False if not.\n",
      " |\n",
      " |      This attribute checks if the status code of the response is between\n",
      " |      400 and 600 to see if there was a client error or a server error. If\n",
      " |      the status code is between 200 and 400, this will return True. This\n",
      " |      is **not** a check to see if the response code is ``200 OK``.\n",
      " |\n",
      " |  text\n",
      " |      Content of the response, in unicode.\n",
      " |\n",
      " |      If Response.encoding is None, encoding will be guessed using\n",
      " |      ``charset_normalizer`` or ``chardet``.\n",
      " |\n",
      " |      The encoding of the response content is determined based solely on HTTP\n",
      " |      headers, following RFC 2616 to the letter. If you can take advantage of\n",
      " |      non-HTTP knowledge to make a better guess at the encoding, you should\n",
      " |      set ``r.encoding`` appropriately before accessing this property.\n",
      " |\n",
      " |  ----------------------------------------------------------------------\n",
      " |  Data descriptors defined here:\n",
      " |\n",
      " |  __dict__\n",
      " |      dictionary for instance variables\n",
      " |\n",
      " |  __weakref__\n",
      " |      list of weak references to the object\n",
      " |\n",
      " |  ----------------------------------------------------------------------\n",
      " |  Data and other attributes defined here:\n",
      " |\n",
      " |  __attrs__ = ['_content', 'status_code', 'headers', 'url', 'history', '...\n",
      "\n",
      "None\n"
     ]
    }
   ],
   "source": [
    "# print documentation of the `requests.Response` class\n",
    "print(help(results))"
   ]
  },
  {
   "cell_type": "markdown",
   "id": "db50c8c9",
   "metadata": {},
   "source": [
    "The relevant information is found in the attributes `.headers` and `.text`. \n",
    "* `.headers` is a type of dictionary containing metadata of the response including a time stamp with second precision\n",
    "* `.text` is a string containing the XML encoded response"
   ]
  },
  {
   "cell_type": "code",
   "execution_count": 133,
   "id": "8fb42395",
   "metadata": {},
   "outputs": [
    {
     "name": "stdout",
     "output_type": "stream",
     "text": [
      "Type of .headers: <class 'requests.structures.CaseInsensitiveDict'>\n",
      "Type of .text:    <class 'str'>\n",
      "--------------------------------------------------------------------------------\n",
      "Keys in results.headers:\n",
      "- Connection     : keep-alive\n",
      "- Content-Length : 278\n",
      "- Content-Type   : text/xml; charset=\"utf-8\"\n",
      "- Date           : Sat, 26 Jul 2025 12:16:49 GMT\n",
      "- Server         : FRITZ!Box 7490 UPnP/1.0 AVM FRITZ!Box 7490 113.07.60\n",
      "- Ext            : \n"
     ]
    }
   ],
   "source": [
    "# print data types\n",
    "print(\"Type of .headers:\", type(results.headers))\n",
    "print(\"Type of .text:   \", type(results.text))\n",
    "print(\"-\"*80)\n",
    "# print dictionary keys\n",
    "print(\"Keys in results.headers:\")\n",
    "for key, val in results.headers.items():\n",
    "    print(f\"- {key:14s} : {val}\")\n"
   ]
  },
  {
   "cell_type": "code",
   "execution_count": 134,
   "id": "e56f7562",
   "metadata": {},
   "outputs": [
    {
     "name": "stdout",
     "output_type": "stream",
     "text": [
      "Type of .text:    <class 'str'>\n",
      "--------------------------------------------------------------------------------\n",
      "Contents of results.text:\n",
      "\n",
      "<?xml version=\"1.0\"?>\n",
      "<s:Envelope xmlns:s=\"http://schemas.xmlsoap.org/soap/envelope/\" s:encodingStyle=\"http://schemas.xmlsoap.org/soap/encoding/\">\n",
      "<s:Body>\n",
      "<u:SetSwitchResponse xmlns:u=\"urn:dslforum-org:service:X_AVM-DE_Homeauto:1\"></u:SetSwitchResponse>\n",
      "</s:Body>\n",
      "</s:Envelope>\n"
     ]
    }
   ],
   "source": [
    "print(\"Type of .text:   \", type(results.text))\n",
    "print(\"-\"*80)\n",
    "# print results.text\n",
    "print(\"Contents of results.text:\\n\")\n",
    "print(results.text)"
   ]
  },
  {
   "cell_type": "code",
   "execution_count": 135,
   "id": "19509d88",
   "metadata": {},
   "outputs": [
    {
     "name": "stdout",
     "output_type": "stream",
     "text": [
      "angolo (3.29, 'Sat, 26 Jul 2025 12:16:50 GMT')\n",
      "tv (86.97, 'Sat, 26 Jul 2025 12:16:51 GMT')\n"
     ]
    }
   ],
   "source": [
    "\n",
    "def get_power(device_ain):\n",
    "    \"\"\"Get the current power consumption using the TR-064 interfaces.\"\"\"\n",
    "    # get specific device information\n",
    "    request_result = get_specific_device_info(device_ain)\n",
    "    # extract power value and date\n",
    "    power = int((request_result.text).split(\"<NewMultimeterPower>\")[1].split(\"</NewMultimeterPower>\")[0]) / 100\n",
    "    date = request_result.headers['Date']\n",
    "    return power, date\n",
    "    # return request_result\n",
    "\n",
    "for dev, ain in DEVICES.items():\n",
    "    print(dev, get_power(ain))"
   ]
  },
  {
   "cell_type": "markdown",
   "id": "dd23112c",
   "metadata": {},
   "source": [
    "## The AHA-HTTP Method"
   ]
  },
  {
   "cell_type": "markdown",
   "id": "b11ec382",
   "metadata": {},
   "source": [
    "### Sending Requests (assuming an SID is available) [WORK IN PROGRESS]"
   ]
  },
  {
   "cell_type": "code",
   "execution_count": null,
   "id": "fda7e05c",
   "metadata": {},
   "outputs": [],
   "source": [
    "import requests\n",
    "\n",
    "# Replace these with your values\n",
    "sid = get_sid(FRITZ_USER, FRITZ_PWD)      # You must get this via login first\n",
    "\n",
    "# FRITZ!Box URL\n",
    "url = 'https://' + FRITZ_IP + 'fritz.box/webservices/homeautoswitch.lua'\n"
   ]
  },
  {
   "cell_type": "code",
   "execution_count": 228,
   "id": "889d7282",
   "metadata": {},
   "outputs": [],
   "source": [
    "ain = AINS[0].replace(\" \", \"\")              # AIN of your smart device\n",
    "cmd = 'setswitchon'               # Example command (see command list below)\n"
   ]
  },
  {
   "cell_type": "code",
   "execution_count": 230,
   "id": "62e97c02",
   "metadata": {},
   "outputs": [
    {
     "name": "stdout",
     "output_type": "stream",
     "text": [
      "https://192.168.178.1fritz.box/webservices/homeautoswitch.lua?ain=087610406876&switchcmd=setswitchon&sid=6bcbe7843abab945\n"
     ]
    },
    {
     "ename": "ConnectionError",
     "evalue": "HTTPSConnectionPool(host='192.168.178.1fritz.box', port=443): Max retries exceeded with url: /webservices/homeautoswitch.lua?ain=087610406876&switchcmd=setswitchon&sid=6bcbe7843abab945 (Caused by NameResolutionError(\"<urllib3.connection.HTTPSConnection object at 0x000001B59C872D50>: Failed to resolve '192.168.178.1fritz.box' ([Errno 11001] getaddrinfo failed)\"))",
     "output_type": "error",
     "traceback": [
      "\u001b[31m---------------------------------------------------------------------------\u001b[39m",
      "\u001b[31mgaierror\u001b[39m                                  Traceback (most recent call last)",
      "\u001b[36mFile \u001b[39m\u001b[32mc:\\Users\\Streck0\\AppData\\Local\\Programs\\Python\\Python313\\Lib\\site-packages\\urllib3\\connection.py:198\u001b[39m, in \u001b[36mHTTPConnection._new_conn\u001b[39m\u001b[34m(self)\u001b[39m\n\u001b[32m    197\u001b[39m \u001b[38;5;28;01mtry\u001b[39;00m:\n\u001b[32m--> \u001b[39m\u001b[32m198\u001b[39m     sock = \u001b[43mconnection\u001b[49m\u001b[43m.\u001b[49m\u001b[43mcreate_connection\u001b[49m\u001b[43m(\u001b[49m\n\u001b[32m    199\u001b[39m \u001b[43m        \u001b[49m\u001b[43m(\u001b[49m\u001b[38;5;28;43mself\u001b[39;49m\u001b[43m.\u001b[49m\u001b[43m_dns_host\u001b[49m\u001b[43m,\u001b[49m\u001b[43m \u001b[49m\u001b[38;5;28;43mself\u001b[39;49m\u001b[43m.\u001b[49m\u001b[43mport\u001b[49m\u001b[43m)\u001b[49m\u001b[43m,\u001b[49m\n\u001b[32m    200\u001b[39m \u001b[43m        \u001b[49m\u001b[38;5;28;43mself\u001b[39;49m\u001b[43m.\u001b[49m\u001b[43mtimeout\u001b[49m\u001b[43m,\u001b[49m\n\u001b[32m    201\u001b[39m \u001b[43m        \u001b[49m\u001b[43msource_address\u001b[49m\u001b[43m=\u001b[49m\u001b[38;5;28;43mself\u001b[39;49m\u001b[43m.\u001b[49m\u001b[43msource_address\u001b[49m\u001b[43m,\u001b[49m\n\u001b[32m    202\u001b[39m \u001b[43m        \u001b[49m\u001b[43msocket_options\u001b[49m\u001b[43m=\u001b[49m\u001b[38;5;28;43mself\u001b[39;49m\u001b[43m.\u001b[49m\u001b[43msocket_options\u001b[49m\u001b[43m,\u001b[49m\n\u001b[32m    203\u001b[39m \u001b[43m    \u001b[49m\u001b[43m)\u001b[49m\n\u001b[32m    204\u001b[39m \u001b[38;5;28;01mexcept\u001b[39;00m socket.gaierror \u001b[38;5;28;01mas\u001b[39;00m e:\n",
      "\u001b[36mFile \u001b[39m\u001b[32mc:\\Users\\Streck0\\AppData\\Local\\Programs\\Python\\Python313\\Lib\\site-packages\\urllib3\\util\\connection.py:60\u001b[39m, in \u001b[36mcreate_connection\u001b[39m\u001b[34m(address, timeout, source_address, socket_options)\u001b[39m\n\u001b[32m     58\u001b[39m     \u001b[38;5;28;01mraise\u001b[39;00m LocationParseError(\u001b[33mf\u001b[39m\u001b[33m\"\u001b[39m\u001b[33m'\u001b[39m\u001b[38;5;132;01m{\u001b[39;00mhost\u001b[38;5;132;01m}\u001b[39;00m\u001b[33m'\u001b[39m\u001b[33m, label empty or too long\u001b[39m\u001b[33m\"\u001b[39m) \u001b[38;5;28;01mfrom\u001b[39;00m\u001b[38;5;250m \u001b[39m\u001b[38;5;28;01mNone\u001b[39;00m\n\u001b[32m---> \u001b[39m\u001b[32m60\u001b[39m \u001b[38;5;28;01mfor\u001b[39;00m res \u001b[38;5;129;01min\u001b[39;00m \u001b[43msocket\u001b[49m\u001b[43m.\u001b[49m\u001b[43mgetaddrinfo\u001b[49m\u001b[43m(\u001b[49m\u001b[43mhost\u001b[49m\u001b[43m,\u001b[49m\u001b[43m \u001b[49m\u001b[43mport\u001b[49m\u001b[43m,\u001b[49m\u001b[43m \u001b[49m\u001b[43mfamily\u001b[49m\u001b[43m,\u001b[49m\u001b[43m \u001b[49m\u001b[43msocket\u001b[49m\u001b[43m.\u001b[49m\u001b[43mSOCK_STREAM\u001b[49m\u001b[43m)\u001b[49m:\n\u001b[32m     61\u001b[39m     af, socktype, proto, canonname, sa = res\n",
      "\u001b[36mFile \u001b[39m\u001b[32mc:\\Users\\Streck0\\AppData\\Local\\Programs\\Python\\Python313\\Lib\\socket.py:977\u001b[39m, in \u001b[36mgetaddrinfo\u001b[39m\u001b[34m(host, port, family, type, proto, flags)\u001b[39m\n\u001b[32m    976\u001b[39m addrlist = []\n\u001b[32m--> \u001b[39m\u001b[32m977\u001b[39m \u001b[38;5;28;01mfor\u001b[39;00m res \u001b[38;5;129;01min\u001b[39;00m \u001b[43m_socket\u001b[49m\u001b[43m.\u001b[49m\u001b[43mgetaddrinfo\u001b[49m\u001b[43m(\u001b[49m\u001b[43mhost\u001b[49m\u001b[43m,\u001b[49m\u001b[43m \u001b[49m\u001b[43mport\u001b[49m\u001b[43m,\u001b[49m\u001b[43m \u001b[49m\u001b[43mfamily\u001b[49m\u001b[43m,\u001b[49m\u001b[43m \u001b[49m\u001b[38;5;28;43mtype\u001b[39;49m\u001b[43m,\u001b[49m\u001b[43m \u001b[49m\u001b[43mproto\u001b[49m\u001b[43m,\u001b[49m\u001b[43m \u001b[49m\u001b[43mflags\u001b[49m\u001b[43m)\u001b[49m:\n\u001b[32m    978\u001b[39m     af, socktype, proto, canonname, sa = res\n",
      "\u001b[31mgaierror\u001b[39m: [Errno 11001] getaddrinfo failed",
      "\nThe above exception was the direct cause of the following exception:\n",
      "\u001b[31mNameResolutionError\u001b[39m                       Traceback (most recent call last)",
      "\u001b[36mFile \u001b[39m\u001b[32mc:\\Users\\Streck0\\AppData\\Local\\Programs\\Python\\Python313\\Lib\\site-packages\\urllib3\\connectionpool.py:787\u001b[39m, in \u001b[36mHTTPConnectionPool.urlopen\u001b[39m\u001b[34m(self, method, url, body, headers, retries, redirect, assert_same_host, timeout, pool_timeout, release_conn, chunked, body_pos, preload_content, decode_content, **response_kw)\u001b[39m\n\u001b[32m    786\u001b[39m \u001b[38;5;66;03m# Make the request on the HTTPConnection object\u001b[39;00m\n\u001b[32m--> \u001b[39m\u001b[32m787\u001b[39m response = \u001b[38;5;28;43mself\u001b[39;49m\u001b[43m.\u001b[49m\u001b[43m_make_request\u001b[49m\u001b[43m(\u001b[49m\n\u001b[32m    788\u001b[39m \u001b[43m    \u001b[49m\u001b[43mconn\u001b[49m\u001b[43m,\u001b[49m\n\u001b[32m    789\u001b[39m \u001b[43m    \u001b[49m\u001b[43mmethod\u001b[49m\u001b[43m,\u001b[49m\n\u001b[32m    790\u001b[39m \u001b[43m    \u001b[49m\u001b[43murl\u001b[49m\u001b[43m,\u001b[49m\n\u001b[32m    791\u001b[39m \u001b[43m    \u001b[49m\u001b[43mtimeout\u001b[49m\u001b[43m=\u001b[49m\u001b[43mtimeout_obj\u001b[49m\u001b[43m,\u001b[49m\n\u001b[32m    792\u001b[39m \u001b[43m    \u001b[49m\u001b[43mbody\u001b[49m\u001b[43m=\u001b[49m\u001b[43mbody\u001b[49m\u001b[43m,\u001b[49m\n\u001b[32m    793\u001b[39m \u001b[43m    \u001b[49m\u001b[43mheaders\u001b[49m\u001b[43m=\u001b[49m\u001b[43mheaders\u001b[49m\u001b[43m,\u001b[49m\n\u001b[32m    794\u001b[39m \u001b[43m    \u001b[49m\u001b[43mchunked\u001b[49m\u001b[43m=\u001b[49m\u001b[43mchunked\u001b[49m\u001b[43m,\u001b[49m\n\u001b[32m    795\u001b[39m \u001b[43m    \u001b[49m\u001b[43mretries\u001b[49m\u001b[43m=\u001b[49m\u001b[43mretries\u001b[49m\u001b[43m,\u001b[49m\n\u001b[32m    796\u001b[39m \u001b[43m    \u001b[49m\u001b[43mresponse_conn\u001b[49m\u001b[43m=\u001b[49m\u001b[43mresponse_conn\u001b[49m\u001b[43m,\u001b[49m\n\u001b[32m    797\u001b[39m \u001b[43m    \u001b[49m\u001b[43mpreload_content\u001b[49m\u001b[43m=\u001b[49m\u001b[43mpreload_content\u001b[49m\u001b[43m,\u001b[49m\n\u001b[32m    798\u001b[39m \u001b[43m    \u001b[49m\u001b[43mdecode_content\u001b[49m\u001b[43m=\u001b[49m\u001b[43mdecode_content\u001b[49m\u001b[43m,\u001b[49m\n\u001b[32m    799\u001b[39m \u001b[43m    \u001b[49m\u001b[43m*\u001b[49m\u001b[43m*\u001b[49m\u001b[43mresponse_kw\u001b[49m\u001b[43m,\u001b[49m\n\u001b[32m    800\u001b[39m \u001b[43m\u001b[49m\u001b[43m)\u001b[49m\n\u001b[32m    802\u001b[39m \u001b[38;5;66;03m# Everything went great!\u001b[39;00m\n",
      "\u001b[36mFile \u001b[39m\u001b[32mc:\\Users\\Streck0\\AppData\\Local\\Programs\\Python\\Python313\\Lib\\site-packages\\urllib3\\connectionpool.py:488\u001b[39m, in \u001b[36mHTTPConnectionPool._make_request\u001b[39m\u001b[34m(self, conn, method, url, body, headers, retries, timeout, chunked, response_conn, preload_content, decode_content, enforce_content_length)\u001b[39m\n\u001b[32m    487\u001b[39m         new_e = _wrap_proxy_error(new_e, conn.proxy.scheme)\n\u001b[32m--> \u001b[39m\u001b[32m488\u001b[39m     \u001b[38;5;28;01mraise\u001b[39;00m new_e\n\u001b[32m    490\u001b[39m \u001b[38;5;66;03m# conn.request() calls http.client.*.request, not the method in\u001b[39;00m\n\u001b[32m    491\u001b[39m \u001b[38;5;66;03m# urllib3.request. It also calls makefile (recv) on the socket.\u001b[39;00m\n",
      "\u001b[36mFile \u001b[39m\u001b[32mc:\\Users\\Streck0\\AppData\\Local\\Programs\\Python\\Python313\\Lib\\site-packages\\urllib3\\connectionpool.py:464\u001b[39m, in \u001b[36mHTTPConnectionPool._make_request\u001b[39m\u001b[34m(self, conn, method, url, body, headers, retries, timeout, chunked, response_conn, preload_content, decode_content, enforce_content_length)\u001b[39m\n\u001b[32m    463\u001b[39m \u001b[38;5;28;01mtry\u001b[39;00m:\n\u001b[32m--> \u001b[39m\u001b[32m464\u001b[39m     \u001b[38;5;28;43mself\u001b[39;49m\u001b[43m.\u001b[49m\u001b[43m_validate_conn\u001b[49m\u001b[43m(\u001b[49m\u001b[43mconn\u001b[49m\u001b[43m)\u001b[49m\n\u001b[32m    465\u001b[39m \u001b[38;5;28;01mexcept\u001b[39;00m (SocketTimeout, BaseSSLError) \u001b[38;5;28;01mas\u001b[39;00m e:\n",
      "\u001b[36mFile \u001b[39m\u001b[32mc:\\Users\\Streck0\\AppData\\Local\\Programs\\Python\\Python313\\Lib\\site-packages\\urllib3\\connectionpool.py:1093\u001b[39m, in \u001b[36mHTTPSConnectionPool._validate_conn\u001b[39m\u001b[34m(self, conn)\u001b[39m\n\u001b[32m   1092\u001b[39m \u001b[38;5;28;01mif\u001b[39;00m conn.is_closed:\n\u001b[32m-> \u001b[39m\u001b[32m1093\u001b[39m     \u001b[43mconn\u001b[49m\u001b[43m.\u001b[49m\u001b[43mconnect\u001b[49m\u001b[43m(\u001b[49m\u001b[43m)\u001b[49m\n\u001b[32m   1095\u001b[39m \u001b[38;5;66;03m# TODO revise this, see https://github.com/urllib3/urllib3/issues/2791\u001b[39;00m\n",
      "\u001b[36mFile \u001b[39m\u001b[32mc:\\Users\\Streck0\\AppData\\Local\\Programs\\Python\\Python313\\Lib\\site-packages\\urllib3\\connection.py:704\u001b[39m, in \u001b[36mHTTPSConnection.connect\u001b[39m\u001b[34m(self)\u001b[39m\n\u001b[32m    703\u001b[39m sock: socket.socket | ssl.SSLSocket\n\u001b[32m--> \u001b[39m\u001b[32m704\u001b[39m \u001b[38;5;28mself\u001b[39m.sock = sock = \u001b[38;5;28;43mself\u001b[39;49m\u001b[43m.\u001b[49m\u001b[43m_new_conn\u001b[49m\u001b[43m(\u001b[49m\u001b[43m)\u001b[49m\n\u001b[32m    705\u001b[39m server_hostname: \u001b[38;5;28mstr\u001b[39m = \u001b[38;5;28mself\u001b[39m.host\n",
      "\u001b[36mFile \u001b[39m\u001b[32mc:\\Users\\Streck0\\AppData\\Local\\Programs\\Python\\Python313\\Lib\\site-packages\\urllib3\\connection.py:205\u001b[39m, in \u001b[36mHTTPConnection._new_conn\u001b[39m\u001b[34m(self)\u001b[39m\n\u001b[32m    204\u001b[39m \u001b[38;5;28;01mexcept\u001b[39;00m socket.gaierror \u001b[38;5;28;01mas\u001b[39;00m e:\n\u001b[32m--> \u001b[39m\u001b[32m205\u001b[39m     \u001b[38;5;28;01mraise\u001b[39;00m NameResolutionError(\u001b[38;5;28mself\u001b[39m.host, \u001b[38;5;28mself\u001b[39m, e) \u001b[38;5;28;01mfrom\u001b[39;00m\u001b[38;5;250m \u001b[39m\u001b[34;01me\u001b[39;00m\n\u001b[32m    206\u001b[39m \u001b[38;5;28;01mexcept\u001b[39;00m SocketTimeout \u001b[38;5;28;01mas\u001b[39;00m e:\n",
      "\u001b[31mNameResolutionError\u001b[39m: <urllib3.connection.HTTPSConnection object at 0x000001B59C872D50>: Failed to resolve '192.168.178.1fritz.box' ([Errno 11001] getaddrinfo failed)",
      "\nThe above exception was the direct cause of the following exception:\n",
      "\u001b[31mMaxRetryError\u001b[39m                             Traceback (most recent call last)",
      "\u001b[36mFile \u001b[39m\u001b[32mc:\\Users\\Streck0\\AppData\\Local\\Programs\\Python\\Python313\\Lib\\site-packages\\requests\\adapters.py:667\u001b[39m, in \u001b[36mHTTPAdapter.send\u001b[39m\u001b[34m(self, request, stream, timeout, verify, cert, proxies)\u001b[39m\n\u001b[32m    666\u001b[39m \u001b[38;5;28;01mtry\u001b[39;00m:\n\u001b[32m--> \u001b[39m\u001b[32m667\u001b[39m     resp = \u001b[43mconn\u001b[49m\u001b[43m.\u001b[49m\u001b[43murlopen\u001b[49m\u001b[43m(\u001b[49m\n\u001b[32m    668\u001b[39m \u001b[43m        \u001b[49m\u001b[43mmethod\u001b[49m\u001b[43m=\u001b[49m\u001b[43mrequest\u001b[49m\u001b[43m.\u001b[49m\u001b[43mmethod\u001b[49m\u001b[43m,\u001b[49m\n\u001b[32m    669\u001b[39m \u001b[43m        \u001b[49m\u001b[43murl\u001b[49m\u001b[43m=\u001b[49m\u001b[43murl\u001b[49m\u001b[43m,\u001b[49m\n\u001b[32m    670\u001b[39m \u001b[43m        \u001b[49m\u001b[43mbody\u001b[49m\u001b[43m=\u001b[49m\u001b[43mrequest\u001b[49m\u001b[43m.\u001b[49m\u001b[43mbody\u001b[49m\u001b[43m,\u001b[49m\n\u001b[32m    671\u001b[39m \u001b[43m        \u001b[49m\u001b[43mheaders\u001b[49m\u001b[43m=\u001b[49m\u001b[43mrequest\u001b[49m\u001b[43m.\u001b[49m\u001b[43mheaders\u001b[49m\u001b[43m,\u001b[49m\n\u001b[32m    672\u001b[39m \u001b[43m        \u001b[49m\u001b[43mredirect\u001b[49m\u001b[43m=\u001b[49m\u001b[38;5;28;43;01mFalse\u001b[39;49;00m\u001b[43m,\u001b[49m\n\u001b[32m    673\u001b[39m \u001b[43m        \u001b[49m\u001b[43massert_same_host\u001b[49m\u001b[43m=\u001b[49m\u001b[38;5;28;43;01mFalse\u001b[39;49;00m\u001b[43m,\u001b[49m\n\u001b[32m    674\u001b[39m \u001b[43m        \u001b[49m\u001b[43mpreload_content\u001b[49m\u001b[43m=\u001b[49m\u001b[38;5;28;43;01mFalse\u001b[39;49;00m\u001b[43m,\u001b[49m\n\u001b[32m    675\u001b[39m \u001b[43m        \u001b[49m\u001b[43mdecode_content\u001b[49m\u001b[43m=\u001b[49m\u001b[38;5;28;43;01mFalse\u001b[39;49;00m\u001b[43m,\u001b[49m\n\u001b[32m    676\u001b[39m \u001b[43m        \u001b[49m\u001b[43mretries\u001b[49m\u001b[43m=\u001b[49m\u001b[38;5;28;43mself\u001b[39;49m\u001b[43m.\u001b[49m\u001b[43mmax_retries\u001b[49m\u001b[43m,\u001b[49m\n\u001b[32m    677\u001b[39m \u001b[43m        \u001b[49m\u001b[43mtimeout\u001b[49m\u001b[43m=\u001b[49m\u001b[43mtimeout\u001b[49m\u001b[43m,\u001b[49m\n\u001b[32m    678\u001b[39m \u001b[43m        \u001b[49m\u001b[43mchunked\u001b[49m\u001b[43m=\u001b[49m\u001b[43mchunked\u001b[49m\u001b[43m,\u001b[49m\n\u001b[32m    679\u001b[39m \u001b[43m    \u001b[49m\u001b[43m)\u001b[49m\n\u001b[32m    681\u001b[39m \u001b[38;5;28;01mexcept\u001b[39;00m (ProtocolError, \u001b[38;5;167;01mOSError\u001b[39;00m) \u001b[38;5;28;01mas\u001b[39;00m err:\n",
      "\u001b[36mFile \u001b[39m\u001b[32mc:\\Users\\Streck0\\AppData\\Local\\Programs\\Python\\Python313\\Lib\\site-packages\\urllib3\\connectionpool.py:841\u001b[39m, in \u001b[36mHTTPConnectionPool.urlopen\u001b[39m\u001b[34m(self, method, url, body, headers, retries, redirect, assert_same_host, timeout, pool_timeout, release_conn, chunked, body_pos, preload_content, decode_content, **response_kw)\u001b[39m\n\u001b[32m    839\u001b[39m     new_e = ProtocolError(\u001b[33m\"\u001b[39m\u001b[33mConnection aborted.\u001b[39m\u001b[33m\"\u001b[39m, new_e)\n\u001b[32m--> \u001b[39m\u001b[32m841\u001b[39m retries = \u001b[43mretries\u001b[49m\u001b[43m.\u001b[49m\u001b[43mincrement\u001b[49m\u001b[43m(\u001b[49m\n\u001b[32m    842\u001b[39m \u001b[43m    \u001b[49m\u001b[43mmethod\u001b[49m\u001b[43m,\u001b[49m\u001b[43m \u001b[49m\u001b[43murl\u001b[49m\u001b[43m,\u001b[49m\u001b[43m \u001b[49m\u001b[43merror\u001b[49m\u001b[43m=\u001b[49m\u001b[43mnew_e\u001b[49m\u001b[43m,\u001b[49m\u001b[43m \u001b[49m\u001b[43m_pool\u001b[49m\u001b[43m=\u001b[49m\u001b[38;5;28;43mself\u001b[39;49m\u001b[43m,\u001b[49m\u001b[43m \u001b[49m\u001b[43m_stacktrace\u001b[49m\u001b[43m=\u001b[49m\u001b[43msys\u001b[49m\u001b[43m.\u001b[49m\u001b[43mexc_info\u001b[49m\u001b[43m(\u001b[49m\u001b[43m)\u001b[49m\u001b[43m[\u001b[49m\u001b[32;43m2\u001b[39;49m\u001b[43m]\u001b[49m\n\u001b[32m    843\u001b[39m \u001b[43m\u001b[49m\u001b[43m)\u001b[49m\n\u001b[32m    844\u001b[39m retries.sleep()\n",
      "\u001b[36mFile \u001b[39m\u001b[32mc:\\Users\\Streck0\\AppData\\Local\\Programs\\Python\\Python313\\Lib\\site-packages\\urllib3\\util\\retry.py:519\u001b[39m, in \u001b[36mRetry.increment\u001b[39m\u001b[34m(self, method, url, response, error, _pool, _stacktrace)\u001b[39m\n\u001b[32m    518\u001b[39m     reason = error \u001b[38;5;129;01mor\u001b[39;00m ResponseError(cause)\n\u001b[32m--> \u001b[39m\u001b[32m519\u001b[39m     \u001b[38;5;28;01mraise\u001b[39;00m MaxRetryError(_pool, url, reason) \u001b[38;5;28;01mfrom\u001b[39;00m\u001b[38;5;250m \u001b[39m\u001b[34;01mreason\u001b[39;00m  \u001b[38;5;66;03m# type: ignore[arg-type]\u001b[39;00m\n\u001b[32m    521\u001b[39m log.debug(\u001b[33m\"\u001b[39m\u001b[33mIncremented Retry for (url=\u001b[39m\u001b[33m'\u001b[39m\u001b[38;5;132;01m%s\u001b[39;00m\u001b[33m'\u001b[39m\u001b[33m): \u001b[39m\u001b[38;5;132;01m%r\u001b[39;00m\u001b[33m\"\u001b[39m, url, new_retry)\n",
      "\u001b[31mMaxRetryError\u001b[39m: HTTPSConnectionPool(host='192.168.178.1fritz.box', port=443): Max retries exceeded with url: /webservices/homeautoswitch.lua?ain=087610406876&switchcmd=setswitchon&sid=6bcbe7843abab945 (Caused by NameResolutionError(\"<urllib3.connection.HTTPSConnection object at 0x000001B59C872D50>: Failed to resolve '192.168.178.1fritz.box' ([Errno 11001] getaddrinfo failed)\"))",
      "\nDuring handling of the above exception, another exception occurred:\n",
      "\u001b[31mConnectionError\u001b[39m                           Traceback (most recent call last)",
      "\u001b[36mCell\u001b[39m\u001b[36m \u001b[39m\u001b[32mIn[230]\u001b[39m\u001b[32m, line 12\u001b[39m\n\u001b[32m     10\u001b[39m \u001b[38;5;28mprint\u001b[39m(get_request_url)\n\u001b[32m     11\u001b[39m \u001b[38;5;66;03m# Send the GET request\u001b[39;00m\n\u001b[32m---> \u001b[39m\u001b[32m12\u001b[39m response = \u001b[43mrequests\u001b[49m\u001b[43m.\u001b[49m\u001b[43mget\u001b[49m\u001b[43m(\u001b[49m\u001b[43mget_request_url\u001b[49m\u001b[43m,\u001b[49m\u001b[43m \u001b[49m\u001b[43mverify\u001b[49m\u001b[43m=\u001b[49m\u001b[38;5;28;43;01mFalse\u001b[39;49;00m\u001b[43m)\u001b[49m  \u001b[38;5;66;03m# Use verify=False if self-signed cert\u001b[39;00m\n\u001b[32m     13\u001b[39m \u001b[38;5;66;03m# response = requests.get(url, params=params, verify=False)  # Use verify=False if self-signed cert\u001b[39;00m\n",
      "\u001b[36mFile \u001b[39m\u001b[32mc:\\Users\\Streck0\\AppData\\Local\\Programs\\Python\\Python313\\Lib\\site-packages\\requests\\api.py:73\u001b[39m, in \u001b[36mget\u001b[39m\u001b[34m(url, params, **kwargs)\u001b[39m\n\u001b[32m     62\u001b[39m \u001b[38;5;28;01mdef\u001b[39;00m\u001b[38;5;250m \u001b[39m\u001b[34mget\u001b[39m(url, params=\u001b[38;5;28;01mNone\u001b[39;00m, **kwargs):\n\u001b[32m     63\u001b[39m \u001b[38;5;250m    \u001b[39m\u001b[33mr\u001b[39m\u001b[33;03m\"\"\"Sends a GET request.\u001b[39;00m\n\u001b[32m     64\u001b[39m \n\u001b[32m     65\u001b[39m \u001b[33;03m    :param url: URL for the new :class:`Request` object.\u001b[39;00m\n\u001b[32m   (...)\u001b[39m\u001b[32m     70\u001b[39m \u001b[33;03m    :rtype: requests.Response\u001b[39;00m\n\u001b[32m     71\u001b[39m \u001b[33;03m    \"\"\"\u001b[39;00m\n\u001b[32m---> \u001b[39m\u001b[32m73\u001b[39m     \u001b[38;5;28;01mreturn\u001b[39;00m \u001b[43mrequest\u001b[49m\u001b[43m(\u001b[49m\u001b[33;43m\"\u001b[39;49m\u001b[33;43mget\u001b[39;49m\u001b[33;43m\"\u001b[39;49m\u001b[43m,\u001b[49m\u001b[43m \u001b[49m\u001b[43murl\u001b[49m\u001b[43m,\u001b[49m\u001b[43m \u001b[49m\u001b[43mparams\u001b[49m\u001b[43m=\u001b[49m\u001b[43mparams\u001b[49m\u001b[43m,\u001b[49m\u001b[43m \u001b[49m\u001b[43m*\u001b[49m\u001b[43m*\u001b[49m\u001b[43mkwargs\u001b[49m\u001b[43m)\u001b[49m\n",
      "\u001b[36mFile \u001b[39m\u001b[32mc:\\Users\\Streck0\\AppData\\Local\\Programs\\Python\\Python313\\Lib\\site-packages\\requests\\api.py:59\u001b[39m, in \u001b[36mrequest\u001b[39m\u001b[34m(method, url, **kwargs)\u001b[39m\n\u001b[32m     55\u001b[39m \u001b[38;5;66;03m# By using the 'with' statement we are sure the session is closed, thus we\u001b[39;00m\n\u001b[32m     56\u001b[39m \u001b[38;5;66;03m# avoid leaving sockets open which can trigger a ResourceWarning in some\u001b[39;00m\n\u001b[32m     57\u001b[39m \u001b[38;5;66;03m# cases, and look like a memory leak in others.\u001b[39;00m\n\u001b[32m     58\u001b[39m \u001b[38;5;28;01mwith\u001b[39;00m sessions.Session() \u001b[38;5;28;01mas\u001b[39;00m session:\n\u001b[32m---> \u001b[39m\u001b[32m59\u001b[39m     \u001b[38;5;28;01mreturn\u001b[39;00m \u001b[43msession\u001b[49m\u001b[43m.\u001b[49m\u001b[43mrequest\u001b[49m\u001b[43m(\u001b[49m\u001b[43mmethod\u001b[49m\u001b[43m=\u001b[49m\u001b[43mmethod\u001b[49m\u001b[43m,\u001b[49m\u001b[43m \u001b[49m\u001b[43murl\u001b[49m\u001b[43m=\u001b[49m\u001b[43murl\u001b[49m\u001b[43m,\u001b[49m\u001b[43m \u001b[49m\u001b[43m*\u001b[49m\u001b[43m*\u001b[49m\u001b[43mkwargs\u001b[49m\u001b[43m)\u001b[49m\n",
      "\u001b[36mFile \u001b[39m\u001b[32mc:\\Users\\Streck0\\AppData\\Local\\Programs\\Python\\Python313\\Lib\\site-packages\\requests\\sessions.py:589\u001b[39m, in \u001b[36mSession.request\u001b[39m\u001b[34m(self, method, url, params, data, headers, cookies, files, auth, timeout, allow_redirects, proxies, hooks, stream, verify, cert, json)\u001b[39m\n\u001b[32m    584\u001b[39m send_kwargs = {\n\u001b[32m    585\u001b[39m     \u001b[33m\"\u001b[39m\u001b[33mtimeout\u001b[39m\u001b[33m\"\u001b[39m: timeout,\n\u001b[32m    586\u001b[39m     \u001b[33m\"\u001b[39m\u001b[33mallow_redirects\u001b[39m\u001b[33m\"\u001b[39m: allow_redirects,\n\u001b[32m    587\u001b[39m }\n\u001b[32m    588\u001b[39m send_kwargs.update(settings)\n\u001b[32m--> \u001b[39m\u001b[32m589\u001b[39m resp = \u001b[38;5;28;43mself\u001b[39;49m\u001b[43m.\u001b[49m\u001b[43msend\u001b[49m\u001b[43m(\u001b[49m\u001b[43mprep\u001b[49m\u001b[43m,\u001b[49m\u001b[43m \u001b[49m\u001b[43m*\u001b[49m\u001b[43m*\u001b[49m\u001b[43msend_kwargs\u001b[49m\u001b[43m)\u001b[49m\n\u001b[32m    591\u001b[39m \u001b[38;5;28;01mreturn\u001b[39;00m resp\n",
      "\u001b[36mFile \u001b[39m\u001b[32mc:\\Users\\Streck0\\AppData\\Local\\Programs\\Python\\Python313\\Lib\\site-packages\\requests\\sessions.py:703\u001b[39m, in \u001b[36mSession.send\u001b[39m\u001b[34m(self, request, **kwargs)\u001b[39m\n\u001b[32m    700\u001b[39m start = preferred_clock()\n\u001b[32m    702\u001b[39m \u001b[38;5;66;03m# Send the request\u001b[39;00m\n\u001b[32m--> \u001b[39m\u001b[32m703\u001b[39m r = \u001b[43madapter\u001b[49m\u001b[43m.\u001b[49m\u001b[43msend\u001b[49m\u001b[43m(\u001b[49m\u001b[43mrequest\u001b[49m\u001b[43m,\u001b[49m\u001b[43m \u001b[49m\u001b[43m*\u001b[49m\u001b[43m*\u001b[49m\u001b[43mkwargs\u001b[49m\u001b[43m)\u001b[49m\n\u001b[32m    705\u001b[39m \u001b[38;5;66;03m# Total elapsed time of the request (approximately)\u001b[39;00m\n\u001b[32m    706\u001b[39m elapsed = preferred_clock() - start\n",
      "\u001b[36mFile \u001b[39m\u001b[32mc:\\Users\\Streck0\\AppData\\Local\\Programs\\Python\\Python313\\Lib\\site-packages\\requests\\adapters.py:700\u001b[39m, in \u001b[36mHTTPAdapter.send\u001b[39m\u001b[34m(self, request, stream, timeout, verify, cert, proxies)\u001b[39m\n\u001b[32m    696\u001b[39m     \u001b[38;5;28;01mif\u001b[39;00m \u001b[38;5;28misinstance\u001b[39m(e.reason, _SSLError):\n\u001b[32m    697\u001b[39m         \u001b[38;5;66;03m# This branch is for urllib3 v1.22 and later.\u001b[39;00m\n\u001b[32m    698\u001b[39m         \u001b[38;5;28;01mraise\u001b[39;00m SSLError(e, request=request)\n\u001b[32m--> \u001b[39m\u001b[32m700\u001b[39m     \u001b[38;5;28;01mraise\u001b[39;00m \u001b[38;5;167;01mConnectionError\u001b[39;00m(e, request=request)\n\u001b[32m    702\u001b[39m \u001b[38;5;28;01mexcept\u001b[39;00m ClosedPoolError \u001b[38;5;28;01mas\u001b[39;00m e:\n\u001b[32m    703\u001b[39m     \u001b[38;5;28;01mraise\u001b[39;00m \u001b[38;5;167;01mConnectionError\u001b[39;00m(e, request=request)\n",
      "\u001b[31mConnectionError\u001b[39m: HTTPSConnectionPool(host='192.168.178.1fritz.box', port=443): Max retries exceeded with url: /webservices/homeautoswitch.lua?ain=087610406876&switchcmd=setswitchon&sid=6bcbe7843abab945 (Caused by NameResolutionError(\"<urllib3.connection.HTTPSConnection object at 0x000001B59C872D50>: Failed to resolve '192.168.178.1fritz.box' ([Errno 11001] getaddrinfo failed)\"))"
     ]
    }
   ],
   "source": [
    "\n",
    "# Parameters for the GET request\n",
    "params = {\n",
    "    'ain': ain.replace(\"\", \" \"),\n",
    "    'switchcmd': cmd,\n",
    "    'sid': sid\n",
    "}\n",
    "\n",
    "\n",
    "get_request_url = f\"{url}?ain={ain}&switchcmd={cmd}&sid={sid}\"\n",
    "print(get_request_url)\n",
    "# Send the GET request\n",
    "response = requests.get(get_request_url, verify=False)  # Use verify=False if self-signed cert\n",
    "# response = requests.get(url, params=params, verify=False)  # Use verify=False if self-signed cert\n"
   ]
  },
  {
   "cell_type": "markdown",
   "id": "d649b04f",
   "metadata": {},
   "source": [
    "### Obtaining an SID (aka The Login Torture)"
   ]
  },
  {
   "cell_type": "markdown",
   "id": "3ba19dba",
   "metadata": {},
   "source": [
    "The login procedure is described [in the official documentation](https://fritz.com/fileadmin/user_upload/Global/Service/Schnittstellen/AVM_Technical_Note_-_Session_ID_english_2021-05-03.pdf). The bad news is that it's not entirely straight forward. However, the good news is that the documentation actually provides Python code. Here is a minor modification. The main feature is the function `get_sid()`."
   ]
  },
  {
   "cell_type": "code",
   "execution_count": null,
   "id": "0fe9a6cb",
   "metadata": {},
   "outputs": [
    {
     "name": "stdout",
     "output_type": "stream",
     "text": [
      "Successful login.\n",
      "SID: 99228c430eb0fa96\n"
     ]
    }
   ],
   "source": [
    "#!/usr/bin/env python3\n",
    "# vim: expandtab sw=4 ts=4\n",
    "\"\"\"\n",
    "FRITZ!OS WebGUI Login\n",
    "Get a sid (session ID) via PBKDF2 based challenge response algorithm.\n",
    "Fallback to MD5 if FRITZ!OS has no PBKDF2 support.\n",
    "AVM 2020-09-25\n",
    "\"\"\"\n",
    "\n",
    "import sys\n",
    "import hashlib\n",
    "import time\n",
    "import urllib.request\n",
    "import urllib.parse\n",
    "import xml.etree.ElementTree as ET\n",
    "\n",
    "LOGIN_SID_ROUTE = \"/login_sid.lua?version=2\"\n",
    "\n",
    "\n",
    "class LoginState:\n",
    "    def __init__(self, challenge: str, blocktime: int):\n",
    "        self.challenge = challenge\n",
    "        self.blocktime = blocktime\n",
    "        self.is_pbkdf2 = challenge.startswith(\"2$\")\n",
    "\n",
    "\n",
    "def get_sid(username: str, password: str, address:str=\"fritz.box\") -> str:\n",
    "    \"\"\" Get a sid by solving the PBKDF2 (or MD5) challenge-response\n",
    "    process. \"\"\"\n",
    "    box_url = \"http://\" + address\n",
    "    try:\n",
    "        state = get_login_state(box_url)\n",
    "    except Exception as ex:\n",
    "        raise Exception(\"failed to get challenge\") from ex\n",
    "    if state.is_pbkdf2:\n",
    "        # print(\"PBKDF2 supported\")\n",
    "        challenge_response = calculate_pbkdf2_response(state.challenge, password)\n",
    "    else:\n",
    "        # print(\"Falling back to MD5\")\n",
    "        challenge_response = calculate_md5_response(state.challenge, password)\n",
    "    if state.blocktime > 0:\n",
    "        # print(f\"Waiting for {state.blocktime} seconds...\")\n",
    "        time.sleep(state.blocktime)\n",
    "    try:\n",
    "        sid = send_response(box_url, username, challenge_response)\n",
    "    except Exception as ex:\n",
    "        raise Exception(\"failed to login\") from ex\n",
    "    if sid == \"0000000000000000\":\n",
    "        raise Exception(\"wrong username or password\")\n",
    "    return sid\n",
    "\n",
    "\n",
    "def get_login_state(box_url: str) -> LoginState:\n",
    "    \"\"\" Get login state from FRITZ!Box using login_sid.lua?version=2 \"\"\"\n",
    "    url = box_url + LOGIN_SID_ROUTE\n",
    "    http_response = urllib.request.urlopen(url)\n",
    "    xml = ET.fromstring(http_response.read())\n",
    "    # print(f\"xml: {xml}\")\n",
    "    challenge = xml.find(\"Challenge\").text\n",
    "    blocktime = int(xml.find(\"BlockTime\").text)\n",
    "    return LoginState(challenge, blocktime)\n",
    "\n",
    "\n",
    "def calculate_pbkdf2_response(challenge: str, password: str) -> str:\n",
    "    \"\"\" Calculate the response for a given challenge via PBKDF2 \"\"\"\n",
    "    challenge_parts = challenge.split(\"$\")\n",
    "    # Extract all necessary values encoded into the challenge\n",
    "    iter1 = int(challenge_parts[1])\n",
    "    salt1 = bytes.fromhex(challenge_parts[2])\n",
    "    iter2 = int(challenge_parts[3])\n",
    "    salt2 = bytes.fromhex(challenge_parts[4])\n",
    "    # Hash twice, once with static salt...\n",
    "    hash1 = hashlib.pbkdf2_hmac(\"sha256\", password.encode(), salt1, iter1)\n",
    "    # Once with dynamic salt.\n",
    "    hash2 = hashlib.pbkdf2_hmac(\"sha256\", hash1, salt2, iter2)\n",
    "    return f\"{challenge_parts[4]}${hash2.hex()}\"\n",
    "\n",
    "\n",
    "def calculate_md5_response(challenge: str, password: str) -> str:\n",
    "    \"\"\" Calculate the response for a challenge using legacy MD5 \"\"\"\n",
    "    response = challenge + \"-\" + password\n",
    "    # the legacy response needs utf_16_le encoding\n",
    "    response = response.encode(\"utf_16_le\")\n",
    "    md5_sum = hashlib.md5()\n",
    "    md5_sum.update(response)\n",
    "    response = challenge + \"-\" + md5_sum.hexdigest()\n",
    "    return response\n",
    "\n",
    "\n",
    "def send_response(box_url: str, username: str, challenge_response: str)->str:\n",
    "    \"\"\" Send the response and return the parsed sid. raises an Exception on\n",
    "    error \"\"\"\n",
    "    # Build response params\n",
    "    post_data_dict = {\"username\": username, \"response\": challenge_response}\n",
    "    post_data = urllib.parse.urlencode(post_data_dict).encode()\n",
    "    headers = {\"Content-Type\": \"application/x-www-form-urlencoded\"}\n",
    "    url = box_url + LOGIN_SID_ROUTE\n",
    "    # Send response\n",
    "    http_request = urllib.request.Request(url, post_data, headers)\n",
    "    http_response = urllib.request.urlopen(http_request)\n",
    "    # Parse SID from resulting XML.\n",
    "    xml = ET.fromstring(http_response.read())\n",
    "    return xml.find(\"SID\").text\n",
    "\n",
    "\n",
    "sid = get_sid(FRITZ_USER, FRITZ_PWD)\n",
    "print(\"Successful login.\")\n",
    "print(f\"SID: {sid}\")\n"
   ]
  }
 ],
 "metadata": {
  "kernelspec": {
   "display_name": "Python 3",
   "language": "python",
   "name": "python3"
  },
  "language_info": {
   "codemirror_mode": {
    "name": "ipython",
    "version": 3
   },
   "file_extension": ".py",
   "mimetype": "text/x-python",
   "name": "python",
   "nbconvert_exporter": "python",
   "pygments_lexer": "ipython3",
   "version": "3.13.5"
  }
 },
 "nbformat": 4,
 "nbformat_minor": 5
}
