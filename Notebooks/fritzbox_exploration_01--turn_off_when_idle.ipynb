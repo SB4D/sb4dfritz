{
 "cells": [
  {
   "cell_type": "markdown",
   "id": "c8309490",
   "metadata": {},
   "source": [
    "# Turn Off Fritz!DECT Smart Switch Only When Devices Are Idle\n",
    "\n",
    "I had a rather specific problem. The TL;DR version is that I have a smart switch controling an appliance which irregularly draws power without giving a clear indication. I'm a little paranoid and I prefer to turn off the switch only when the appliance is idle. The smart switch provides real time (well, almost...) power measurements and I used to manually check the power read out manufacturers app and wait for an idle state to turn of the machine. The goal was to automate this somewhat tedious procedure with a Python script.\n",
    "\n",
    "\n",
    "Now the full story. The appliance is my dual boiler espresso machine which takes about 20 minutes to heat up before use and, when running, has irregular heating periods to keep the boilers at operating temperature. During the heating periods the machine draws several hundreds of Watts of power up to about 1.4 kH, when idle the power consumption is about 3 W. The initial heating period is about 10-15 minutes long while the other periods are sometimes less than a minute. There is no visual indication for heating activity and the heating is mostly inaudible as well. Due to the long initial heating period I have the machine control by a Fritz!DECT 200 smart switch connected to my Fritz!Box router so that I can turn on the machine automatically in the morning so that it's ready to go when I get up. In this setup the smart switch completely replaces the machine's actual on/off switch which is constantly set to 'on'.\n",
    "\n",
    "Now, I'm not an electrician but I certified service technician has assured me of two things:\n",
    "1. The smart switch has pretty much the same effect as the actual on/off switch.\n",
    "2. Switching off the machine during heating does not harm the machine.\n",
    "\n",
    "Nevertheless, I feel better when the smart switch only goes to 'off' when the machine is idle."
   ]
  },
  {
   "cell_type": "markdown",
   "id": "c5ddf646",
   "metadata": {},
   "source": [
    "\n",
    "## Controlling Fritz!DECT devices using Python and firtzconnection\n",
    "\n",
    "The Fritz!Box allows third party interaction with the device. The official documentation is available in German on the manufacturer's homepage (https://fritz.com/service/schnittstellen/). Luckily, there is a Python library called `fritzconnection` which simplifies the process. In particular, the relevant functions for Fritz!DECT smart switches are:\n",
    "1. Retrieving the power measurements.\n",
    "2. Setting the switch state.\n",
    "\n",
    "The documentation for `fritzconnection` can be found here: https://fritzconnection.readthedocs.io/en/1.15.0/"
   ]
  },
  {
   "cell_type": "markdown",
   "id": "5a457f37",
   "metadata": {},
   "source": [
    "\n",
    "## A problem for the implementation: latency\n",
    "\n",
    "Recall that the goal is to write a function, say `turnOffWhenIdle(...)`, that does what the name suggests. At first, the solution seems obvious. Simply connect to the Fritz!Box, monitor the power of the smart switch, wait until an idle value is reported, and only then turn off the switch. This would be easy using `firtzconnection` if the smart switch actually provided real time measurements as the manufacturer claims. However, a little expirementation suggests that this isn't quite the case. As far as I can tell, the following is true:\n",
    "* Power measurements are only recorded every 10 seconds.\n",
    "* The time stamp of the measurement only has second precision. The actual time of measurement is truncated.\n",
    "* Requesting and receiving the power measurements takes somewhere between 0.7 and 1 seconds. I'm assuming that it takes about half of this time for the request to reach the smart switch.\n",
    "* The first request after longer periods without requests is not always reliable. This is indicated by an outdated timestamp.\n",
    "\n",
    "Unfortunately, this complicates the design of an optimal `turnOffWhenIdle(...)` function:\n",
    "* Several requests of power data are necessary to obtain reliable values. It can take more than 10 seconds after an initial request until the data is reliable.\n",
    "* Even in the case, the read out is accurate, the latency between the measurement and retrieving the information can be over 12 seconds in the worst case.\n",
    "* Even in the best case, some latency has to be expected because the measuring cycle is not known precisely and it is next to impossible to set up a completely synchronized request cycle due to fluctuating request durations.\n",
    "\n",
    "With this understood the main task is to set up a request cycle using `fritzconnection` that is reasonably accurately synchronized with the power measurement cycle on the smart switch. "
   ]
  },
  {
   "cell_type": "markdown",
   "id": "13ad1cbd",
   "metadata": {},
   "source": [
    "# The Implementation"
   ]
  },
  {
   "cell_type": "markdown",
   "id": "0f8aa58c",
   "metadata": {},
   "source": [
    "## Connecting to the Fritz!Box using fritzconnection\n",
    "The first task is to import (and install, if needed) `fritzconnection` and other needed packages."
   ]
  },
  {
   "cell_type": "code",
   "execution_count": 1,
   "id": "d37c451c",
   "metadata": {},
   "outputs": [],
   "source": [
    "# !pip install fritzconnection\n",
    "import fritzconnection\n",
    "from fritzconnection import FritzConnection\n",
    "from fritzconnection.lib.fritzhomeauto import FritzHomeAutomation\n",
    "\n",
    "import json \n",
    "import time, datetime"
   ]
  },
  {
   "cell_type": "markdown",
   "id": "6a164720",
   "metadata": {},
   "source": [
    "Next we have to connect to the Fritz!Box and its home automation services"
   ]
  },
  {
   "cell_type": "code",
   "execution_count": 2,
   "id": "060c6bfa",
   "metadata": {},
   "outputs": [
    {
     "name": "stdout",
     "output_type": "stream",
     "text": [
      "FRITZ!Box 7490 at http://192.168.178.1\n",
      "FRITZ!OS: 7.60\n",
      "----------\n",
      "<class 'fritzconnection.core.fritzconnection.FritzConnection'>\n",
      "<class 'fritzconnection.lib.fritzhomeauto.FritzHomeAutomation'>\n"
     ]
    }
   ],
   "source": [
    "# get IP address, user name and password from config file\n",
    "with open(\"fritz_access.ini\",\"r\") as file:\n",
    "    config = json.load(file)\n",
    "fritzbox_ip = config['ip']\n",
    "fritzbox_user = config['user']\n",
    "fritzbox_pw = config['pw']\n",
    "# Note: fritz_access.ini is not provided to keep my data private\n",
    "# It is contains a single JSON dictionary of the following form\n",
    "# {\"ip\": \"<ip_address>\", \"user\": \"<user_name\", \"pw\": \"password\"}\n",
    "# You can also declare the variables manually\n",
    "\n",
    "# Connect to FritzBox\n",
    "fc = FritzConnection(address=fritzbox_ip, user=fritzbox_user, password=fritzbox_pw)\n",
    "# Connect to home automation services\n",
    "fh = FritzHomeAutomation(fc)\n",
    "\n",
    "# Print some information\n",
    "print(fc)\n",
    "print(\"-\"*10)\n",
    "print(type(fc))\n",
    "print(type(fh))"
   ]
  },
  {
   "cell_type": "markdown",
   "id": "85912c17",
   "metadata": {},
   "source": [
    "As you can see, `fritzconnection` provides classes called `FritzConnection` and `FritzHomeAutomation` to interact with the Fritz!Box and its home automation services. Similarly, there is a class `HomeAutomationDevice` for smart home devices such as switches, radiator controls, etc. We can conveniently create instances for all either all devices or only the switches using the functions below. I'll focus on the switches."
   ]
  },
  {
   "cell_type": "code",
   "execution_count": 3,
   "id": "2d65ca14",
   "metadata": {},
   "outputs": [
    {
     "name": "stdout",
     "output_type": "stream",
     "text": [
      "ain: 08761 0406876, AVM - FRITZ!DECT 200\n",
      "<class 'fritzconnection.lib.fritzhomeauto.HomeAutomationDevice'>\n"
     ]
    }
   ],
   "source": [
    "def getDectDevices(fh):\n",
    "    \"\"\"Obtain all smart home devices as HomeAutomationDevice() objects.\"\"\"\n",
    "    devices = fh.get_homeautomation_devices()\n",
    "    # devices = [device for device in devices if device.is_switchable]\n",
    "    devices = [device for device in devices if 'FRITZ!DECT' in device.ProductName]\n",
    "    return devices\n",
    "\n",
    "def getDectSwitches(fh):\n",
    "    \"\"\"Get only the smart switches as HomeAutomationDevice() objects.\"\"\"\n",
    "    devices = fh.get_homeautomation_devices()\n",
    "    switches = [device for device in devices if device.is_switchable]\n",
    "    return switches\n",
    "\n",
    "# get a list of HomeAutomationDevice() instances, one for each smart switch\n",
    "switches = getDectSwitches(fh)\n",
    "# print information\n",
    "first_switch = switches[0]\n",
    "print(first_switch)\n",
    "print(type(first_switch))"
   ]
  },
  {
   "cell_type": "markdown",
   "id": "9fc96272",
   "metadata": {},
   "source": [
    "The first line might be a little cryptic. So let's take a closer look at the `HomeAutomationDevice`class and print some attributes."
   ]
  },
  {
   "cell_type": "code",
   "execution_count": 4,
   "id": "7ae666cb",
   "metadata": {},
   "outputs": [
    {
     "name": "stdout",
     "output_type": "stream",
     "text": [
      "AIN             Device Name          Product Type\n",
      "------------------------------------------------------------\n",
      "08761 0406876   l'angolo del caffè   AVM FRITZ!DECT 200\n",
      "11630 0073749   TV etc               AVM FRITZ!DECT 200\n"
     ]
    }
   ],
   "source": [
    "header = f\"{\"AIN\":16}{\"Device Name\":21}{\"Product Type\"}\"\n",
    "print(header)\n",
    "print(\"-\" * 60)\n",
    "for switch in switches:\n",
    "    print(f\"{switch.identifier:16}{switch.DeviceName:21}{switch.Manufacturer:4}{switch.ProductName}\")"
   ]
  },
  {
   "cell_type": "markdown",
   "id": "7abfded5",
   "metadata": {},
   "source": [
    "The AIN is a unique identifier assigned to each smart home device which is used to communicate with the device. The device name is the user assigned name to the smart device. \n",
    "\n",
    "The `HomeAutomationClass`also has several methods. We will make use of the following:\n",
    "* `get_basic_device_stats()` returns a nested dictionary with various statistics recorded on the device (including power usage).\n",
    "* `get_switch_state()` returns the current switch state (`True` if on, `False` if off).\n",
    "* `set_switch(<boolean>)` sets the swtich state (`True` = on, `False` = off)."
   ]
  },
  {
   "cell_type": "markdown",
   "id": "70825f68",
   "metadata": {},
   "source": [
    "## \"Turn Off When Idle\" as a Class Method\n",
    "\n",
    "I will implement the desired function `turn_of_when_idle` as a method for a class `SmartSwitch` which \"manually inherits\" the relevant attributes and methods from the `HomeAutomationDevice` class. Here \"manual inheritance\" means that each instance of `SmartSwitch` holds an instance of `HomeAutomationDevice` as a private attribute from which some attributes are copied to the `SmartSwitch` instance. The reason for using the crux of \"manual inheritace\" is that the initialization of `HomeAutomationDevice` instances within `fritzconnection` is somewhat convoluted.\n",
    "\n",
    "The methods defined for `SmartSwitch` could easily be intergrated into `fritzconnection`. However, the methods are arguably too specialized to warrant the inclusion. "
   ]
  },
  {
   "cell_type": "markdown",
   "id": "9513262e",
   "metadata": {},
   "source": [
    "### An outline of the strategy\n",
    "Here is an outline of the strategy used to construct the `turn_of_when_idle` method:\n",
    "1. Request the most recent power record on the device and make sure it is reliable.\n",
    "2. Set up a request cycle parallel to the measurement cycle of the smart switch. As initial base time use the timestamp of the power record obtained in 1.\n",
    "3. Synchronize the request cycle with reasonbale accuracy to the measuring cycle by repeatedly checking the latency and adjusting the base time accordingly. The is done by approximating the offset of the actual time of measurement from the reported timestamp from below using a divide and conquer strategy and setting the offset for the request cycle accordingly while compensating for the request duration.\n",
    "\n",
    "The algorithm reliably results in power measurements with latency below 1 second. Since the request duration typically at least 0.7 seconds, this is close to optimal."
   ]
  },
  {
   "cell_type": "markdown",
   "id": "4e13775c",
   "metadata": {},
   "source": [
    "### Some helper functions\n",
    "\n",
    "It will be necessarily (and beneficial) to work with timestamps and timedeltas from the `datetime` library. For convenience, I will define two related functions: one that adjusts a given timestamp by a given number of seconds, and another one that formats a timestamp as a string of the form HH:MM:SS or HH:MM:SS.ddd... "
   ]
  },
  {
   "cell_type": "code",
   "execution_count": 5,
   "id": "00395a43",
   "metadata": {},
   "outputs": [],
   "source": [
    "def nudge_timestamp(timestamp,seconds):\n",
    "    \"\"\"Nudges a timestamp by a given number of seconds.\"\"\"\n",
    "    # create timedelta from seconds\n",
    "    timedelta= datetime.timedelta(seconds=seconds)\n",
    "    # add timedelta to timestamp\n",
    "    nudged_timestamp = timestamp + timedelta\n",
    "    return nudged_timestamp\n",
    "\n",
    "def print_timestamp(timestamp, dig=None):\n",
    "    \"\"\"Convert timestamp to a string in the format HH:MM:SS.digits with \n",
    "    digits controlling the number of digits for the seconds value.\"\"\"\n",
    "    try:\n",
    "        if dig == 0:\n",
    "            time_string = timestamp.strftime(\"%H:%M:%S\")\n",
    "        elif 0 < dig <=6:\n",
    "            time_string = timestamp.strftime(\"%H:%M:%S.%f\")[:dig-6]\n",
    "    except:\n",
    "        time_string = timestamp.strftime(\"%H:%M:%S.%f\")\n",
    "    return time_string"
   ]
  },
  {
   "cell_type": "markdown",
   "id": "e2cf9c23",
   "metadata": {},
   "source": [
    "### Definition of the SmartSwitch class\n"
   ]
  },
  {
   "cell_type": "code",
   "execution_count": 6,
   "id": "cfb6148c",
   "metadata": {},
   "outputs": [],
   "source": [
    "# from fritzconnection.lib.fritzhomeauto import HomeAutomationDevice\n",
    "\n",
    "class SmartSwitch():\n",
    "    \"\"\"Provides convenient methods to interact with Fritz!DECT smart switches. \n",
    "    Some methods and attributes are shared with the HomeAutomationDevice class\n",
    "    from the firtzconnection library.\n",
    "    \n",
    "    Attributes:\n",
    "    - __device: hidden atrribute holding an instance of HomeAutomationDevice\n",
    "    - ain: identifier used to communicate the the smart switch\n",
    "    - name: name of the smart switch as assigned by the used\n",
    "    - product_name: model name and number of the smart switch\n",
    "    - idle_threshold: threshold for power in idle state (measured in Watts)\n",
    "\n",
    "    Methods:\n",
    "    - is_switchable(): checks if the HomeAutomationDevice is actually a switch\n",
    "    - get_switch_state(): get the on/off status of the switch as a boolean\n",
    "    - set_switch(): changes the current switch state\n",
    "    - get_basic_device_stats(): get statistics recorded by the smart switch\n",
    "    - get_power_stats(): gets only the statistics related to power \n",
    "    - get_latest_power_record(): gets only the latest power record and related time information\n",
    "    - get_reliable_power_record(): specialized method to get a reliable power record\n",
    "    - get_next_power_record(): specialized method to schedule a new power record\n",
    "    - turn_off_if_idle(): checks if the switch is idle, and if so, turns it off\n",
    "    - turn_off_when_idle(): waits for the device to be reliably idle and turns it off\n",
    "    \"\"\"\n",
    "\n",
    "    def __init__(self,fritzdevice,idle_threshold=5):\n",
    "        # private attribute containing a HomeAutomationDevice() instance\n",
    "        self.__device = fritzdevice\n",
    "        # some attributes inherited from the HomeAutomationDevice() instance\n",
    "        self.identifier = self.__device.identifier\n",
    "        self.DeviceName = self.__device.DeviceName\n",
    "        self.model = f\"{self.__device.Manufacturer} {self.__device.ProductName}\"\n",
    "        # additional attribute: threshold for power in idle state (measured in Watts)\n",
    "        self.idle_threshold = idle_threshold\n",
    "    \n",
    "    def __str__(self):\n",
    "        return f\"{self.DeviceName} ({self.model}, AIN: {self.identifier})\"\n",
    "\n",
    "    # some methods inherited from the HomeAutomationDevice() instance\n",
    "    def is_switchable(self):\n",
    "        return self.__device.is_switchable()\n",
    "    def get_switch_state(self):\n",
    "        return self.__device.get_switch_state()\n",
    "    def set_switch(self,arg):\n",
    "        return self.__device.set_switch(arg)\n",
    "    def get_basic_device_stats(self):\n",
    "        return self.__device.get_basic_device_stats()\n",
    "    \n",
    "    # some customized methods\n",
    "    def get_power_stats(self):\n",
    "        \"\"\"Get the power statistics recorded by the smart switch.\"\"\"\n",
    "        power_stats = self.__device.get_basic_device_stats()['power']\n",
    "        return power_stats\n",
    "    \n",
    "    def get_latest_power_record(self):\n",
    "        \"\"\"Returns information regarding the latest power value recorded\n",
    "        by a FritzDECT device.\n",
    "\n",
    "        Returns:\n",
    "            info : dictionary containing the following information:\n",
    "                'power' : lastest power value recorded by device\n",
    "                'record time' : timestamp of record\n",
    "                'request time' : timestamp of request\n",
    "                'repsonse time' : timestamp of response\n",
    "                'duration' : time between request and response in seconds\n",
    "                'latency' : time between record time and response in seconds\n",
    "        \"\"\"\n",
    "        # Get timestamp of request time\n",
    "        request_time = datetime.datetime.now()\n",
    "        # Get stats\n",
    "        power_stats = self.get_power_stats()\n",
    "        # Get timestamp of response time\n",
    "        response_time = datetime.datetime.now()\n",
    "        # Extract latest power record and convert to Watt\n",
    "        # (Note: power is recorded as integer multiple of 0.01 W)\n",
    "        power = power_stats['data'][0] / 100\n",
    "        # Extract time stamp of record\n",
    "        record_time = power_stats['datatime']\n",
    "        # Compute latency and duration\n",
    "        duration = (response_time - request_time).total_seconds()\n",
    "        latency = (response_time - record_time).total_seconds()\n",
    "        # Package the information in dictionary and return\n",
    "        data = {\n",
    "            'power' : power,\n",
    "            'record time' : record_time,\n",
    "            'request time' : request_time,\n",
    "            'response time' : response_time,\n",
    "            'duration' : duration,\n",
    "            'latency' : latency,\n",
    "        }\n",
    "        return data\n",
    "    \n",
    "    def get_reliable_power_record(self, interval=2):\n",
    "        \"\"\"Returns a reliable power record. \n",
    "        \n",
    "        Explanation:\n",
    "        Note that .get_latest_power_record() does not always give reliable \n",
    "        information after no power stats have been requested from the device \n",
    "        in a while. This can be seen by an outdated timestamp in the power \n",
    "        record. The way out is to send a few requests a few seconds apart \n",
    "        until the timestamp changes. This process may take up to ~12 seconds.\n",
    "\n",
    "        Arguments:\n",
    "        - interval: time to pause until the next request\n",
    "        Returns:\n",
    "        - power_record: a power record as returned by .get_latest_power_record()\n",
    "        \"\"\"\n",
    "        # get initial power record and extract its timestamp\n",
    "        power_record = self.get_latest_power_record()\n",
    "        init_time = power_record['record time']\n",
    "        # do the same once more right away\n",
    "        power_record = self.get_latest_power_record()\n",
    "        next_time = power_record['record time']\n",
    "        # unless the timestamp has changed, way a bit and repeat until it changes\n",
    "        while next_time == init_time:\n",
    "            time.sleep(interval)\n",
    "            power_record = self.get_latest_power_record()\n",
    "            next_time = power_record['record time']\n",
    "        # return the final power record\n",
    "        return power_record\n",
    "    \n",
    "    def get_next_power_record(self, base_time, cycle=10):\n",
    "        \"\"\"Schedules the next iteration in a cycle of power record requests\n",
    "        starting at a given timestamp (base_time) repeating every (cycle) seconds.\n",
    "\n",
    "        Arguments:\n",
    "        - base_time: the timestamp of the start of the cycle\n",
    "        - cycle: the cycle length in seconds\n",
    "        Returns:\n",
    "        - power_record: a power record as returned by .get_latest_power_record()\n",
    "        \"\"\"\n",
    "        exec_time = base_time\n",
    "        while exec_time < datetime.datetime.now():\n",
    "            exec_time += datetime.timedelta(seconds=cycle)\n",
    "        sleep_time = (exec_time - datetime.datetime.now()).total_seconds()\n",
    "        time.sleep(sleep_time)\n",
    "        power_record = self.get_latest_power_record()\n",
    "        return power_record\n",
    "\n",
    "\n",
    "    def turn_off_if_idle(self,power_record,allowed_latency=2.5):\n",
    "        \"\"\"Check if the switch was reported idle with an acceptable latency, and if so, \n",
    "        turn it off.\n",
    "        \n",
    "        Arguments:\n",
    "        - power_record: a power record as returned by .get_latest_power_record()\n",
    "        - allowed_latency: maximal latency considered to be reliable\n",
    "        Returns:\n",
    "        - boolean indicating the final switch state (True indicates that)\n",
    "        \"\"\"\n",
    "        # compare the power record to the idle threshold\n",
    "        device_idle = power_record['power'] < self.idle_threshold\n",
    "        # check the latency against \n",
    "        latency_ok = 0 < power_record['latency'] < allowed_latency\n",
    "        # act accordingly\n",
    "        if device_idle and latency_ok:\n",
    "            self.set_switch(False)\n",
    "            return False\n",
    "        else:\n",
    "            return True\n",
    "        \n",
    "    def turn_off_when_idle(self, allowed_latency:float=1, cycle_detection_precision:int=2, silent:bool = True) -> None:\n",
    "        \"\"\"Turns the switch off only when a power record with acceptable latency\n",
    "        indicates idle state. \n",
    "\n",
    "        The strategy is to set up a request cycle that and synchronize it to\n",
    "        the power measurement cycle of the switch. The latter is approximated \n",
    "        with the specified precision using a divide and conquer strategy.\n",
    "\n",
    "        Arguments:\n",
    "        - allowed_latency: sets the maximal allowed latency in seconds (default: 1)\n",
    "        - cycle_detection_precision: determines the precision of the approximation\n",
    "        as 10**(-cycle_detection_precision)\n",
    "        - silent: controls if status updates are given as console output\n",
    "        Returns:\n",
    "        - None\n",
    "        \"\"\"\n",
    "        # Help functions for console output\n",
    "        def _status_update(status_string:str)->None:\n",
    "            \"\"\"Print input string to console if silent==False.\"\"\"\n",
    "            if not silent:\n",
    "                print(status_string)\n",
    "        def _power_update(power_record:dict,initial:bool=False)->None:\n",
    "            \"\"\"Print formatted extract of power record.\"\"\"\n",
    "            power = f\"{power_record['power']:7.2f} W\"\n",
    "            record_time = print_timestamp(power_record['record time'],dig=0)\n",
    "            request_time = print_timestamp(power_record['request time'],dig=cycle_detection_precision)\n",
    "            latency = f\"{power_record['latency']:5.2f} s\"\n",
    "            if initial:\n",
    "                status_string = f\"Power: {power:12} Latency: {latency:10} Record Time: {record_time}\"\n",
    "            else:\n",
    "                status_string = f\"Power: {power:12} Latency: {latency:10} Request Time: {request_time:15} (Current Precision: {increment:0.{cycle_detection_precision}f} s)\"\n",
    "            _status_update(status_string)\n",
    "        def _power_off_update(switch_is_on:bool)->None:\n",
    "            \"\"\"Power off notification.\"\"\"\n",
    "            if not switch_is_on:\n",
    "                _status_update(\"Device reported idle with low latency. Turning off...\")\n",
    "\n",
    "        ## MAIN ROUTINE\n",
    "        # check if switch is on\n",
    "        switch_is_on = self.get_switch_state()\n",
    "        # if not, do nothing\n",
    "        if not switch_is_on:\n",
    "            _status_update(f\"{self.DeviceName} is already off.\")\n",
    "            return\n",
    "        # get first reliable power record\n",
    "        _status_update(\"REQUESTING INITIAL POWER RECORD...\") \n",
    "        power_record = self.get_reliable_power_record()\n",
    "        _power_update(power_record, initial=True)\n",
    "        # check if switch is idle with near optimal latency\n",
    "        switch_is_on = self.turn_off_if_idle(power_record,allowed_latency=0.5)\n",
    "        _power_off_update(switch_is_on)\n",
    "\n",
    "        # start detection loop\n",
    "        # set initial base time of detection loop to latest power record time\n",
    "        base_time = power_record['record time']\n",
    "        # initialize parameters to adjust base time for detection\n",
    "        offset = 0\n",
    "        lower_bound = -1\n",
    "        increment = 1/4\n",
    "        precision_is_low = increment > 10**(-cycle_detection_precision)\n",
    "        _status_update(\"STARTING MAIN LOOP...\")\n",
    "        while switch_is_on:\n",
    "            # get next power record\n",
    "            power_record = self.get_next_power_record(base_time)\n",
    "            _power_update(power_record)\n",
    "            # extract information\n",
    "            record_time = power_record['record time']\n",
    "            latency = power_record['latency']\n",
    "            # check if switch is reported idle with allowed latency, if so, turn off\n",
    "            switch_is_on = self.turn_off_if_idle(power_record,allowed_latency)\n",
    "            _power_off_update(switch_is_on)\n",
    "            # adjust parameters if needed\n",
    "            # at this point the latency should be between 0 and 12.5 seconds\n",
    "            # latency 10 or higher indicates that the request was sent too soon\n",
    "            if 9 < latency < 12.5:\n",
    "                # adjust offset and its lower bound accordingly\n",
    "                lower_bound = max([offset,lower_bound])\n",
    "                offset += increment\n",
    "            # in case of reasonably low latency, keep the lower bound, and reduce\n",
    "            # the offset. \n",
    "            elif 0 < latency < 2.5:\n",
    "                precision_can_be_increased = offset - increment == lower_bound\n",
    "                if precision_is_low and precision_can_be_increased:\n",
    "                    increment /= 2\n",
    "                offset -= increment\n",
    "            # in all other cases, something went wrong and the offset is reset to 0\n",
    "            else:\n",
    "                offset = 0\n",
    "            # update the base time of the detection cycle\n",
    "            base_time = nudge_timestamp(record_time,seconds=offset)\n"
   ]
  },
  {
   "cell_type": "markdown",
   "id": "a88aca3c",
   "metadata": {},
   "source": [
    "### A test run\n"
   ]
  },
  {
   "cell_type": "markdown",
   "id": "cb91a8f2",
   "metadata": {},
   "source": [
    "Let's try to get an example of an \"unreliable first power record\""
   ]
  },
  {
   "cell_type": "code",
   "execution_count": 7,
   "id": "2f48b55f",
   "metadata": {},
   "outputs": [
    {
     "data": {
      "text/plain": [
       "{'power': 428.0,\n",
       " 'record time': datetime.datetime(2025, 5, 27, 16, 11, 59),\n",
       " 'request time': datetime.datetime(2025, 5, 27, 16, 12, 3, 256199),\n",
       " 'response time': datetime.datetime(2025, 5, 27, 16, 12, 5, 821379),\n",
       " 'duration': 2.56518,\n",
       " 'latency': 6.821379}"
      ]
     },
     "execution_count": 7,
     "metadata": {},
     "output_type": "execute_result"
    }
   ],
   "source": [
    "test_run = SmartSwitch(first_switch)\n",
    "\n",
    "test_run.get_latest_power_record()"
   ]
  },
  {
   "cell_type": "markdown",
   "id": "ac4a0040",
   "metadata": {},
   "source": [
    "And now a demonstration of the main function."
   ]
  },
  {
   "cell_type": "code",
   "execution_count": 8,
   "id": "3eccb229",
   "metadata": {},
   "outputs": [
    {
     "name": "stdout",
     "output_type": "stream",
     "text": [
      "REQUESTING INITIAL POWER RECORD...\n",
      "Power:  427.36 W    Latency:  1.42 s    Record Time: 16:12:15\n",
      "STARTING MAIN LOOP...\n",
      "Power:  427.36 W    Latency: 10.82 s    Request Time: 16:12:25.000    (Current Precision: 0.250 s)\n",
      "Power:    2.93 W    Latency:  1.06 s    Request Time: 16:12:35.250    (Current Precision: 0.250 s)\n",
      "Power:    3.07 W    Latency:  0.95 s    Request Time: 16:12:45.125    (Current Precision: 0.125 s)\n",
      "Device reported idle with low latency. Turning off...\n"
     ]
    }
   ],
   "source": [
    "test_run.turn_off_when_idle(silent=False, allowed_latency=1, cycle_detection_precision=3)"
   ]
  },
  {
   "cell_type": "markdown",
   "id": "ad9836a4",
   "metadata": {},
   "source": [
    "# Comments on the current version\n",
    "\n",
    "* As it stands, `turn_off_when_idle` can take quiet some time. For example, if the switch is currently not idle the main loop run will not time out by itself. And even if the switch is idle, if few iterations are needed to achieve low latency measurements. However, it does appear to do the job that it's supposed to do.\n",
    "* The \"manual inheritance\" is not the most elegant concept. Maybe there is a better solution."
   ]
  },
  {
   "cell_type": "markdown",
   "id": "e2451568",
   "metadata": {},
   "source": [
    "# Possible plans for the future\n",
    "\n",
    "* Add time out feature to `turn_off_when_idle`.\n",
    "* Add more specialized methods to `SmartSwitch` for monitoring and plotting power recods\n",
    "* Find a way to change the \"switch mode\" from manual and automatic. Unfortunately, this is currently not possible using `fritzconnection'. And I'm not sure if it is documented how the official Fritz!Box interfaces achieve this. In the worst case, some minor network packet sniffing will be my best shot. \n",
    "* Along the same lines, it would be great to create a \"gone for the weekend\" template for the entire smart home setup. \n",
    "* Add GUI and create stand-alone executable."
   ]
  }
 ],
 "metadata": {
  "kernelspec": {
   "display_name": "Python 3",
   "language": "python",
   "name": "python3"
  },
  "language_info": {
   "codemirror_mode": {
    "name": "ipython",
    "version": 3
   },
   "file_extension": ".py",
   "mimetype": "text/x-python",
   "name": "python",
   "nbconvert_exporter": "python",
   "pygments_lexer": "ipython3",
   "version": "3.13.1"
  }
 },
 "nbformat": 4,
 "nbformat_minor": 5
}
