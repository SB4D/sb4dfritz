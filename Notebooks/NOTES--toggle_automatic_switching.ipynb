{
 "cells": [
  {
   "cell_type": "markdown",
   "id": "6709a15c",
   "metadata": {},
   "source": [
    "# Toggle Automatic Switching: Is it possible?\n",
    "\n",
    "*(July 4, 2025 - by Stefan Behrens)*\n",
    "\n",
    "This will only be interesting for people who are running home automation devices using an AVM FRITZ!Box router. Specifically, this concerns smart plugs from the AVM FRITZ! product line. These can operate as timer switches with user specified on and off periods (specified per week day). I'm using the timer switch feature for my espresso machine, which needs to heat up for ~15 minutes before use, to have it ready when I need it (especially in the morning). Since I regularly commute on weekends, I have to toggle timer switching off when I leave and back on when I return home. \n",
    "\n",
    "Unfortunately, at this point (July 4, 2025) neither the official FRITZ! Smart Home app (for Android) nor the `fritzconnection` API for Python offern an easy way to change these settings. I have to log into the FRITZ!Box web interface every single time, browse through various menus and tabs, scroll down to find a check box to toggle the timer switch, click it, and then click 'Confirm Changes'. This is rather tedious and I would like to have an easier  solution, ideally a one-click solution.\n",
    "\n",
    "When I first came across `fritzconnection`, I was initially hoping to find a way to make these changes. But I soon realized that it's currently (again, July 4, 2025) only possible to *get* the current timer switch state ('automatic' or 'manual'), not to *set* is. Ever since then, I've been curious to find a way to do this myself.\n",
    "\n",
    "At some point, I dared to take a look under the hood of `fritzconnection` but I soon realized that my network communication skills were not up to the task, yet. Nevertheless, I'm convinced that there's a way to do this. After all, the timer information must leave my browser in one way or another to find its way to the FRITZ!Box. If only I knew how this worked already... Since I don't, I'll have to figure it out. On the plus side, this should give me the chance to improve my network communication skills. So let's go!"
   ]
  },
  {
   "cell_type": "markdown",
   "id": "a6727ee4",
   "metadata": {},
   "source": [
    "## Google Chrome to the rescue\n",
    "\n",
    "At first I thought that I would need to use something like Wireshark to track down the packets containing the information sent from my browser to the FRITZ!Box. But then I realized that said browser, Google Chrome, might be enough. In fact, if you're also using Chrome and have never pressed F12 before (or clicked 'Inspect' after right clicking something), you're in for a treat. This makes the **Chrome DevTools Console** appear which contains all kinds of information about whatever is going on in open tabs. \n",
    "\n",
    "In particular, the **Network** tab in the DevTools console provides a log of pretty much everything that Chrome receives or sends. Finding the messages for toggling the timer switch setting was suprisingly easy. Unfortunately, making sense of it still isn't. Here's what the messages look like (copied using *'Copy as fetch'*): "
   ]
  },
  {
   "cell_type": "markdown",
   "id": "bbfb07f7",
   "metadata": {},
   "source": [
    "```python\n",
    "# Example: Toggling the automatic switching option _on_\n",
    "fetch(\"http://fritz.box/data.lua\", {\n",
    "  \"headers\": {\n",
    "    \"accept\": \"*/*\",\n",
    "    \"accept-language\": \"en-US,en;q=0.9,de;q=0.8,nl;q=0.7,fr;q=0.6\",\n",
    "    \"content-type\": \"application/x-www-form-urlencoded\"\n",
    "  },\n",
    "  \"referrer\": \"http://fritz.box/\",\n",
    "  \"body\": \"xhr=1&sid=249cfb15ebf855ce&device=16&view=&back_to_page=%2Fsmarthome%2Fdevices.lua&switchtimer=weekly&graphState=1&timer_item_0=0730%3B1%3B31&timer_item_1=1100%3B0%3B31&timer_item_2=1300%3B1%3B31&timer_item_3=1430%3B0%3B31&timer_item_4=1600%3B1%3B31&timer_item_5=1700%3B0%3B31&timer_item_6=0800%3B1%3B96&timer_item_7=1145%3B0%3B96&timer_item_8=1315%3B1%3B96&timer_item_9=1645%3B0%3B96&zufall_from_day=5&zufall_from_month=7&zufall_from_year=2025&zufall_to_day=11&zufall_to_month=7&zufall_to_year=2025&zufall_from_hh=8&zufall_from_mm=00&zufall_to_hh=18&zufall_to_mm=00&zufall_duration=60&countdown_onoff=0&countdown_off_hh=0&countdown_off_mm=0&rythmisch_on=0&rythmisch_off=0&single_onoff=1&single_day=5&single_month=7&single_year=2025&single_hh=17&single_mm=15&single_duration=-1&latitude=52%2C52&longitude=13%2C34&sunset_on_relative=00%3A00&sunset_off_relative=00%3A00&sunset_off_duration=00%3A00&sunrise_on_relative=00%3A00&sunrise_off_relative=00%3A00&sunrise_off_duration=00%3A00&calendarname=&stand_by_power=&stand_by_duration=&apply=&lang=de&page=home_auto_timer_view\",\n",
    "  \"method\": \"POST\",\n",
    "  \"mode\": \"cors\",\n",
    "  \"credentials\": \"omit\"\n",
    "});\n",
    "\n",
    "# Example: Toggling the automatic switching option _off_\n",
    "fetch(\"http://fritz.box/data.lua\", {\n",
    "  \"headers\": {\n",
    "    \"accept\": \"*/*\",\n",
    "    \"accept-language\": \"en-US,en;q=0.9,de;q=0.8,nl;q=0.7,fr;q=0.6\",\n",
    "    \"content-type\": \"application/x-www-form-urlencoded\"\n",
    "  },\n",
    "  \"referrer\": \"http://fritz.box/\",\n",
    "  \"body\": \"xhr=1&sid=249cfb15ebf855ce&device=16&view=&back_to_page=%2Fsmarthome%2Fdevices.lua&switchautomatic=on&switchtimer=weekly&graphState=1&timer_item_0=0730%3B1%3B31&timer_item_1=1100%3B0%3B31&timer_item_2=1300%3B1%3B31&timer_item_3=1430%3B0%3B31&timer_item_4=1600%3B1%3B31&timer_item_5=1700%3B0%3B31&timer_item_6=0800%3B1%3B96&timer_item_7=1145%3B0%3B96&timer_item_8=1315%3B1%3B96&timer_item_9=1645%3B0%3B96&zufall_from_day=5&zufall_from_month=7&zufall_from_year=2025&zufall_to_day=11&zufall_to_month=7&zufall_to_year=2025&zufall_from_hh=8&zufall_from_mm=00&zufall_to_hh=18&zufall_to_mm=00&zufall_duration=60&countdown_onoff=0&countdown_off_hh=0&countdown_off_mm=0&rythmisch_on=0&rythmisch_off=0&single_onoff=1&single_day=5&single_month=7&single_year=2025&single_hh=17&single_mm=16&single_duration=-1&latitude=52%2C52&longitude=13%2C34&sunset_on_relative=00%3A00&sunset_off_relative=00%3A00&sunset_off_duration=00%3A00&sunrise_on_relative=00%3A00&sunrise_off_relative=00%3A00&sunrise_off_duration=00%3A00&calendarname=&stand_by_power=&stand_by_duration=&apply=&lang=de&page=home_auto_timer_view\",\n",
    "  \"method\": \"POST\",\n",
    "  \"mode\": \"cors\",\n",
    "  \"credentials\": \"omit\"\n",
    "});\n",
    "```"
   ]
  },
  {
   "cell_type": "markdown",
   "id": "571c020f",
   "metadata": {},
   "source": [
    "Good news: This looks Python compatible. Let's go ahead and extract the apparent dictionaries passed to the second argument of `fetch` and take a closer look at the long string in the `body` part which contains the interesting information."
   ]
  },
  {
   "cell_type": "code",
   "execution_count": 22,
   "id": "e15e1e7a",
   "metadata": {},
   "outputs": [
    {
     "name": "stdout",
     "output_type": "stream",
     "text": [
      "Lenght of toggle_off_settings: 54\n",
      "Lenght of toggle_on_settings:  55\n",
      "['xhr=1']\n",
      "['sid=249cfb15ebf855ce']\n",
      "['device=16']\n",
      "['view=']\n",
      "['back_to_page=%2Fsmarthome%2Fdevices.lua']\n",
      "['switchautomatic=on']\n",
      "['switchtimer=weekly']\n",
      "['graphState=1']\n",
      "['timer_item_0=0730%3B1%3B31']\n",
      "['timer_item_1=1100%3B0%3B31']\n",
      "['timer_item_2=1300%3B1%3B31']\n",
      "['timer_item_3=1430%3B0%3B31']\n",
      "['timer_item_4=1600%3B1%3B31']\n",
      "['timer_item_5=1700%3B0%3B31']\n",
      "['timer_item_6=0800%3B1%3B96']\n",
      "['timer_item_7=1145%3B0%3B96']\n",
      "['timer_item_8=1315%3B1%3B96']\n",
      "['timer_item_9=1645%3B0%3B96']\n",
      "['zufall_from_day=5']\n",
      "['zufall_from_month=7']\n",
      "['zufall_from_year=2025']\n",
      "['zufall_to_day=11']\n",
      "['zufall_to_month=7']\n",
      "['zufall_to_year=2025']\n",
      "['zufall_from_hh=8']\n",
      "['zufall_from_mm=00']\n",
      "['zufall_to_hh=18']\n",
      "['zufall_to_mm=00']\n",
      "['zufall_duration=60']\n",
      "['countdown_onoff=0']\n",
      "['countdown_off_hh=0']\n",
      "['countdown_off_mm=0']\n",
      "['rythmisch_on=0']\n",
      "['rythmisch_off=0']\n",
      "['single_onoff=1']\n",
      "['single_day=5']\n",
      "['single_month=7']\n",
      "['single_year=2025']\n",
      "['single_hh=17']\n",
      "['single_mm=16']\n",
      "['single_duration=-1']\n",
      "['latitude=52%2C52']\n",
      "['longitude=13%2C34']\n",
      "['sunset_on_relative=00%3A00']\n",
      "['sunset_off_relative=00%3A00']\n",
      "['sunset_off_duration=00%3A00']\n",
      "['sunrise_on_relative=00%3A00']\n",
      "['sunrise_off_relative=00%3A00']\n",
      "['sunrise_off_duration=00%3A00']\n",
      "['calendarname=']\n",
      "['stand_by_power=']\n",
      "['stand_by_duration=']\n",
      "['apply=']\n",
      "['lang=de']\n",
      "['page=home_auto_timer_view']\n"
     ]
    }
   ],
   "source": [
    "toggle_off = {\n",
    "  \"headers\": {\n",
    "    \"accept\": \"*/*\",\n",
    "    \"accept-language\": \"en-US,en;q=0.9,de;q=0.8,nl;q=0.7,fr;q=0.6\",\n",
    "    \"content-type\": \"application/x-www-form-urlencoded\"\n",
    "  },\n",
    "  \"referrer\": \"http://fritz.box/\",\n",
    "  \"body\": \"xhr=1&sid=249cfb15ebf855ce&device=16&view=&back_to_page=%2Fsmarthome%2Fdevices.lua&switchtimer=weekly&graphState=1&timer_item_0=0730%3B1%3B31&timer_item_1=1100%3B0%3B31&timer_item_2=1300%3B1%3B31&timer_item_3=1430%3B0%3B31&timer_item_4=1600%3B1%3B31&timer_item_5=1700%3B0%3B31&timer_item_6=0800%3B1%3B96&timer_item_7=1145%3B0%3B96&timer_item_8=1315%3B1%3B96&timer_item_9=1645%3B0%3B96&zufall_from_day=5&zufall_from_month=7&zufall_from_year=2025&zufall_to_day=11&zufall_to_month=7&zufall_to_year=2025&zufall_from_hh=8&zufall_from_mm=00&zufall_to_hh=18&zufall_to_mm=00&zufall_duration=60&countdown_onoff=0&countdown_off_hh=0&countdown_off_mm=0&rythmisch_on=0&rythmisch_off=0&single_onoff=1&single_day=5&single_month=7&single_year=2025&single_hh=17&single_mm=15&single_duration=-1&latitude=52%2C52&longitude=13%2C34&sunset_on_relative=00%3A00&sunset_off_relative=00%3A00&sunset_off_duration=00%3A00&sunrise_on_relative=00%3A00&sunrise_off_relative=00%3A00&sunrise_off_duration=00%3A00&calendarname=&stand_by_power=&stand_by_duration=&apply=&lang=de&page=home_auto_timer_view\",\n",
    "  \"method\": \"POST\",\n",
    "  \"mode\": \"cors\",\n",
    "  \"credentials\": \"omit\"\n",
    "}\n",
    "\n",
    "toggle_on = {\n",
    "  \"headers\": {\n",
    "    \"accept\": \"*/*\",\n",
    "    \"accept-language\": \"en-US,en;q=0.9,de;q=0.8,nl;q=0.7,fr;q=0.6\",\n",
    "    \"content-type\": \"application/x-www-form-urlencoded\"\n",
    "  },\n",
    "  \"referrer\": \"http://fritz.box/\",\n",
    "  \"body\": \"xhr=1&sid=249cfb15ebf855ce&device=16&view=&back_to_page=%2Fsmarthome%2Fdevices.lua&switchautomatic=on&switchtimer=weekly&graphState=1&timer_item_0=0730%3B1%3B31&timer_item_1=1100%3B0%3B31&timer_item_2=1300%3B1%3B31&timer_item_3=1430%3B0%3B31&timer_item_4=1600%3B1%3B31&timer_item_5=1700%3B0%3B31&timer_item_6=0800%3B1%3B96&timer_item_7=1145%3B0%3B96&timer_item_8=1315%3B1%3B96&timer_item_9=1645%3B0%3B96&zufall_from_day=5&zufall_from_month=7&zufall_from_year=2025&zufall_to_day=11&zufall_to_month=7&zufall_to_year=2025&zufall_from_hh=8&zufall_from_mm=00&zufall_to_hh=18&zufall_to_mm=00&zufall_duration=60&countdown_onoff=0&countdown_off_hh=0&countdown_off_mm=0&rythmisch_on=0&rythmisch_off=0&single_onoff=1&single_day=5&single_month=7&single_year=2025&single_hh=17&single_mm=16&single_duration=-1&latitude=52%2C52&longitude=13%2C34&sunset_on_relative=00%3A00&sunset_off_relative=00%3A00&sunset_off_duration=00%3A00&sunrise_on_relative=00%3A00&sunrise_off_relative=00%3A00&sunrise_off_duration=00%3A00&calendarname=&stand_by_power=&stand_by_duration=&apply=&lang=de&page=home_auto_timer_view\",\n",
    "  \"method\": \"POST\",\n",
    "  \"mode\": \"cors\",\n",
    "  \"credentials\": \"omit\"\n",
    "}\n",
    "\n",
    "# extract 'body' string and split at '&'\n",
    "toggle_off_settings = toggle_off[\"body\"].split(\"&\")\n",
    "toggle_on_settings = toggle_on[\"body\"].split(\"&\")\n",
    "# print info about toggle_on_settings\n",
    "print(\"Lenght of toggle_off_settings:\", len(toggle_off_settings)) # --> 55\n",
    "print(\"Lenght of toggle_on_settings: \", len(toggle_on_settings)) # --> 54\n",
    "for info in toggle_on_settings:\n",
    "    print([info])"
   ]
  },
  {
   "cell_type": "markdown",
   "id": "5f7704bd",
   "metadata": {},
   "source": [
    "What to take away from this? Well, there are a couple of surprises:\n",
    "* The messages contain not one but **over 50** settings! This might be the reason why it is not that easy to change the automatic switching state individually.\n",
    "* I'm not sure if I've seen this many options in the web interface. I recognize some, but not all. \n",
    "* As a side note, the message contains an amusing mix of English and German. \n",
    "\n",
    "Unfortunately, I don't recognize the automatic switching state toggle. Since I'm only changing one thing, I'm expecting that both messages (on and off) share most entries. Let'S try to find the differeces:"
   ]
  },
  {
   "cell_type": "code",
   "execution_count": 23,
   "id": "33efa5b3",
   "metadata": {},
   "outputs": [
    {
     "data": {
      "text/plain": [
       "['switchautomatic=on', 'single_mm=16']"
      ]
     },
     "execution_count": 23,
     "metadata": {},
     "output_type": "execute_result"
    }
   ],
   "source": [
    "# entries in toggle_on_settings but not in toggle_off_settings:\n",
    "[entry for entry in toggle_on_settings if not entry in toggle_off_settings]"
   ]
  },
  {
   "cell_type": "code",
   "execution_count": 24,
   "id": "32dee218",
   "metadata": {},
   "outputs": [
    {
     "data": {
      "text/plain": [
       "['single_mm=15']"
      ]
     },
     "execution_count": 24,
     "metadata": {},
     "output_type": "execute_result"
    }
   ],
   "source": [
    "# entries in toggle_off_settings but not in toggle_on_settings:\n",
    "[entry for entry in toggle_off_settings if not entry in toggle_on_settings]"
   ]
  },
  {
   "cell_type": "markdown",
   "id": "ec5fff70",
   "metadata": {},
   "source": [
    "More surprises and some confusion:\n",
    "* The meaning of `'switchautomatic=on'` is clear. But why is there no `'switchautomatic=off'`?\n",
    "* And what the hell is `single_mm` supposed to do?\n",
    "\n",
    "Well, I don't know about you, but I've seen enough for today. "
   ]
  },
  {
   "cell_type": "markdown",
   "id": "de010f28",
   "metadata": {},
   "source": [
    "### Summary and conclusions:\n",
    "\n",
    "* The Chrome DevTools Console is even more useful than I thought.\n",
    "* The automatic switching state cannot be changed individually. Over 50 other settings are involved.\n",
    "* If I want to change only the automatic switching state, I first have to retrieve *all* involved settings. \n",
    "* I *might* be able to add this feature to `fritzconnection`, but I'll have to put in a good amount of work.\n",
    "* I might also try to get in touch with the developer of `fritzconnection`.\n",
    "\n",
    "*(to be continued...)*\n"
   ]
  }
 ],
 "metadata": {
  "kernelspec": {
   "display_name": "Python 3",
   "language": "python",
   "name": "python3"
  },
  "language_info": {
   "codemirror_mode": {
    "name": "ipython",
    "version": 3
   },
   "file_extension": ".py",
   "mimetype": "text/x-python",
   "name": "python",
   "nbconvert_exporter": "python",
   "pygments_lexer": "ipython3",
   "version": "3.13.5"
  }
 },
 "nbformat": 4,
 "nbformat_minor": 5
}
